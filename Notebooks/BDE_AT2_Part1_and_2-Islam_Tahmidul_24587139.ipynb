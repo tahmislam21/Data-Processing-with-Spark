{
 "cells": [
  {
   "cell_type": "code",
   "execution_count": 0,
   "metadata": {
    "application/vnd.databricks.v1+cell": {
     "cellMetadata": {
      "byteLimit": 2048000,
      "rowLimit": 10000
     },
     "inputWidgets": {},
     "nuid": "bb59b2e7-dd12-4847-af22-f294c04c82ef",
     "showTitle": false,
     "title": ""
    }
   },
   "outputs": [],
   "source": [
    "storage_account_name = \"utsdbetahmid\"\n",
    "storage_account_access_key = \"PmPFnutaxDfFU2jXf/LUPiWNmqxD9RDEYxt8R3LrdftAXkiCxuGMx2pJuY3d/gFMg8mFspW5Fx10+AStulpypQ==\"\n",
    "blob_container_name = \"bde-at2\""
   ]
  },
  {
   "cell_type": "code",
   "execution_count": 0,
   "metadata": {
    "application/vnd.databricks.v1+cell": {
     "cellMetadata": {
      "byteLimit": 2048000,
      "rowLimit": 10000
     },
     "inputWidgets": {},
     "nuid": "7e938283-f0c9-4564-a85b-170e182833ec",
     "showTitle": false,
     "title": ""
    }
   },
   "outputs": [],
   "source": [
    "dbutils.fs.mount(\n",
    "   # source = f'wasbs://{blob_container_name}@{storage_account_name}.blob.core.windows.net',\n",
    "    #mount_point = f'/mnt/{blob_container_name}/',\n",
    "    #extra_configs = {'fs.azure.account.key.' + storage_account_name + '.blob.core.windows.net': storage_account_access_key}\n",
    ")"
   ]
  },
  {
   "cell_type": "code",
   "execution_count": 0,
   "metadata": {
    "application/vnd.databricks.v1+cell": {
     "cellMetadata": {
      "byteLimit": 2048000,
      "rowLimit": 10000
     },
     "inputWidgets": {},
     "nuid": "4d6c0f3a-8c86-4063-adfb-90be94af8796",
     "showTitle": false,
     "title": ""
    }
   },
   "outputs": [],
   "source": [
    "df_green = spark.read.parquet(\"/FileStore/green\")"
   ]
  },
  {
   "cell_type": "code",
   "execution_count": 0,
   "metadata": {
    "application/vnd.databricks.v1+cell": {
     "cellMetadata": {
      "byteLimit": 2048000,
      "rowLimit": 10000
     },
     "inputWidgets": {},
     "nuid": "e92e5d9a-0b8c-4c31-9403-5462b2c55b04",
     "showTitle": false,
     "title": ""
    }
   },
   "outputs": [],
   "source": [
    "df_yellow = spark.read.parquet(\"/FileStore/yellow\")"
   ]
  },
  {
   "cell_type": "code",
   "execution_count": 0,
   "metadata": {
    "application/vnd.databricks.v1+cell": {
     "cellMetadata": {
      "byteLimit": 2048000,
      "rowLimit": 10000
     },
     "inputWidgets": {},
     "nuid": "0a65d1c9-2205-4ce8-b242-06a3a4ae43c5",
     "showTitle": false,
     "title": ""
    }
   },
   "outputs": [
    {
     "output_type": "stream",
     "name": "stdout",
     "output_type": "stream",
     "text": [
      "Out[40]: 66200401"
     ]
    }
   ],
   "source": [
    "df_green.count()"
   ]
  },
  {
   "cell_type": "code",
   "execution_count": 0,
   "metadata": {
    "application/vnd.databricks.v1+cell": {
     "cellMetadata": {
      "byteLimit": 2048000,
      "rowLimit": 10000
     },
     "inputWidgets": {},
     "nuid": "46a1ec82-c251-49a1-b7db-01538fe045ed",
     "showTitle": false,
     "title": ""
    }
   },
   "outputs": [
    {
     "output_type": "stream",
     "name": "stdout",
     "output_type": "stream",
     "text": [
      "Out[41]: 663055251"
     ]
    }
   ],
   "source": [
    "df_yellow.count()"
   ]
  },
  {
   "cell_type": "code",
   "execution_count": 0,
   "metadata": {
    "application/vnd.databricks.v1+cell": {
     "cellMetadata": {
      "byteLimit": 2048000,
      "rowLimit": 10000
     },
     "inputWidgets": {},
     "nuid": "7a854c12-2a49-4f4f-8ab4-e5f03dc90f3a",
     "showTitle": false,
     "title": ""
    }
   },
   "outputs": [],
   "source": [
    "## Exporting green_2015.parquet to csv in Azure Blob"
   ]
  },
  {
   "cell_type": "code",
   "execution_count": 0,
   "metadata": {
    "application/vnd.databricks.v1+cell": {
     "cellMetadata": {
      "byteLimit": 2048000,
      "rowLimit": 10000
     },
     "inputWidgets": {},
     "nuid": "ccadaaa2-cde4-4436-a545-4a34e0522a5b",
     "showTitle": false,
     "title": ""
    }
   },
   "outputs": [],
   "source": [
    "df_green_2015 =  spark.read.parquet(\"/FileStore/green/green_taxi_2015.parquet\")"
   ]
  },
  {
   "cell_type": "code",
   "execution_count": 0,
   "metadata": {
    "application/vnd.databricks.v1+cell": {
     "cellMetadata": {
      "byteLimit": 2048000,
      "rowLimit": 10000
     },
     "inputWidgets": {},
     "nuid": "3159a48a-c258-43dd-9a96-192284e5412a",
     "showTitle": false,
     "title": ""
    }
   },
   "outputs": [],
   "source": [
    "df_green_2015.write.csv(\"/mnt/bde-at2/output_csv_file/\")"
   ]
  },
  {
   "cell_type": "code",
   "execution_count": 0,
   "metadata": {
    "application/vnd.databricks.v1+cell": {
     "cellMetadata": {
      "byteLimit": 2048000,
      "rowLimit": 10000
     },
     "inputWidgets": {},
     "nuid": "1d97deda-0a08-4d1e-a7cc-d6d568cbe030",
     "showTitle": false,
     "title": ""
    }
   },
   "outputs": [],
   "source": [
    "## Data Exploration"
   ]
  },
  {
   "cell_type": "code",
   "execution_count": 0,
   "metadata": {
    "application/vnd.databricks.v1+cell": {
     "cellMetadata": {
      "byteLimit": 2048000,
      "rowLimit": 10000
     },
     "inputWidgets": {},
     "nuid": "9d33d4c3-6963-4936-9c8b-5e072e590766",
     "showTitle": false,
     "title": ""
    }
   },
   "outputs": [
    {
     "output_type": "stream",
     "name": "stdout",
     "output_type": "stream",
     "text": [
      "root\n |-- VendorID: long (nullable = true)\n |-- lpep_pickup_datetime: timestamp (nullable = true)\n |-- lpep_dropoff_datetime: timestamp (nullable = true)\n |-- store_and_fwd_flag: string (nullable = true)\n |-- RatecodeID: double (nullable = true)\n |-- PULocationID: long (nullable = true)\n |-- DOLocationID: long (nullable = true)\n |-- passenger_count: double (nullable = true)\n |-- trip_distance: double (nullable = true)\n |-- fare_amount: double (nullable = true)\n |-- extra: double (nullable = true)\n |-- mta_tax: double (nullable = true)\n |-- tip_amount: double (nullable = true)\n |-- tolls_amount: double (nullable = true)\n |-- ehail_fee: double (nullable = true)\n |-- improvement_surcharge: double (nullable = true)\n |-- total_amount: double (nullable = true)\n |-- payment_type: double (nullable = true)\n |-- trip_type: double (nullable = true)\n |-- congestion_surcharge: double (nullable = true)\n\n"
     ]
    }
   ],
   "source": [
    "df_green.printSchema()"
   ]
  },
  {
   "cell_type": "code",
   "execution_count": 0,
   "metadata": {
    "application/vnd.databricks.v1+cell": {
     "cellMetadata": {
      "byteLimit": 2048000,
      "rowLimit": 10000
     },
     "inputWidgets": {},
     "nuid": "774a685b-f048-4599-9e30-677cbc7ca566",
     "showTitle": false,
     "title": ""
    }
   },
   "outputs": [
    {
     "output_type": "stream",
     "name": "stdout",
     "output_type": "stream",
     "text": [
      "root\n |-- VendorID: long (nullable = true)\n |-- tpep_pickup_datetime: timestamp (nullable = true)\n |-- tpep_dropoff_datetime: timestamp (nullable = true)\n |-- passenger_count: double (nullable = true)\n |-- trip_distance: double (nullable = true)\n |-- RatecodeID: double (nullable = true)\n |-- store_and_fwd_flag: string (nullable = true)\n |-- PULocationID: long (nullable = true)\n |-- DOLocationID: long (nullable = true)\n |-- payment_type: long (nullable = true)\n |-- fare_amount: double (nullable = true)\n |-- extra: double (nullable = true)\n |-- mta_tax: double (nullable = true)\n |-- tip_amount: double (nullable = true)\n |-- tolls_amount: double (nullable = true)\n |-- improvement_surcharge: double (nullable = true)\n |-- total_amount: double (nullable = true)\n |-- congestion_surcharge: double (nullable = true)\n |-- airport_fee: double (nullable = true)\n\n"
     ]
    }
   ],
   "source": [
    "df_yellow.printSchema()"
   ]
  },
  {
   "cell_type": "code",
   "execution_count": 0,
   "metadata": {
    "application/vnd.databricks.v1+cell": {
     "cellMetadata": {
      "byteLimit": 2048000,
      "rowLimit": 10000
     },
     "inputWidgets": {},
     "nuid": "e2df7807-02f1-42a9-a23e-c6c41303768e",
     "showTitle": false,
     "title": ""
    }
   },
   "outputs": [
    {
     "output_type": "stream",
     "name": "stdout",
     "output_type": "stream",
     "text": [
      "+--------+--------------------+---------------------+------------------+----------+------------+------------+---------------+-------------+-----------+-----+-------+----------+------------+---------+---------------------+------------+------------+---------+--------------------+\n|VendorID|lpep_pickup_datetime|lpep_dropoff_datetime|store_and_fwd_flag|RatecodeID|PULocationID|DOLocationID|passenger_count|trip_distance|fare_amount|extra|mta_tax|tip_amount|tolls_amount|ehail_fee|improvement_surcharge|total_amount|payment_type|trip_type|congestion_surcharge|\n+--------+--------------------+---------------------+------------------+----------+------------+------------+---------------+-------------+-----------+-----+-------+----------+------------+---------+---------------------+------------+------------+---------+--------------------+\n|       2| 2015-05-01 00:24:18|  2015-05-01 00:24:39|                 N|       1.0|         146|         146|            1.0|          0.0|        2.5|  0.5|    0.5|       0.0|         0.0|     null|                  0.3|         3.8|         2.0|      1.0|                null|\n|       2| 2015-05-01 00:28:15|  2015-05-01 00:29:00|                 N|       1.0|         146|         146|            1.0|          0.0|        2.5|  0.5|    0.5|       0.0|         0.0|     null|                  0.3|         3.8|         2.0|      1.0|                null|\n|       2| 2015-05-01 00:07:45|  2015-05-01 00:12:50|                 N|       1.0|         255|         112|            1.0|         1.09|        5.5|  0.5|    0.5|       1.0|         0.0|     null|                  0.3|         7.8|         1.0|      1.0|                null|\n|       2| 2015-05-01 00:26:23|  2015-05-01 00:55:12|                 N|       1.0|         255|          13|            1.0|         5.73|       22.0|  0.5|    0.5|      4.66|         0.0|     null|                  0.3|       27.96|         1.0|      1.0|                null|\n|       2| 2015-05-01 00:20:16|  2015-05-01 00:30:37|                 N|       1.0|          80|         225|            1.0|         2.35|        9.5|  0.5|    0.5|       0.0|         0.0|     null|                  0.3|        10.8|         2.0|      1.0|                null|\n+--------+--------------------+---------------------+------------------+----------+------------+------------+---------------+-------------+-----------+-----+-------+----------+------------+---------+---------------------+------------+------------+---------+--------------------+\nonly showing top 5 rows\n\n"
     ]
    }
   ],
   "source": [
    "df_green.show(5)"
   ]
  },
  {
   "cell_type": "code",
   "execution_count": 0,
   "metadata": {
    "application/vnd.databricks.v1+cell": {
     "cellMetadata": {
      "byteLimit": 2048000,
      "rowLimit": 10000
     },
     "inputWidgets": {},
     "nuid": "702ee032-c69d-4cda-ad94-95f06c792e85",
     "showTitle": false,
     "title": ""
    }
   },
   "outputs": [
    {
     "output_type": "stream",
     "name": "stdout",
     "output_type": "stream",
     "text": [
      "+--------+--------------------+---------------------+---------------+-------------+----------+------------------+------------+------------+------------+-----------+-----+-------+----------+------------+---------------------+------------+--------------------+-----------+\n|VendorID|tpep_pickup_datetime|tpep_dropoff_datetime|passenger_count|trip_distance|RatecodeID|store_and_fwd_flag|PULocationID|DOLocationID|payment_type|fare_amount|extra|mta_tax|tip_amount|tolls_amount|improvement_surcharge|total_amount|congestion_surcharge|airport_fee|\n+--------+--------------------+---------------------+---------------+-------------+----------+------------------+------------+------------+------------+-----------+-----+-------+----------+------------+---------------------+------------+--------------------+-----------+\n|       1| 2015-01-01 00:11:33|  2015-01-01 00:16:48|            1.0|          1.0|       1.0|                 N|          41|         166|           1|        5.7|  0.5|    0.5|       1.4|         0.0|                  0.0|         8.4|                null|       null|\n|       1| 2015-01-01 00:18:24|  2015-01-01 00:24:20|            1.0|          0.9|       1.0|                 N|         166|         238|           3|        6.0|  0.5|    0.5|       0.0|         0.0|                  0.0|         7.3|                null|       null|\n|       1| 2015-01-01 00:26:19|  2015-01-01 00:41:06|            1.0|          3.5|       1.0|                 N|         238|         162|           1|       13.2|  0.5|    0.5|       2.9|         0.0|                  0.0|        17.4|                null|       null|\n|       1| 2015-01-01 00:45:26|  2015-01-01 00:53:20|            1.0|          2.1|       1.0|                 N|         162|         263|           1|        8.2|  0.5|    0.5|      2.37|         0.0|                  0.0|       11.87|                null|       null|\n|       1| 2015-01-01 00:59:21|  2015-01-01 01:05:24|            1.0|          1.0|       1.0|                 N|         236|         141|           3|        6.0|  0.5|    0.5|       0.0|         0.0|                  0.0|         7.3|                null|       null|\n+--------+--------------------+---------------------+---------------+-------------+----------+------------------+------------+------------+------------+-----------+-----+-------+----------+------------+---------------------+------------+--------------------+-----------+\nonly showing top 5 rows\n\n"
     ]
    }
   ],
   "source": [
    "df_yellow.show(5)"
   ]
  },
  {
   "cell_type": "code",
   "execution_count": 0,
   "metadata": {
    "application/vnd.databricks.v1+cell": {
     "cellMetadata": {
      "byteLimit": 2048000,
      "rowLimit": 10000
     },
     "inputWidgets": {},
     "nuid": "627d0d09-32a5-4069-a548-24fafb9ef6ab",
     "showTitle": false,
     "title": ""
    }
   },
   "outputs": [],
   "source": [
    "## Data Cleaning"
   ]
  },
  {
   "cell_type": "code",
   "execution_count": 0,
   "metadata": {
    "application/vnd.databricks.v1+cell": {
     "cellMetadata": {
      "byteLimit": 2048000,
      "rowLimit": 10000
     },
     "inputWidgets": {},
     "nuid": "871c166e-c137-44cf-b473-b5db0e8e9667",
     "showTitle": false,
     "title": ""
    }
   },
   "outputs": [],
   "source": [
    "### Removing Trips finishing before starting time"
   ]
  },
  {
   "cell_type": "code",
   "execution_count": 0,
   "metadata": {
    "application/vnd.databricks.v1+cell": {
     "cellMetadata": {
      "byteLimit": 2048000,
      "rowLimit": 10000
     },
     "inputWidgets": {},
     "nuid": "99f68d69-6bf8-4997-8561-a64461900d62",
     "showTitle": false,
     "title": ""
    }
   },
   "outputs": [],
   "source": [
    "df_yellow_cleaned = df_yellow.where(df_yellow.tpep_pickup_datetime < df_yellow.tpep_dropoff_datetime)\n",
    "df_green_cleaned = df_green.where(df_green.lpep_pickup_datetime < df_green.lpep_dropoff_datetime)"
   ]
  },
  {
   "cell_type": "code",
   "execution_count": 0,
   "metadata": {
    "application/vnd.databricks.v1+cell": {
     "cellMetadata": {
      "byteLimit": 2048000,
      "rowLimit": 10000
     },
     "inputWidgets": {},
     "nuid": "d6cd0f85-a395-4e61-99dc-7b4fe8584d59",
     "showTitle": false,
     "title": ""
    }
   },
   "outputs": [],
   "source": [
    "## Removing Trips with Negative Speed"
   ]
  },
  {
   "cell_type": "code",
   "execution_count": 0,
   "metadata": {
    "application/vnd.databricks.v1+cell": {
     "cellMetadata": {
      "byteLimit": 2048000,
      "rowLimit": 10000
     },
     "inputWidgets": {},
     "nuid": "f690366e-8c02-4f93-a3e6-70cd3509caea",
     "showTitle": false,
     "title": ""
    }
   },
   "outputs": [],
   "source": [
    "import pyspark.sql.functions as F"
   ]
  },
  {
   "cell_type": "code",
   "execution_count": 0,
   "metadata": {
    "application/vnd.databricks.v1+cell": {
     "cellMetadata": {
      "byteLimit": 2048000,
      "rowLimit": 10000
     },
     "inputWidgets": {},
     "nuid": "8715d710-60c0-4ad1-bee6-aa1557cf077e",
     "showTitle": false,
     "title": ""
    }
   },
   "outputs": [],
   "source": [
    "# Create a Column Duration. We need it to calculate speed\n",
    "df_yellow_cleaned = df_yellow_cleaned.withColumn('duration_seconds', F.col(\"tpep_dropoff_datetime\").cast(\"long\") - F.col(\"tpep_pickup_datetime\").cast(\"long\"))\n",
    "df_green_cleaned = df_green_cleaned.withColumn('duration_seconds', F.col(\"lpep_dropoff_datetime\").cast(\"long\") - F.col(\"lpep_pickup_datetime\").cast(\"long\"))\n",
    "\n",
    "# Remove negative speed trips\n",
    "df_yellow_cleaned = df_yellow_cleaned.where((df_yellow_cleaned.trip_distance/df_yellow_cleaned.duration_seconds) > 0)\n",
    "df_green_cleaned = df_green_cleaned.where((df_green_cleaned.trip_distance/df_green_cleaned.duration_seconds) > 0)"
   ]
  },
  {
   "cell_type": "code",
   "execution_count": 0,
   "metadata": {
    "application/vnd.databricks.v1+cell": {
     "cellMetadata": {
      "byteLimit": 2048000,
      "rowLimit": 10000
     },
     "inputWidgets": {},
     "nuid": "94e6a7f5-277f-4396-8069-ef70a1287eef",
     "showTitle": false,
     "title": ""
    }
   },
   "outputs": [],
   "source": [
    "## Converting Seconds to Hours for the duration\n",
    "df_yellow_cleaned = df_yellow_cleaned.withColumn('duration_hours', F.col(\"duration_seconds\")/3600)\n",
    "df_green_cleaned = df_green_cleaned.withColumn('duration_hours', F.col(\"duration_seconds\")/3600)"
   ]
  },
  {
   "cell_type": "code",
   "execution_count": 0,
   "metadata": {
    "application/vnd.databricks.v1+cell": {
     "cellMetadata": {
      "byteLimit": 2048000,
      "rowLimit": 10000
     },
     "inputWidgets": {},
     "nuid": "f3b5508f-2be0-4399-b9de-98be7a3fea27",
     "showTitle": false,
     "title": ""
    }
   },
   "outputs": [],
   "source": [
    "df_yellow_cleaned = df_yellow_cleaned.withColumn('speed_mph', F.col(\"trip_distance\")/F.col(\"duration_hours\"))\n",
    "df_green_cleaned = df_green_cleaned.withColumn('speed_mph', F.col(\"trip_distance\")/F.col(\"duration_hours\"))"
   ]
  },
  {
   "cell_type": "code",
   "execution_count": 0,
   "metadata": {
    "application/vnd.databricks.v1+cell": {
     "cellMetadata": {
      "byteLimit": 2048000,
      "rowLimit": 10000
     },
     "inputWidgets": {},
     "nuid": "0d6e4e3a-257f-4e9e-bf8d-50ee8df717b6",
     "showTitle": false,
     "title": ""
    }
   },
   "outputs": [],
   "source": [
    "# Remove trips with very high speed limits for a taxi (NYC speed limit = 55 mph)\n",
    "\n",
    "df_yellow_cleaned = df_yellow_cleaned.where(df_yellow_cleaned.speed_mph <= 55)\n",
    "df_green_cleaned = df_green_cleaned.where(df_green_cleaned.speed_mph <= 55)"
   ]
  },
  {
   "cell_type": "code",
   "execution_count": 0,
   "metadata": {
    "application/vnd.databricks.v1+cell": {
     "cellMetadata": {
      "byteLimit": 2048000,
      "rowLimit": 10000
     },
     "inputWidgets": {},
     "nuid": "f1a6d09b-8408-4ad2-9dbf-b03c0ac6e310",
     "showTitle": false,
     "title": ""
    }
   },
   "outputs": [
    {
     "output_type": "stream",
     "name": "stdout",
     "output_type": "stream",
     "text": [
      "Out[12]: [0.3, 6.066666666666666, 16.933333333333334, 55.2]"
     ]
    }
   ],
   "source": [
    "# Checking the green 2015 dataframe to understand the range of values of the duration column\n",
    "\n",
    "df_green_2015 = df_green_2015.withColumn('duration_mins', (F.col(\"lpep_dropoff_datetime\").cast(\"long\") - F.col(\"lpep_pickup_datetime\").cast(\"long\"))/60)\n",
    "df_green_2015_quantiles = df_green_2015.approxQuantile(\"duration_mins\", [0.01, 0.25, 0.75, 0.99], 0)\n",
    "df_green_2015_quantiles"
   ]
  },
  {
   "cell_type": "code",
   "execution_count": 0,
   "metadata": {
    "application/vnd.databricks.v1+cell": {
     "cellMetadata": {
      "byteLimit": 2048000,
      "rowLimit": 10000
     },
     "inputWidgets": {},
     "nuid": "957da33d-6e2a-427b-8b08-8b6592796750",
     "showTitle": false,
     "title": ""
    }
   },
   "outputs": [
    {
     "output_type": "stream",
     "name": "stdout",
     "output_type": "stream",
     "text": [
      "Out[61]: [0.3, 6.066666666666666, 16.933333333333334, 55.2]"
     ]
    }
   ],
   "source": [
    "df_green_2015_quantiles"
   ]
  },
  {
   "cell_type": "code",
   "execution_count": 0,
   "metadata": {
    "application/vnd.databricks.v1+cell": {
     "cellMetadata": {
      "byteLimit": 2048000,
      "rowLimit": 10000
     },
     "inputWidgets": {},
     "nuid": "12266678-5d5b-4c36-87dc-ca0f0642c6d2",
     "showTitle": false,
     "title": ""
    }
   },
   "outputs": [
    {
     "output_type": "stream",
     "name": "stdout",
     "output_type": "stream",
     "text": [
      "Out[62]: Row(max(duration_mins)=3155397.5)"
     ]
    }
   ],
   "source": [
    "df_green_2015.groupby().max(\"duration_mins\").first()"
   ]
  },
  {
   "cell_type": "code",
   "execution_count": 0,
   "metadata": {
    "application/vnd.databricks.v1+cell": {
     "cellMetadata": {
      "byteLimit": 2048000,
      "rowLimit": 10000
     },
     "inputWidgets": {},
     "nuid": "ba7a9887-d9ff-47a2-9050-eb605835579f",
     "showTitle": false,
     "title": ""
    }
   },
   "outputs": [],
   "source": [
    "# Removing trips that were shorter than 1 minute\n",
    "df_yellow_cleaned = df_yellow_cleaned.where(df_yellow_cleaned.duration_seconds > 60)\n",
    "df_green_cleaned = df_green_cleaned.where(df_green_cleaned.duration_seconds > 60)\n",
    "\n",
    "# Removing trips that were longer than 2.5 hours\n",
    "df_yellow_cleaned = df_yellow_cleaned.where(df_yellow_cleaned.duration_seconds <= 9000)\n",
    "df_green_cleaned = df_green_cleaned.where(df_green_cleaned.duration_seconds <= 9000)"
   ]
  },
  {
   "cell_type": "code",
   "execution_count": 0,
   "metadata": {
    "application/vnd.databricks.v1+cell": {
     "cellMetadata": {
      "byteLimit": 2048000,
      "rowLimit": 10000
     },
     "inputWidgets": {},
     "nuid": "b7020157-8e49-4040-bbd1-09dce2f1425a",
     "showTitle": false,
     "title": ""
    }
   },
   "outputs": [],
   "source": [
    "#### Removing trips with too long or short distance values"
   ]
  },
  {
   "cell_type": "code",
   "execution_count": 0,
   "metadata": {
    "application/vnd.databricks.v1+cell": {
     "cellMetadata": {
      "byteLimit": 2048000,
      "rowLimit": 10000
     },
     "inputWidgets": {},
     "nuid": "991ccd50-d793-43ef-979b-a80f66373002",
     "showTitle": false,
     "title": ""
    }
   },
   "outputs": [
    {
     "output_type": "stream",
     "name": "stdout",
     "output_type": "stream",
     "text": [
      "Out[65]: [0.47, 1.06, 3.64, 14.5]"
     ]
    }
   ],
   "source": [
    "# Checking the range of distance values for trip_distance in df_green_2015\n",
    "df_green_2015_quantiles = df_green_2015.approxQuantile(\"trip_distance\", [0.05, 0.25, 0.75, 0.99], 0)\n",
    "df_green_2015_quantiles"
   ]
  },
  {
   "cell_type": "code",
   "execution_count": 0,
   "metadata": {
    "application/vnd.databricks.v1+cell": {
     "cellMetadata": {
      "byteLimit": 2048000,
      "rowLimit": 10000
     },
     "inputWidgets": {},
     "nuid": "299ca757-ecf6-4957-b9f0-c854a834db2e",
     "showTitle": false,
     "title": ""
    }
   },
   "outputs": [
    {
     "output_type": "stream",
     "name": "stdout",
     "output_type": "stream",
     "text": [
      "Out[66]: Row(max(trip_distance)=830.4)"
     ]
    }
   ],
   "source": [
    "# Checking the maximum value of yellow april 2022 dataframe for trip_distance\n",
    "df_green_2015.groupby().max(\"trip_distance\").first()"
   ]
  },
  {
   "cell_type": "code",
   "execution_count": 0,
   "metadata": {
    "application/vnd.databricks.v1+cell": {
     "cellMetadata": {
      "byteLimit": 2048000,
      "rowLimit": 10000
     },
     "inputWidgets": {},
     "nuid": "7bc6fc34-b086-4522-838a-84dc1e643fbb",
     "showTitle": false,
     "title": ""
    }
   },
   "outputs": [],
   "source": [
    "# Remove trips that were less than 0.45 miles\n",
    "df_yellow_cleaned = df_yellow_cleaned.where(df_yellow_cleaned.trip_distance >= 0.45)\n",
    "df_green_cleaned = df_green_cleaned.where(df_green_cleaned.trip_distance >= 0.45)\n",
    "\n",
    "# Remove trips that were more than 50 miles\n",
    "df_yellow_cleaned = df_yellow_cleaned.where(df_yellow_cleaned.trip_distance <= 50)\n",
    "df_green_cleaned = df_green_cleaned.where(df_green_cleaned.trip_distance <= 50)"
   ]
  },
  {
   "cell_type": "code",
   "execution_count": 0,
   "metadata": {
    "application/vnd.databricks.v1+cell": {
     "cellMetadata": {
      "byteLimit": 2048000,
      "rowLimit": 10000
     },
     "inputWidgets": {},
     "nuid": "81f741c8-42cd-4433-883f-cc3ca85a85b0",
     "showTitle": false,
     "title": ""
    }
   },
   "outputs": [],
   "source": [
    "## Removing trips that started before January 2015 or started after December 2022"
   ]
  },
  {
   "cell_type": "code",
   "execution_count": 0,
   "metadata": {
    "application/vnd.databricks.v1+cell": {
     "cellMetadata": {
      "byteLimit": 2048000,
      "rowLimit": 10000
     },
     "inputWidgets": {},
     "nuid": "2b9e40e3-e7df-408c-8603-756ce5628b4b",
     "showTitle": false,
     "title": ""
    }
   },
   "outputs": [],
   "source": [
    "# Remove trips that started before January 2015 for green taxis\n",
    "df_yellow_cleaned = df_yellow_cleaned.where(df_yellow_cleaned.tpep_pickup_datetime >= '2015-01-01 00:00:00')\n",
    "df_green_cleaned = df_green_cleaned.where(df_green_cleaned.lpep_pickup_datetime >= '2015-01-01 00:00:00')\n",
    "\n",
    "# Remove trips that started after December 2022 for green taxis\n",
    "df_yellow_cleaned = df_yellow_cleaned.where(df_yellow_cleaned.tpep_pickup_datetime < '2023-01-01 00:00:00')\n",
    "df_green_cleaned = df_green_cleaned.where(df_green_cleaned.lpep_pickup_datetime < '2023-01-01 00:00:00')"
   ]
  },
  {
   "cell_type": "code",
   "execution_count": 0,
   "metadata": {
    "application/vnd.databricks.v1+cell": {
     "cellMetadata": {
      "byteLimit": 2048000,
      "rowLimit": 10000
     },
     "inputWidgets": {},
     "nuid": "45454b98-1ba8-4f4f-9754-2d74bbe80ee6",
     "showTitle": false,
     "title": ""
    }
   },
   "outputs": [],
   "source": [
    "#Combining Yellow and Green data "
   ]
  },
  {
   "cell_type": "code",
   "execution_count": 0,
   "metadata": {
    "application/vnd.databricks.v1+cell": {
     "cellMetadata": {
      "byteLimit": 2048000,
      "rowLimit": 10000
     },
     "inputWidgets": {},
     "nuid": "fb81f9af-81a4-49f7-84e3-9a7c85494cd8",
     "showTitle": false,
     "title": ""
    }
   },
   "outputs": [],
   "source": [
    "# Change the column names for pickup time and dropoff time for both data frames\n",
    "df_yellow_cleaned = df_yellow_cleaned.withColumnRenamed(\"tpep_pickup_datetime\", \"pickup_datetime\")\n",
    "df_yellow_cleaned = df_yellow_cleaned.withColumnRenamed(\"tpep_dropoff_datetime\", \"dropoff_datetime\")\n",
    "df_green_cleaned = df_green_cleaned.withColumnRenamed(\"lpep_pickup_datetime\", \"pickup_datetime\")\n",
    "df_green_cleaned = df_green_cleaned.withColumnRenamed(\"lpep_dropoff_datetime\", \"dropoff_datetime\")"
   ]
  },
  {
   "cell_type": "code",
   "execution_count": 0,
   "metadata": {
    "application/vnd.databricks.v1+cell": {
     "cellMetadata": {
      "byteLimit": 2048000,
      "rowLimit": 10000
     },
     "inputWidgets": {},
     "nuid": "346b8253-fc6d-422f-86a4-13619311da11",
     "showTitle": false,
     "title": ""
    }
   },
   "outputs": [],
   "source": [
    "## Viewing the columns and size of the dataframes"
   ]
  },
  {
   "cell_type": "code",
   "execution_count": 0,
   "metadata": {
    "application/vnd.databricks.v1+cell": {
     "cellMetadata": {
      "byteLimit": 2048000,
      "rowLimit": 10000
     },
     "inputWidgets": {},
     "nuid": "abeb8a23-55e8-49a5-a93a-e483ea3f0479",
     "showTitle": false,
     "title": ""
    }
   },
   "outputs": [
    {
     "output_type": "stream",
     "name": "stdout",
     "output_type": "stream",
     "text": [
      "['VendorID', 'pickup_datetime', 'dropoff_datetime', 'passenger_count', 'trip_distance', 'RatecodeID', 'store_and_fwd_flag', 'PULocationID', 'DOLocationID', 'payment_type', 'fare_amount', 'extra', 'mta_tax', 'tip_amount', 'tolls_amount', 'improvement_surcharge', 'total_amount', 'congestion_surcharge', 'airport_fee', 'duration_seconds', 'duration_hours', 'speed_mph']\n"
     ]
    }
   ],
   "source": [
    "print(df_yellow_cleaned.columns)"
   ]
  },
  {
   "cell_type": "code",
   "execution_count": 0,
   "metadata": {
    "application/vnd.databricks.v1+cell": {
     "cellMetadata": {
      "byteLimit": 2048000,
      "rowLimit": 10000
     },
     "inputWidgets": {},
     "nuid": "5c32da74-9f7b-4c8d-9c95-49ca608b75c1",
     "showTitle": false,
     "title": ""
    }
   },
   "outputs": [
    {
     "output_type": "stream",
     "name": "stdout",
     "output_type": "stream",
     "text": [
      "['VendorID', 'pickup_datetime', 'dropoff_datetime', 'store_and_fwd_flag', 'RatecodeID', 'PULocationID', 'DOLocationID', 'passenger_count', 'trip_distance', 'fare_amount', 'extra', 'mta_tax', 'tip_amount', 'tolls_amount', 'ehail_fee', 'improvement_surcharge', 'total_amount', 'payment_type', 'trip_type', 'congestion_surcharge', 'duration_seconds', 'duration_hours', 'speed_mph']\n"
     ]
    }
   ],
   "source": [
    "\n",
    "print(df_green_cleaned.columns)"
   ]
  },
  {
   "cell_type": "code",
   "execution_count": 0,
   "metadata": {
    "application/vnd.databricks.v1+cell": {
     "cellMetadata": {
      "byteLimit": 2048000,
      "rowLimit": 10000
     },
     "inputWidgets": {},
     "nuid": "ed90ffa0-2da6-412c-a373-5f611a6376f7",
     "showTitle": false,
     "title": ""
    }
   },
   "outputs": [],
   "source": [
    "# Create a list of column names that are common to both data frames\n",
    "common_cols = ['VendorID', 'pickup_datetime',  'passenger_count', 'trip_distance',  'PULocationID', 'DOLocationID', 'tip_amount', 'total_amount', 'duration_seconds', 'duration_hours', 'speed_mph']\n",
    "\n",
    "# Select only the common columns for both data frames\n",
    "df_yellow_cleaned = df_yellow_cleaned.select(common_cols)\n",
    "df_green_cleaned = df_green_cleaned.select(common_cols)"
   ]
  },
  {
   "cell_type": "code",
   "execution_count": 0,
   "metadata": {
    "application/vnd.databricks.v1+cell": {
     "cellMetadata": {
      "byteLimit": 2048000,
      "rowLimit": 10000
     },
     "inputWidgets": {},
     "nuid": "9e11a5dc-78a9-4698-95b0-137282a51e45",
     "showTitle": false,
     "title": ""
    }
   },
   "outputs": [
    {
     "output_type": "stream",
     "name": "stdout",
     "output_type": "stream",
     "text": [
      "root\n |-- VendorID: long (nullable = true)\n |-- pickup_datetime: timestamp (nullable = true)\n |-- passenger_count: double (nullable = true)\n |-- trip_distance: double (nullable = true)\n |-- PULocationID: long (nullable = true)\n |-- DOLocationID: long (nullable = true)\n |-- tip_amount: double (nullable = true)\n |-- total_amount: double (nullable = true)\n |-- duration_seconds: long (nullable = true)\n |-- duration_hours: double (nullable = true)\n |-- speed_mph: double (nullable = true)\n |-- taxi_color: string (nullable = false)\n\n"
     ]
    }
   ],
   "source": [
    "df_green_cleaned.printSchema()"
   ]
  },
  {
   "cell_type": "code",
   "execution_count": 0,
   "metadata": {
    "application/vnd.databricks.v1+cell": {
     "cellMetadata": {
      "byteLimit": 2048000,
      "rowLimit": 10000
     },
     "inputWidgets": {},
     "nuid": "e1d5ec89-6459-40b5-9707-d6a0cba3d0a1",
     "showTitle": false,
     "title": ""
    }
   },
   "outputs": [
    {
     "output_type": "stream",
     "name": "stdout",
     "output_type": "stream",
     "text": [
      "root\n |-- VendorID: long (nullable = true)\n |-- pickup_datetime: timestamp (nullable = true)\n |-- passenger_count: double (nullable = true)\n |-- trip_distance: double (nullable = true)\n |-- PULocationID: long (nullable = true)\n |-- DOLocationID: long (nullable = true)\n |-- tip_amount: double (nullable = true)\n |-- total_amount: double (nullable = true)\n |-- duration_seconds: long (nullable = true)\n |-- duration_hours: double (nullable = true)\n |-- speed_mph: double (nullable = true)\n |-- taxi_color: string (nullable = false)\n\n"
     ]
    }
   ],
   "source": [
    "df_yellow_cleaned.printSchema()"
   ]
  },
  {
   "cell_type": "code",
   "execution_count": 0,
   "metadata": {
    "application/vnd.databricks.v1+cell": {
     "cellMetadata": {
      "byteLimit": 2048000,
      "rowLimit": 10000
     },
     "inputWidgets": {},
     "nuid": "2948d80e-5706-4944-a44a-c56d44c32d14",
     "showTitle": false,
     "title": ""
    }
   },
   "outputs": [],
   "source": [
    "df_green_cleaned.write.parquet(\"/FileStore/df_green_cleaned\")"
   ]
  },
  {
   "cell_type": "code",
   "execution_count": 0,
   "metadata": {
    "application/vnd.databricks.v1+cell": {
     "cellMetadata": {
      "byteLimit": 2048000,
      "rowLimit": 10000
     },
     "inputWidgets": {},
     "nuid": "8dc1d753-2f85-4cda-916e-f10b6fc5a392",
     "showTitle": false,
     "title": ""
    }
   },
   "outputs": [],
   "source": [
    "df_green_cleaned = spark.read.parquet(\"/FileStore/df_green_cleaned\")"
   ]
  },
  {
   "cell_type": "code",
   "execution_count": 0,
   "metadata": {
    "application/vnd.databricks.v1+cell": {
     "cellMetadata": {
      "byteLimit": 2048000,
      "rowLimit": 10000
     },
     "inputWidgets": {},
     "nuid": "b630c244-f9af-42a9-8165-9e920daa60cd",
     "showTitle": false,
     "title": ""
    }
   },
   "outputs": [],
   "source": [
    "df_yellow_cleaned.write.parquet(\"/FileStore/df_yellow_cleaned\")"
   ]
  },
  {
   "cell_type": "code",
   "execution_count": 0,
   "metadata": {
    "application/vnd.databricks.v1+cell": {
     "cellMetadata": {
      "byteLimit": 2048000,
      "rowLimit": 10000
     },
     "inputWidgets": {},
     "nuid": "978b2259-9135-4816-81ca-a5248460ec94",
     "showTitle": false,
     "title": ""
    }
   },
   "outputs": [],
   "source": [
    "# Labelling the datasets with their taxi color"
   ]
  },
  {
   "cell_type": "code",
   "execution_count": 0,
   "metadata": {
    "application/vnd.databricks.v1+cell": {
     "cellMetadata": {
      "byteLimit": 2048000,
      "rowLimit": 10000
     },
     "inputWidgets": {},
     "nuid": "56fb12ca-a4a8-47ea-8dfa-b59ec744404e",
     "showTitle": false,
     "title": ""
    }
   },
   "outputs": [],
   "source": [
    "df_yellow_cleaned = df_yellow_cleaned.withColumn(\"taxi_color\", F.lit(\"yellow\"))\n",
    "df_green_cleaned = df_green_cleaned.withColumn(\"taxi_color\", F.lit(\"green\"))"
   ]
  },
  {
   "cell_type": "code",
   "execution_count": 0,
   "metadata": {
    "application/vnd.databricks.v1+cell": {
     "cellMetadata": {
      "byteLimit": 2048000,
      "rowLimit": 10000
     },
     "inputWidgets": {},
     "nuid": "af8e9205-3432-459c-b32f-3bbd61801b05",
     "showTitle": false,
     "title": ""
    }
   },
   "outputs": [],
   "source": [
    "sample_df_yellow = df_yellow_cleaned.sample(fraction = 0.01, seed = 42)"
   ]
  },
  {
   "cell_type": "code",
   "execution_count": 0,
   "metadata": {
    "application/vnd.databricks.v1+cell": {
     "cellMetadata": {
      "byteLimit": 2048000,
      "rowLimit": 10000
     },
     "inputWidgets": {},
     "nuid": "d842d45b-fbee-4ed1-ac18-177a6208b21a",
     "showTitle": false,
     "title": ""
    }
   },
   "outputs": [],
   "source": [
    "Combine the yellow and green taxis dataframes\n",
    "merged_df = sample_df_yellow.union(df_green_cleaned)"
   ]
  },
  {
   "cell_type": "code",
   "execution_count": 0,
   "metadata": {
    "application/vnd.databricks.v1+cell": {
     "cellMetadata": {
      "byteLimit": 2048000,
      "rowLimit": 10000
     },
     "inputWidgets": {},
     "nuid": "1bf035bf-87d6-4f64-98a0-63d12745699d",
     "showTitle": false,
     "title": ""
    }
   },
   "outputs": [],
   "source": [
    "merged_df = df_green_cleaned.alias(\"merged_df\")"
   ]
  },
  {
   "cell_type": "code",
   "execution_count": 0,
   "metadata": {
    "application/vnd.databricks.v1+cell": {
     "cellMetadata": {
      "byteLimit": 2048000,
      "rowLimit": 10000
     },
     "inputWidgets": {},
     "nuid": "b2eb407c-2007-4b0c-b695-04238e9127a7",
     "showTitle": false,
     "title": ""
    }
   },
   "outputs": [
    {
     "output_type": "stream",
     "name": "stdout",
     "output_type": "stream",
     "text": [
      "root\n |-- VendorID: long (nullable = true)\n |-- pickup_datetime: timestamp (nullable = true)\n |-- passenger_count: double (nullable = true)\n |-- trip_distance: double (nullable = true)\n |-- PULocationID: long (nullable = true)\n |-- DOLocationID: long (nullable = true)\n |-- tip_amount: double (nullable = true)\n |-- total_amount: double (nullable = true)\n |-- duration_seconds: long (nullable = true)\n |-- duration_hours: double (nullable = true)\n |-- speed_mph: double (nullable = true)\n |-- taxi_color: string (nullable = false)\n\n"
     ]
    }
   ],
   "source": [
    "# Check the schema of the merged dataframe\n",
    "merged_df.printSchema()"
   ]
  },
  {
   "cell_type": "code",
   "execution_count": 0,
   "metadata": {
    "application/vnd.databricks.v1+cell": {
     "cellMetadata": {
      "byteLimit": 2048000,
      "rowLimit": 10000
     },
     "inputWidgets": {},
     "nuid": "975104e9-4cc6-4a49-a528-77e4c2f630fd",
     "showTitle": false,
     "title": ""
    }
   },
   "outputs": [],
   "source": [
    "# Exporting the Combined df to DBFS"
   ]
  },
  {
   "cell_type": "code",
   "execution_count": 0,
   "metadata": {
    "application/vnd.databricks.v1+cell": {
     "cellMetadata": {
      "byteLimit": 2048000,
      "rowLimit": 10000
     },
     "inputWidgets": {},
     "nuid": "e2fd553f-6e64-46bf-aded-41670e29b656",
     "showTitle": false,
     "title": ""
    }
   },
   "outputs": [
    {
     "output_type": "stream",
     "name": "stdout",
     "output_type": "stream",
     "text": [
      "Out[81]: pyspark.sql.dataframe.DataFrame"
     ]
    }
   ],
   "source": [
    "type(merged_df)"
   ]
  },
  {
   "cell_type": "code",
   "execution_count": 0,
   "metadata": {
    "application/vnd.databricks.v1+cell": {
     "cellMetadata": {
      "byteLimit": 2048000,
      "rowLimit": 10000
     },
     "inputWidgets": {},
     "nuid": "4d90b399-abd5-47a5-bbb4-7207bd44dfc8",
     "showTitle": false,
     "title": ""
    }
   },
   "outputs": [],
   "source": [
    "taxi_location = spark.read.csv(\"/FileStore/taxi_zone_lookup.csv\", header=True)"
   ]
  },
  {
   "cell_type": "code",
   "execution_count": 0,
   "metadata": {
    "application/vnd.databricks.v1+cell": {
     "cellMetadata": {
      "byteLimit": 2048000,
      "rowLimit": 10000
     },
     "inputWidgets": {},
     "nuid": "c0acb2bd-cdb3-4c08-b3a4-1ae20ef17485",
     "showTitle": false,
     "title": ""
    }
   },
   "outputs": [],
   "source": [
    "combined_df = merged_df.alias(\"combined_df\")"
   ]
  },
  {
   "cell_type": "code",
   "execution_count": 0,
   "metadata": {
    "application/vnd.databricks.v1+cell": {
     "cellMetadata": {
      "byteLimit": 2048000,
      "rowLimit": 10000
     },
     "inputWidgets": {},
     "nuid": "347d0fae-ea64-4e0a-909c-65417715e6f5",
     "showTitle": false,
     "title": ""
    }
   },
   "outputs": [],
   "source": [
    "## Joining the Location Lookup Table to the merged dataset"
   ]
  },
  {
   "cell_type": "code",
   "execution_count": 0,
   "metadata": {
    "application/vnd.databricks.v1+cell": {
     "cellMetadata": {
      "byteLimit": 2048000,
      "rowLimit": 10000
     },
     "inputWidgets": {},
     "nuid": "5bfd8c18-3e4e-44a6-a86a-df65f025b438",
     "showTitle": false,
     "title": ""
    }
   },
   "outputs": [],
   "source": [
    "# Joining Location for PickUP (PU) data"
   ]
  },
  {
   "cell_type": "code",
   "execution_count": 0,
   "metadata": {
    "application/vnd.databricks.v1+cell": {
     "cellMetadata": {
      "byteLimit": 2048000,
      "rowLimit": 10000
     },
     "inputWidgets": {},
     "nuid": "a3ea80af-8b56-452c-b888-a5918ecc800d",
     "showTitle": false,
     "title": ""
    }
   },
   "outputs": [],
   "source": [
    "combined_df = combined_df.join(taxi_location, \n",
    "               combined_df.PULocationID == taxi_location.LocationID, \n",
    "               \"inner\")"
   ]
  },
  {
   "cell_type": "code",
   "execution_count": 0,
   "metadata": {
    "application/vnd.databricks.v1+cell": {
     "cellMetadata": {
      "byteLimit": 2048000,
      "rowLimit": 10000
     },
     "inputWidgets": {},
     "nuid": "4f664484-f238-4cfc-a70d-2192e6012387",
     "showTitle": false,
     "title": ""
    }
   },
   "outputs": [],
   "source": [
    "combined_df = combined_df.drop(combined_df.LocationID)\n",
    "combined_df = combined_df.drop(combined_df.Zone)\n",
    "combined_df = combined_df.drop(combined_df.service_zone)"
   ]
  },
  {
   "cell_type": "code",
   "execution_count": 0,
   "metadata": {
    "application/vnd.databricks.v1+cell": {
     "cellMetadata": {
      "byteLimit": 2048000,
      "rowLimit": 10000
     },
     "inputWidgets": {},
     "nuid": "a88c7513-16eb-4c8f-9581-9e58ee2c5b29",
     "showTitle": false,
     "title": ""
    }
   },
   "outputs": [],
   "source": [
    "combined_df = combined_df.withColumnRenamed(\"Borough\", \"PUBorough\")"
   ]
  },
  {
   "cell_type": "code",
   "execution_count": 0,
   "metadata": {
    "application/vnd.databricks.v1+cell": {
     "cellMetadata": {
      "byteLimit": 2048000,
      "rowLimit": 10000
     },
     "inputWidgets": {},
     "nuid": "e439b2e3-c408-4dda-b0b2-5d0553f6db0f",
     "showTitle": false,
     "title": ""
    }
   },
   "outputs": [],
   "source": [
    "# Joining Location for the Drop Off (DO) Data"
   ]
  },
  {
   "cell_type": "code",
   "execution_count": 0,
   "metadata": {
    "application/vnd.databricks.v1+cell": {
     "cellMetadata": {
      "byteLimit": 2048000,
      "rowLimit": 10000
     },
     "inputWidgets": {},
     "nuid": "6d3923bd-ea1d-40fb-8d66-68422435b014",
     "showTitle": false,
     "title": ""
    }
   },
   "outputs": [],
   "source": [
    "combined_df = combined_df.join(taxi_location, \n",
    "               combined_df.DOLocationID == taxi_location.LocationID, \n",
    "               \"inner\")"
   ]
  },
  {
   "cell_type": "code",
   "execution_count": 0,
   "metadata": {
    "application/vnd.databricks.v1+cell": {
     "cellMetadata": {
      "byteLimit": 2048000,
      "rowLimit": 10000
     },
     "inputWidgets": {},
     "nuid": "fee0df78-536f-43e5-94c9-1937538ed650",
     "showTitle": false,
     "title": ""
    }
   },
   "outputs": [],
   "source": [
    "# Dropping the redundant Location ID COlumn\n",
    "combined_df = combined_df.drop(combined_df.LocationID)\n",
    "combined_df = combined_df.drop(combined_df.Zone)\n",
    "combined_df = combined_df.drop(combined_df.service_zone)"
   ]
  },
  {
   "cell_type": "code",
   "execution_count": 0,
   "metadata": {
    "application/vnd.databricks.v1+cell": {
     "cellMetadata": {
      "byteLimit": 2048000,
      "rowLimit": 10000
     },
     "inputWidgets": {},
     "nuid": "97c04671-1eb7-4909-a02d-6b3fc180d011",
     "showTitle": false,
     "title": ""
    }
   },
   "outputs": [],
   "source": [
    "combined_df = combined_df.withColumnRenamed(\"Borough\", \"DOBorough\")"
   ]
  },
  {
   "cell_type": "code",
   "execution_count": 0,
   "metadata": {
    "application/vnd.databricks.v1+cell": {
     "cellMetadata": {
      "byteLimit": 2048000,
      "rowLimit": 10000
     },
     "inputWidgets": {},
     "nuid": "af1bcc03-2a5e-4489-9789-695076316e1e",
     "showTitle": false,
     "title": ""
    }
   },
   "outputs": [
    {
     "output_type": "stream",
     "name": "stdout",
     "output_type": "stream",
     "text": [
      "root\n |-- VendorID: long (nullable = true)\n |-- pickup_datetime: timestamp (nullable = true)\n |-- passenger_count: double (nullable = true)\n |-- trip_distance: double (nullable = true)\n |-- PULocationID: long (nullable = true)\n |-- DOLocationID: long (nullable = true)\n |-- tip_amount: double (nullable = true)\n |-- total_amount: double (nullable = true)\n |-- duration_seconds: long (nullable = true)\n |-- duration_hours: double (nullable = true)\n |-- speed_mph: double (nullable = true)\n |-- taxi_color: string (nullable = false)\n |-- PUBorough: string (nullable = true)\n |-- DOBorough: string (nullable = true)\n\n"
     ]
    }
   ],
   "source": [
    "combined_df.printSchema()"
   ]
  },
  {
   "cell_type": "code",
   "execution_count": 0,
   "metadata": {
    "application/vnd.databricks.v1+cell": {
     "cellMetadata": {
      "byteLimit": 2048000,
      "rowLimit": 10000
     },
     "inputWidgets": {},
     "nuid": "f6d8810a-dcf9-4ec0-9149-acce40f5ac58",
     "showTitle": false,
     "title": ""
    }
   },
   "outputs": [],
   "source": [
    "combined_df.write.parquet(\"/FileStore/green_yellow_location_combined\")"
   ]
  },
  {
   "cell_type": "code",
   "execution_count": 0,
   "metadata": {
    "application/vnd.databricks.v1+cell": {
     "cellMetadata": {
      "byteLimit": 2048000,
      "rowLimit": 10000
     },
     "inputWidgets": {},
     "nuid": "09dfa7ed-b1d6-4fcf-a6ea-165a673cbd9b",
     "showTitle": false,
     "title": ""
    }
   },
   "outputs": [],
   "source": [
    "combined_df.createOrReplaceTempView(\"merged_data_view\")"
   ]
  },
  {
   "cell_type": "code",
   "execution_count": 0,
   "metadata": {
    "application/vnd.databricks.v1+cell": {
     "cellMetadata": {
      "byteLimit": 2048000,
      "rowLimit": 10000
     },
     "inputWidgets": {},
     "nuid": "39e4fd01-444c-43ee-8880-6fb1df51a837",
     "showTitle": false,
     "title": ""
    }
   },
   "outputs": [],
   "source": [
    "## Read the combined data from DBFS and create a temporary veiw"
   ]
  },
  {
   "cell_type": "code",
   "execution_count": 0,
   "metadata": {
    "application/vnd.databricks.v1+cell": {
     "cellMetadata": {
      "byteLimit": 2048000,
      "rowLimit": 10000
     },
     "inputWidgets": {},
     "nuid": "578ed666-eaf5-46db-ab82-71b496680e4f",
     "showTitle": false,
     "title": ""
    }
   },
   "outputs": [],
   "source": [
    "merged_data = spark.read.parquet(\"/FileStore/combined_green_yellow_location\")\n",
    "\n",
    "# Create a temporary view for the combined data\n",
    "merged_data.createOrReplaceTempView(\"merged_data_view\")"
   ]
  },
  {
   "cell_type": "code",
   "execution_count": 0,
   "metadata": {
    "application/vnd.databricks.v1+cell": {
     "cellMetadata": {
      "byteLimit": 2048000,
      "rowLimit": 10000
     },
     "inputWidgets": {},
     "nuid": "6ccb6e01-6437-4858-b588-9aff94fa4c37",
     "showTitle": false,
     "title": ""
    }
   },
   "outputs": [],
   "source": [
    "#### Part2: Business Questions"
   ]
  },
  {
   "cell_type": "code",
   "execution_count": 0,
   "metadata": {
    "application/vnd.databricks.v1+cell": {
     "cellMetadata": {
      "byteLimit": 2048000,
      "rowLimit": 10000
     },
     "inputWidgets": {},
     "nuid": "fef13845-06f7-473b-9c02-f4fae3362416",
     "showTitle": false,
     "title": ""
    }
   },
   "outputs": [],
   "source": [
    "# Finding the total number of trips for each year and month\n",
    "year_month_stats = spark.sql('''\n",
    "SELECT DATE_FORMAT(pickup_datetime, 'MMM y') AS year_month, count(*) AS total_number_trips\n",
    "FROM merged_data_view\n",
    "GROUP BY year_month\n",
    "''')"
   ]
  },
  {
   "cell_type": "code",
   "execution_count": 0,
   "metadata": {
    "application/vnd.databricks.v1+cell": {
     "cellMetadata": {
      "byteLimit": 2048000,
      "rowLimit": 10000
     },
     "inputWidgets": {},
     "nuid": "eb5e2d06-a1c4-42af-aaf8-9aebf4d5c5f6",
     "showTitle": false,
     "title": ""
    }
   },
   "outputs": [],
   "source": [
    "# Finding out which day of week had the most trips for each year and month\n",
    "day_highest_trips = spark.sql('''\n",
    "WITH trip_ranks AS\n",
    "(SELECT year_month, day_week, number_trips,\n",
    "RANK() over (partition by year_month order by number_trips desc) as rk\n",
    "FROM\n",
    "(SELECT DATE_FORMAT(pickup_datetime, 'MMM y') AS year_month, \n",
    "DATE_FORMAT(pickup_datetime, 'E') AS day_week, count(*) AS number_trips\n",
    "FROM merged_data_view\n",
    "GROUP BY year_month, day_week) AS num_trips_day)\n",
    "SELECT year_month, day_week\n",
    "FROM trip_ranks\n",
    "WHERE rk = 1\n",
    "''')"
   ]
  },
  {
   "cell_type": "code",
   "execution_count": 0,
   "metadata": {
    "application/vnd.databricks.v1+cell": {
     "cellMetadata": {
      "byteLimit": 2048000,
      "rowLimit": 10000
     },
     "inputWidgets": {},
     "nuid": "2a23307c-82eb-460c-ad8f-08eed0e26716",
     "showTitle": false,
     "title": ""
    }
   },
   "outputs": [],
   "source": [
    "# Joining the dataframes year_month_stats and day_highest_trips\n",
    "year_month_stats = year_month_stats.join(day_highest_trips, \"year_month\", \"inner\")"
   ]
  },
  {
   "cell_type": "code",
   "execution_count": 0,
   "metadata": {
    "application/vnd.databricks.v1+cell": {
     "cellMetadata": {
      "byteLimit": 2048000,
      "rowLimit": 10000
     },
     "inputWidgets": {},
     "nuid": "08eb6618-d0b9-4dda-810a-d1149431cfd0",
     "showTitle": false,
     "title": ""
    }
   },
   "outputs": [],
   "source": [
    "# Finding out which hour of day had the most trips for each year and month\n",
    "hour_highest_trips = spark.sql('''\n",
    "WITH trip_ranks_hour AS\n",
    "(SELECT year_month, hour_day, number_trips,\n",
    "RANK() over (partition by year_month order by number_trips desc) as rk\n",
    "FROM\n",
    "(SELECT DATE_FORMAT(pickup_datetime, 'MMM y') AS year_month, \n",
    "DATE_FORMAT(pickup_datetime, 'H') AS hour_day, count(*) AS number_trips\n",
    "FROM merged_data_view\n",
    "GROUP BY year_month, hour_day) AS num_trips_hour_day)\n",
    "SELECT year_month, hour_day\n",
    "FROM trip_ranks_hour\n",
    "WHERE rk = 1\n",
    "''')"
   ]
  },
  {
   "cell_type": "code",
   "execution_count": 0,
   "metadata": {
    "application/vnd.databricks.v1+cell": {
     "cellMetadata": {
      "byteLimit": 2048000,
      "rowLimit": 10000
     },
     "inputWidgets": {},
     "nuid": "884fd7c2-edf5-4872-9947-a3fe1d9558b3",
     "showTitle": false,
     "title": ""
    }
   },
   "outputs": [],
   "source": [
    "# Joining the dataframes year_month_stats and hour_highest_trips\n",
    "year_month_stats = year_month_stats.join(hour_highest_trips, \"year_month\", \"inner\")"
   ]
  },
  {
   "cell_type": "code",
   "execution_count": 0,
   "metadata": {
    "application/vnd.databricks.v1+cell": {
     "cellMetadata": {
      "byteLimit": 2048000,
      "rowLimit": 10000
     },
     "inputWidgets": {},
     "nuid": "392700c4-73a6-4629-aa31-5ea11689324d",
     "showTitle": false,
     "title": ""
    }
   },
   "outputs": [],
   "source": [
    "# Finding the average number of passengers for each year and month\n",
    "avg_passengers = spark.sql('''\n",
    "SELECT DATE_FORMAT(pickup_datetime, 'MMM y') AS year_month, avg(passenger_count) as avg_number_passengers\n",
    "FROM merged_data_view\n",
    "GROUP BY year_month\n",
    "''')"
   ]
  },
  {
   "cell_type": "code",
   "execution_count": 0,
   "metadata": {
    "application/vnd.databricks.v1+cell": {
     "cellMetadata": {
      "byteLimit": 2048000,
      "rowLimit": 10000
     },
     "inputWidgets": {},
     "nuid": "0a93dc8f-50bc-4d5a-a939-29a4366da3cd",
     "showTitle": false,
     "title": ""
    }
   },
   "outputs": [],
   "source": [
    "# Joining the dataframes year_month_stats and avg_passengers\n",
    "year_month_stats = year_month_stats.join(avg_passengers, \"year_month\", \"inner\")"
   ]
  },
  {
   "cell_type": "code",
   "execution_count": 0,
   "metadata": {
    "application/vnd.databricks.v1+cell": {
     "cellMetadata": {
      "byteLimit": 2048000,
      "rowLimit": 10000
     },
     "inputWidgets": {},
     "nuid": "c67a98e2-6fd4-4d79-b707-e66019997cce",
     "showTitle": false,
     "title": ""
    }
   },
   "outputs": [],
   "source": [
    "# Finding the average amount paid per trip for each year and month\n",
    "avg_amount_paid_per_trip = spark.sql('''\n",
    "SELECT DATE_FORMAT(pickup_datetime, 'MMM y') AS year_month, avg(total_amount) as avg_amount_paid_per_trip\n",
    "FROM merged_data_view\n",
    "GROUP BY year_month\n",
    "''')"
   ]
  },
  {
   "cell_type": "code",
   "execution_count": 0,
   "metadata": {
    "application/vnd.databricks.v1+cell": {
     "cellMetadata": {
      "byteLimit": 2048000,
      "rowLimit": 10000
     },
     "inputWidgets": {},
     "nuid": "a002ab7e-31ad-464c-b07b-370615485d05",
     "showTitle": false,
     "title": ""
    }
   },
   "outputs": [],
   "source": [
    "# Joining the dataframes year_month_stats and avg_amount_paid_per_trip\n",
    "year_month_stats = year_month_stats.join(avg_amount_paid_per_trip, \"year_month\", \"inner\")"
   ]
  },
  {
   "cell_type": "code",
   "execution_count": 0,
   "metadata": {
    "application/vnd.databricks.v1+cell": {
     "cellMetadata": {
      "byteLimit": 2048000,
      "rowLimit": 10000
     },
     "inputWidgets": {},
     "nuid": "2233cf0a-de11-4bee-b89b-159770f03636",
     "showTitle": false,
     "title": ""
    }
   },
   "outputs": [],
   "source": [
    "# Finding the average amount paid per passenger for each year and month\n",
    "avg_amount_paid_per_passenger = spark.sql('''\n",
    "SELECT DATE_FORMAT(pickup_datetime, 'MMM y') AS year_month, sum(total_amount)/sum(passenger_count) as avg_amount_paid_per_passenger\n",
    "FROM merged_data_view\n",
    "GROUP BY year_month\n",
    "''')"
   ]
  },
  {
   "cell_type": "code",
   "execution_count": 0,
   "metadata": {
    "application/vnd.databricks.v1+cell": {
     "cellMetadata": {
      "byteLimit": 2048000,
      "rowLimit": 10000
     },
     "inputWidgets": {},
     "nuid": "1371214b-8f20-47a3-9fe7-f57904b1cc98",
     "showTitle": false,
     "title": ""
    }
   },
   "outputs": [],
   "source": [
    "# Joining the dataframes year_month_stats and avg_amount_paid_per_passenger\n",
    "year_month_stats = year_month_stats.join(avg_amount_paid_per_passenger, \"year_month\", \"inner\")"
   ]
  },
  {
   "cell_type": "code",
   "execution_count": 0,
   "metadata": {
    "application/vnd.databricks.v1+cell": {
     "cellMetadata": {
      "byteLimit": 2048000,
      "rowLimit": 10000
     },
     "inputWidgets": {},
     "nuid": "8e4f05d0-6726-4130-9219-48c82d1a9888",
     "showTitle": false,
     "title": ""
    }
   },
   "outputs": [
    {
     "output_type": "stream",
     "name": "stdout",
     "output_type": "stream",
     "text": [
      "+----------+------------------+--------+--------+---------------------+------------------------+-----------------------------+\n|year_month|total_number_trips|day_week|hour_day|avg_number_passengers|avg_amount_paid_per_trip|avg_amount_paid_per_passenger|\n+----------+------------------+--------+--------+---------------------+------------------------+-----------------------------+\n|  Apr 2015|           1580592|     Sat|      18|   1.3804618775749846|      14.950140713397484|           10.829810628063083|\n|  Apr 2016|           1458480|     Sat|      18|   1.3663972080522186|      14.971400677684295|           10.956843727034418|\n|  Apr 2017|           1022159|     Sat|      18|     1.36612210037773|      14.357049705730981|           10.509345908218076|\n|  Apr 2018|            758813|     Sun|      18|   1.3653587906374824|      15.816456426110816|            11.58410268023847|\n|  Apr 2019|            536977|     Tue|      18|   1.3161163468429673|      18.770194458898914|            15.81719998172736|\n|  Apr 2020|             32354|     Thu|       8|    1.120279526101444|      20.044620139701557|            26.79074813070204|\n|  Apr 2021|             80995|     Thu|      10|     1.26231700792763|      24.540058398668773|            38.29050896761982|\n|  Apr 2022|             69522|     Fri|      17|   1.2939709212642359|      18.571368631522603|           16.373949804706466|\n|  Aug 2015|           1459735|     Sat|      19|   1.3849904263445076|      15.127942722767129|           10.922777829371181|\n|  Aug 2016|           1177355|     Sat|      18|    1.364489894721643|        15.0707668377503|            11.04498237476852|\n+----------+------------------+--------+--------+---------------------+------------------------+-----------------------------+\nonly showing top 10 rows\n\n"
     ]
    }
   ],
   "source": [
    "# Display the year_month_stats dataframe\n",
    "year_month_stats.show(10)"
   ]
  },
  {
   "cell_type": "code",
   "execution_count": 0,
   "metadata": {
    "application/vnd.databricks.v1+cell": {
     "cellMetadata": {
      "byteLimit": 2048000,
      "rowLimit": 10000
     },
     "inputWidgets": {},
     "nuid": "e3b5673d-d8f2-4ca9-83a6-6b0728f79cec",
     "showTitle": false,
     "title": ""
    }
   },
   "outputs": [],
   "source": [
    "## Part2: Q2"
   ]
  },
  {
   "cell_type": "code",
   "execution_count": 0,
   "metadata": {
    "application/vnd.databricks.v1+cell": {
     "cellMetadata": {
      "byteLimit": 2048000,
      "rowLimit": 10000
     },
     "inputWidgets": {},
     "nuid": "0517bb2a-b146-4832-8c5c-addb8e2a7549",
     "showTitle": false,
     "title": ""
    }
   },
   "outputs": [
    {
     "output_type": "stream",
     "name": "stdout",
     "output_type": "stream",
     "text": [
      "+----------+-----------------+--------------------+-----------------+-----------------+---------------+------------------+---------------+---------------+-------------+----------------+-------------+-------------+\n|taxi_color|avg_duration_mins|median_duration_mins|min_duration_mins|max_duration_mins|avg_distance_km|median_distance_km|min_distance_km|max_distance_km|avg_speed_kph|median_speed_kph|min_speed_kph|max_speed_kph|\n+----------+-----------------+--------------------+-----------------+-----------------+---------------+------------------+---------------+---------------+-------------+----------------+-------------+-------------+\n|     green|            14.28|               10.98|             1.02|            150.0|           5.04|              3.22|           0.72|          80.47|        20.44|           18.48|          0.3|        88.51|\n|    yellow|            14.28|               10.98|             1.02|            150.0|           5.04|              3.22|           0.72|          80.47|        20.44|           18.48|         0.29|        88.51|\n+----------+-----------------+--------------------+-----------------+-----------------+---------------+------------------+---------------+---------------+-------------+----------------+-------------+-------------+\n\n"
     ]
    }
   ],
   "source": [
    "spark.sql('''\n",
    "SELECT taxi_color, round(avg(duration_seconds/60),2) as avg_duration_mins, \n",
    "round(approx_percentile(duration_seconds/60, 0.5),2) as median_duration_mins,\n",
    "round(min(duration_seconds/60),2) as min_duration_mins, \n",
    "round(max(duration_seconds/60),2) as max_duration_mins,\n",
    "round(avg(trip_distance*1.60934),2) as avg_distance_km,\n",
    "round(approx_percentile(trip_distance*1.60934, 0.5),2) as median_distance_km,\n",
    "round(min(trip_distance*1.60934),2) as min_distance_km,\n",
    "round(max(trip_distance*1.60934),2) as max_distance_km,\n",
    "round(avg((trip_distance*1.60934)/duration_hours),2) as avg_speed_kph,\n",
    "round(approx_percentile((trip_distance*1.60934)/duration_hours, 0.5),2) as median_speed_kph,\n",
    "round(min((trip_distance*1.60934)/duration_hours),2) as min_speed_kph,\n",
    "round(max((trip_distance*1.60934)/duration_hours),2) as max_speed_kph\n",
    "FROM merged_data_view\n",
    "GROUP BY taxi_color\n",
    "''').show()"
   ]
  },
  {
   "cell_type": "code",
   "execution_count": 0,
   "metadata": {
    "application/vnd.databricks.v1+cell": {
     "cellMetadata": {
      "byteLimit": 2048000,
      "rowLimit": 10000
     },
     "inputWidgets": {},
     "nuid": "4ae91264-64c2-4ba1-aea2-5d094652078d",
     "showTitle": false,
     "title": ""
    }
   },
   "outputs": [],
   "source": [
    "## Part 2: Q3"
   ]
  },
  {
   "cell_type": "code",
   "execution_count": 0,
   "metadata": {
    "application/vnd.databricks.v1+cell": {
     "cellMetadata": {
      "byteLimit": 2048000,
      "rowLimit": 10000
     },
     "inputWidgets": {},
     "nuid": "a2d88129-3982-45df-af30-4b0ee410740d",
     "showTitle": false,
     "title": ""
    }
   },
   "outputs": [
    {
     "output_type": "stream",
     "name": "stdout",
     "output_type": "stream",
     "text": [
      "+----------+----------+--------+--------+---------------------+---------------+------------------------+-----------------+\n|taxi_color|year_month|day_week|hour_day|total_nubmer_of_trips|avg_distance_km|avg_amount_paid_per_trip|total_amount_paid|\n+----------+----------+--------+--------+---------------------+---------------+------------------------+-----------------+\n|    yellow|  May 2015|     Fri|       1|                    9|          21.36|                   45.31|            407.8|\n|    yellow|  May 2015|     Fri|       2|                    7|           12.7|                   28.27|           197.88|\n|    yellow|  May 2015|     Fri|       4|                  132|           4.46|                   12.43|          1640.66|\n|     green|  May 2015|     Fri|      12|                  129|           9.58|                   30.97|           3995.7|\n|    yellow|  May 2015|     Fri|      13|                   55|          12.59|                   31.74|          1745.78|\n|     green|  May 2015|     Fri|      14|                  125|           9.24|                   31.19|          3898.62|\n|     green|  May 2015|     Sat|       0|                   13|          27.08|                   57.86|           752.17|\n|    yellow|  May 2015|     Sat|       3|                  632|            9.3|                   24.57|         15527.53|\n|     green|  May 2015|     Sat|      19|                    2|           3.63|                   13.98|            27.95|\n|     green|  May 2015|     Sun|       9|                    5|          17.09|                   42.41|           212.03|\n|     green|  May 2015|     Sun|      14|                    8|          29.38|                  103.35|           826.81|\n|     green|  May 2015|     Sun|      20|                    2|           5.12|                    19.2|             38.4|\n|     green|  May 2015|     Sun|      22|                  234|           5.87|                   15.22|          3561.99|\n|    yellow|  May 2015|     Mon|       2|                   75|          10.76|                   24.49|          1837.12|\n|    yellow|  May 2015|     Mon|       8|                   40|           9.61|                   25.98|          1039.01|\n|     green|  May 2015|     Mon|       8|                    7|          19.95|                   45.98|           321.88|\n|    yellow|  May 2015|     Mon|      12|                  135|           8.51|                   26.79|          3616.33|\n|    yellow|  May 2015|     Mon|      16|                    1|           2.06|                   11.16|            11.16|\n|     green|  May 2015|     Tue|       1|                  584|           3.49|                   10.72|          6259.68|\n|    yellow|  May 2015|     Tue|      22|                 1122|            3.7|                   11.61|         13021.41|\n+----------+----------+--------+--------+---------------------+---------------+------------------------+-----------------+\nonly showing top 20 rows\n\n"
     ]
    }
   ],
   "source": [
    "spark.sql('''\n",
    "SELECT taxi_color, \n",
    "DATE_FORMAT(pickup_datetime, 'MMM y') AS year_month,\n",
    "DATE_FORMAT(pickup_datetime, 'E') AS day_week,\n",
    "DATE_FORMAT(pickup_datetime, 'H') AS hour_day,\n",
    "count(*) as total_nubmer_of_trips,\n",
    "round(avg(trip_distance*1.60934),2) as avg_distance_km,\n",
    "round(avg(total_amount),2) as avg_amount_paid_per_trip,\n",
    "round(sum(total_amount),2) as total_amount_paid\n",
    "FROM merged_data_view\n",
    "GROUP BY taxi_color, PUBorough,DOBorough, year_month, day_week, hour_day\n",
    "''').show()"
   ]
  },
  {
   "cell_type": "code",
   "execution_count": 0,
   "metadata": {
    "application/vnd.databricks.v1+cell": {
     "cellMetadata": {
      "byteLimit": 2048000,
      "rowLimit": 10000
     },
     "inputWidgets": {},
     "nuid": "97afdf15-fe51-4cc8-a42f-22142daadf4a",
     "showTitle": false,
     "title": ""
    }
   },
   "outputs": [],
   "source": [
    "## Part 2: Q4"
   ]
  },
  {
   "cell_type": "code",
   "execution_count": 0,
   "metadata": {
    "application/vnd.databricks.v1+cell": {
     "cellMetadata": {
      "byteLimit": 2048000,
      "rowLimit": 10000
     },
     "inputWidgets": {},
     "nuid": "68747314-7f34-49d1-b67d-9d4c1ff0cadf",
     "showTitle": false,
     "title": ""
    }
   },
   "outputs": [
    {
     "output_type": "stream",
     "name": "stdout",
     "output_type": "stream",
     "text": [
      "+-----------------------------+\n|percentage_trips_received_tip|\n+-----------------------------+\n|            40.97119561399637|\n+-----------------------------+\n\n"
     ]
    }
   ],
   "source": [
    "# Finding the percentage of trips where drivers received a tip\n",
    "spark.sql('''\n",
    "SELECT (count(*)/(SELECT count(*) FROM merged_data_view))*100 as percentage_trips_received_tip\n",
    "FROM merged_data_view\n",
    "WHERE tip_amount != 0\n",
    "''').show()"
   ]
  },
  {
   "cell_type": "code",
   "execution_count": 0,
   "metadata": {
    "application/vnd.databricks.v1+cell": {
     "cellMetadata": {
      "byteLimit": 2048000,
      "rowLimit": 10000
     },
     "inputWidgets": {},
     "nuid": "fc62350a-2a65-4fc1-b59b-689669d36af2",
     "showTitle": false,
     "title": ""
    }
   },
   "outputs": [],
   "source": [
    "## Part 2: Q5"
   ]
  },
  {
   "cell_type": "code",
   "execution_count": 0,
   "metadata": {
    "application/vnd.databricks.v1+cell": {
     "cellMetadata": {
      "byteLimit": 2048000,
      "rowLimit": 10000
     },
     "inputWidgets": {},
     "nuid": "d36f2e7b-a3b8-4bb5-a0df-0723973322d1",
     "showTitle": false,
     "title": ""
    }
   },
   "outputs": [
    {
     "output_type": "stream",
     "name": "stdout",
     "output_type": "stream",
     "text": [
      "+--------------------------------------------+\n|percentage_trips_tips_more_than_five_dollars|\n+--------------------------------------------+\n|                          12.205032370644812|\n+--------------------------------------------+\n\n"
     ]
    }
   ],
   "source": [
    "# Finding the percentage of trips with tips where drivers received a tip of at least $10\n",
    "spark.sql('''\n",
    "WITH tips_received as\n",
    "(SELECT *\n",
    "FROM merged_data_view\n",
    "WHERE tip_amount != 0)\n",
    "SELECT (count(*)/(SELECT count(*) FROM tips_received))*100 as percentage_trips_tips_more_than_five_dollars\n",
    "FROM tips_received\n",
    "WHERE tip_amount >= 5\n",
    "''').show()"
   ]
  },
  {
   "cell_type": "code",
   "execution_count": 0,
   "metadata": {
    "application/vnd.databricks.v1+cell": {
     "cellMetadata": {
      "byteLimit": 2048000,
      "rowLimit": 10000
     },
     "inputWidgets": {},
     "nuid": "1ed45ca1-c434-4bd7-8d96-470f50f5afb3",
     "showTitle": false,
     "title": ""
    }
   },
   "outputs": [],
   "source": [
    "## Part 2: Q6"
   ]
  },
  {
   "cell_type": "code",
   "execution_count": 0,
   "metadata": {
    "application/vnd.databricks.v1+cell": {
     "cellMetadata": {
      "byteLimit": 2048000,
      "rowLimit": 10000
     },
     "inputWidgets": {},
     "nuid": "2eb825b2-10a7-49c7-a035-6f4183945a75",
     "showTitle": false,
     "title": ""
    }
   },
   "outputs": [
    {
     "output_type": "display_data",
     "data": {
      "text/html": [
       "<style scoped>\n",
       "  .table-result-container {\n",
       "    max-height: 300px;\n",
       "    overflow: auto;\n",
       "  }\n",
       "  table, th, td {\n",
       "    border: 1px solid black;\n",
       "    border-collapse: collapse;\n",
       "  }\n",
       "  th, td {\n",
       "    padding: 5px;\n",
       "  }\n",
       "  th {\n",
       "    text-align: left;\n",
       "  }\n",
       "</style><div class='table-result-container'><table class='table-result'><thead style='background-color: white'><tr><th>duration_bins</th><th>avg_speed_kph</th><th>avg_distance_per_dollar</th></tr></thead><tbody><tr><td>From 5 mins to 10 mins</td><td>18.57</td><td>0.25</td></tr><tr><td>Under 5 mins</td><td>20.65</td><td>0.19</td></tr><tr><td>From 10 mins to 20 mins</td><td>20.82</td><td>0.32</td></tr><tr><td>From 20 mins to 30 mins</td><td>22.57</td><td>0.37</td></tr><tr><td>At least 60 mins</td><td>19.84</td><td>0.9</td></tr><tr><td>From 30 mins to 60 mins</td><td>22.68</td><td>0.44</td></tr></tbody></table></div>"
      ]
     },
     "metadata": {
      "application/vnd.databricks.v1+output": {
       "addedWidgets": {},
       "aggData": [],
       "aggError": "",
       "aggOverflow": false,
       "aggSchema": [],
       "aggSeriesLimitReached": false,
       "aggType": "",
       "arguments": {},
       "columnCustomDisplayInfos": {},
       "data": [
        [
         "From 5 mins to 10 mins",
         18.57,
         0.25
        ],
        [
         "Under 5 mins",
         20.65,
         0.19
        ],
        [
         "From 10 mins to 20 mins",
         20.82,
         0.32
        ],
        [
         "From 20 mins to 30 mins",
         22.57,
         0.37
        ],
        [
         "At least 60 mins",
         19.84,
         0.9
        ],
        [
         "From 30 mins to 60 mins",
         22.68,
         0.44
        ]
       ],
       "datasetInfos": [],
       "dbfsResultPath": null,
       "isJsonSchema": true,
       "metadata": {},
       "overflow": false,
       "plotOptions": {
        "customPlotOptions": {},
        "displayType": "table",
        "pivotAggregation": null,
        "pivotColumns": null,
        "xColumns": null,
        "yColumns": null
       },
       "removedWidgets": [],
       "schema": [
        {
         "metadata": "{}",
         "name": "duration_bins",
         "type": "\"string\""
        },
        {
         "metadata": "{}",
         "name": "avg_speed_kph",
         "type": "\"double\""
        },
        {
         "metadata": "{}",
         "name": "avg_distance_per_dollar",
         "type": "\"double\""
        }
       ],
       "type": "table"
      }
     },
     "output_type": "display_data"
    }
   ],
   "source": [
    "# Finding average speed, average distance per dollar for 5 bins of durations\n",
    "spark.sql('''\n",
    "WITH combined_data_with_duration_bins as\n",
    "(SELECT *,\n",
    "CASE\n",
    "    WHEN (duration_seconds/60) < 5 THEN 'Under 5 mins'\n",
    "    WHEN (duration_seconds/60) >= 5 and (duration_seconds/60) < 10 THEN 'From 5 mins to 10 mins'\n",
    "    WHEN (duration_seconds/60) >= 10 and (duration_seconds/60) < 20 THEN 'From 10 mins to 20 mins'\n",
    "    WHEN (duration_seconds/60) >= 20 and (duration_seconds/60) < 30 THEN 'From 20 mins to 30 mins'\n",
    "    WHEN (duration_seconds/60) >= 30 and (duration_seconds/60) < 60 THEN 'From 30 mins to 60 mins'\n",
    "    WHEN (duration_seconds/60) >= 60  THEN 'At least 60 mins'\n",
    "END as duration_bins\n",
    "FROM merged_data_view)\n",
    "SELECT duration_bins, \n",
    "round(avg((trip_distance*1.60934)/duration_hours),2) as avg_speed_kph,\n",
    "round(avg((trip_distance*1.60934)/total_amount),2) as avg_distance_per_dollar\n",
    "FROM combined_data_with_duration_bins\n",
    "GROUP BY duration_bins\n",
    "''').display()"
   ]
  },
  {
   "cell_type": "code",
   "execution_count": 0,
   "metadata": {
    "application/vnd.databricks.v1+cell": {
     "cellMetadata": {
      "byteLimit": 2048000,
      "rowLimit": 10000
     },
     "inputWidgets": {},
     "nuid": "28c84d18-c1b8-4f52-a3c3-3c36c6dd0282",
     "showTitle": false,
     "title": ""
    }
   },
   "outputs": [],
   "source": [
    "## Part2: Q7"
   ]
  },
  {
   "cell_type": "code",
   "execution_count": 0,
   "metadata": {
    "application/vnd.databricks.v1+cell": {
     "cellMetadata": {
      "byteLimit": 2048000,
      "rowLimit": 10000
     },
     "inputWidgets": {},
     "nuid": "a3cf811c-b005-48e7-9bf7-04ff7345da04",
     "showTitle": false,
     "title": ""
    }
   },
   "outputs": [
    {
     "output_type": "display_data",
     "data": {
      "text/html": [
       "<style scoped>\n",
       "  .table-result-container {\n",
       "    max-height: 300px;\n",
       "    overflow: auto;\n",
       "  }\n",
       "  table, th, td {\n",
       "    border: 1px solid black;\n",
       "    border-collapse: collapse;\n",
       "  }\n",
       "  th, td {\n",
       "    padding: 5px;\n",
       "  }\n",
       "  th {\n",
       "    text-align: left;\n",
       "  }\n",
       "</style><div class='table-result-container'><table class='table-result'><thead style='background-color: white'><tr><th>duration_bins</th><th>sum_amount</th><th>avg_amount</th><th>median_amount</th><th>avg_distance_per_dollar_total_amount</th></tr></thead><tbody><tr><td>From 5 mins to 10 mins</td><td>1.8333253714E8</td><td>9.32</td><td>8.8</td><td>0.25</td></tr><tr><td>Under 5 mins</td><td>5.516366275E7</td><td>6.57</td><td>6.3</td><td>0.19</td></tr><tr><td>From 10 mins to 20 mins</td><td>3.3411689859E8</td><td>15.59</td><td>14.3</td><td>0.32</td></tr><tr><td>From 20 mins to 30 mins</td><td>1.9510024593E8</td><td>25.31</td><td>23.3</td><td>0.37</td></tr><tr><td>At least 60 mins</td><td>3.200992387E7</td><td>61.0</td><td>59.3</td><td>0.9</td></tr><tr><td>From 30 mins to 60 mins</td><td>1.8415835201E8</td><td>38.59</td><td>35.38</td><td>0.44</td></tr></tbody></table></div>"
      ]
     },
     "metadata": {
      "application/vnd.databricks.v1+output": {
       "addedWidgets": {},
       "aggData": [],
       "aggError": "",
       "aggOverflow": false,
       "aggSchema": [],
       "aggSeriesLimitReached": false,
       "aggType": "",
       "arguments": {},
       "columnCustomDisplayInfos": {},
       "data": [
        [
         "From 5 mins to 10 mins",
         1.8333253714E8,
         9.32,
         8.8,
         0.25
        ],
        [
         "Under 5 mins",
         5.516366275E7,
         6.57,
         6.3,
         0.19
        ],
        [
         "From 10 mins to 20 mins",
         3.3411689859E8,
         15.59,
         14.3,
         0.32
        ],
        [
         "From 20 mins to 30 mins",
         1.9510024593E8,
         25.31,
         23.3,
         0.37
        ],
        [
         "At least 60 mins",
         3.200992387E7,
         61.0,
         59.3,
         0.9
        ],
        [
         "From 30 mins to 60 mins",
         1.8415835201E8,
         38.59,
         35.38,
         0.44
        ]
       ],
       "datasetInfos": [],
       "dbfsResultPath": null,
       "isJsonSchema": true,
       "metadata": {},
       "overflow": false,
       "plotOptions": {
        "customPlotOptions": {},
        "displayType": "table",
        "pivotAggregation": null,
        "pivotColumns": null,
        "xColumns": null,
        "yColumns": null
       },
       "removedWidgets": [],
       "schema": [
        {
         "metadata": "{}",
         "name": "duration_bins",
         "type": "\"string\""
        },
        {
         "metadata": "{}",
         "name": "sum_amount",
         "type": "\"double\""
        },
        {
         "metadata": "{}",
         "name": "avg_amount",
         "type": "\"double\""
        },
        {
         "metadata": "{}",
         "name": "median_amount",
         "type": "\"double\""
        },
        {
         "metadata": "{}",
         "name": "avg_distance_per_dollar_total_amount",
         "type": "\"double\""
        }
       ],
       "type": "table"
      }
     },
     "output_type": "display_data"
    }
   ],
   "source": [
    "# Duration bin to maximize the driver's income\n",
    "spark.sql('''\n",
    "WITH combined_data_with_duration_bins as\n",
    "(SELECT *,\n",
    "CASE\n",
    "    WHEN (duration_seconds/60) < 5 THEN 'Under 5 mins'\n",
    "    WHEN (duration_seconds/60) >= 5 and (duration_seconds/60) < 10 THEN 'From 5 mins to 10 mins'\n",
    "    WHEN (duration_seconds/60) >= 10 and (duration_seconds/60) < 20 THEN 'From 10 mins to 20 mins'\n",
    "    WHEN (duration_seconds/60) >= 20 and (duration_seconds/60) < 30 THEN 'From 20 mins to 30 mins'\n",
    "    WHEN (duration_seconds/60) >= 30 and (duration_seconds/60) < 60 THEN 'From 30 mins to 60 mins'\n",
    "    WHEN (duration_seconds/60) >= 60  THEN 'At least 60 mins'\n",
    "END as duration_bins\n",
    "FROM merged_data_view)\n",
    "SELECT duration_bins, \n",
    "round(sum(total_amount),2) as sum_amount,\n",
    "round(avg(total_amount),2) as avg_amount,\n",
    "round(approx_percentile(total_amount, 0.5),2) as median_amount,\n",
    "round(avg((trip_distance*1.60934)/total_amount),2) as avg_distance_per_dollar_total_amount\n",
    "FROM combined_data_with_duration_bins\n",
    "GROUP BY duration_bins\n",
    "''').display()"
   ]
  }
 ],
 "metadata": {
  "application/vnd.databricks.v1+notebook": {
   "dashboards": [],
   "language": "python",
   "notebookMetadata": {
    "pythonIndentUnit": 4
   },
   "notebookName": "BDE_AT2_Part1_and_2-Islam_Tahmidul_24587139",
   "widgets": {}
  }
 },
 "nbformat": 4,
 "nbformat_minor": 0
}
