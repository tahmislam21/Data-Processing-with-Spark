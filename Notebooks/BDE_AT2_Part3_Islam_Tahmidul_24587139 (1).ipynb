{
 "cells": [
  {
   "cell_type": "code",
   "execution_count": 0,
   "metadata": {
    "application/vnd.databricks.v1+cell": {
     "cellMetadata": {
      "byteLimit": 2048000,
      "rowLimit": 10000
     },
     "inputWidgets": {},
     "nuid": "2f3a647b-3d02-4f76-9e0c-3b9b4b0ec75c",
     "showTitle": false,
     "title": ""
    }
   },
   "outputs": [],
   "source": [
    "combined_data = spark.read.parquet(\"/FileStore/green_yellow_location_combined\")"
   ]
  },
  {
   "cell_type": "code",
   "execution_count": 0,
   "metadata": {
    "application/vnd.databricks.v1+cell": {
     "cellMetadata": {
      "byteLimit": 2048000,
      "rowLimit": 10000
     },
     "inputWidgets": {},
     "nuid": "fd032bd0-9fcb-4cd8-812f-6f6f9b091cca",
     "showTitle": false,
     "title": ""
    }
   },
   "outputs": [
    {
     "output_type": "stream",
     "name": "stdout",
     "output_type": "stream",
     "text": [
      "+--------+-------------------+---------------+-------------+------------+------------+----------+------------+----------------+-------------------+------------------+----------+---------+---------+\n|VendorID|    pickup_datetime|passenger_count|trip_distance|PULocationID|DOLocationID|tip_amount|total_amount|duration_seconds|     duration_hours|         speed_mph|taxi_color|PUBorough|DOBorough|\n+--------+-------------------+---------------+-------------+------------+------------+----------+------------+----------------+-------------------+------------------+----------+---------+---------+\n|       2|2015-05-01 00:07:45|            1.0|         1.09|         255|         112|       1.0|         7.8|             305|0.08472222222222223|12.865573770491803|    yellow| Brooklyn| Brooklyn|\n|       2|2015-05-01 00:26:23|            1.0|         5.73|         255|          13|      4.66|       27.96|            1729| 0.4802777777777778|11.930595720069405|     green| Brooklyn|Manhattan|\n|       2|2015-05-01 00:20:16|            1.0|         2.35|          80|         225|       0.0|        10.8|             621|             0.1725|13.623188405797103|    yellow| Brooklyn| Brooklyn|\n|       2|2015-05-01 00:37:21|            1.0|         2.68|          37|         112|      3.08|       15.38|             759|0.21083333333333334|12.711462450592885|     green| Brooklyn| Brooklyn|\n|       2|2015-05-01 00:06:15|            1.0|         4.74|         255|         164|       0.0|        20.8|            1505|0.41805555555555557|11.338205980066446|    yellow| Brooklyn|Manhattan|\n+--------+-------------------+---------------+-------------+------------+------------+----------+------------+----------------+-------------------+------------------+----------+---------+---------+\nonly showing top 5 rows\n\n"
     ]
    }
   ],
   "source": [
    "combined_data.show(5)"
   ]
  },
  {
   "cell_type": "code",
   "execution_count": 0,
   "metadata": {
    "application/vnd.databricks.v1+cell": {
     "cellMetadata": {
      "byteLimit": 2048000,
      "rowLimit": 10000
     },
     "inputWidgets": {},
     "nuid": "9846fcd1-898c-46d4-b6e5-136c9649171e",
     "showTitle": false,
     "title": ""
    }
   },
   "outputs": [],
   "source": [
    "# Create a final dataframe for modelling containing data until September 2022\n",
    "final_model_data = combined_data.where(combined_data.pickup_datetime < '2022-10-01 00:00:00')\n",
    "\n",
    "# Put the data for Oct-Dec 2022 in a separate dataframe which will be used to test the ultimately trained model\n",
    "test_data = combined_data.where(combined_data.pickup_datetime >= '2022-10-01 00:00:00')"
   ]
  },
  {
   "cell_type": "code",
   "execution_count": 0,
   "metadata": {
    "application/vnd.databricks.v1+cell": {
     "cellMetadata": {
      "byteLimit": 2048000,
      "rowLimit": 10000
     },
     "inputWidgets": {},
     "nuid": "ec4ca151-8905-4578-b100-c1d4c3a5de6c",
     "showTitle": false,
     "title": ""
    }
   },
   "outputs": [
    {
     "output_type": "stream",
     "name": "stdout",
     "output_type": "stream",
     "text": [
      "root\n |-- VendorID: long (nullable = true)\n |-- pickup_datetime: timestamp (nullable = true)\n |-- passenger_count: double (nullable = true)\n |-- trip_distance: double (nullable = true)\n |-- PULocationID: long (nullable = true)\n |-- DOLocationID: long (nullable = true)\n |-- tip_amount: double (nullable = true)\n |-- total_amount: double (nullable = true)\n |-- duration_seconds: long (nullable = true)\n |-- duration_hours: double (nullable = true)\n |-- speed_mph: double (nullable = true)\n |-- taxi_color: string (nullable = true)\n |-- PUBorough: string (nullable = true)\n |-- DOBorough: string (nullable = true)\n\n"
     ]
    }
   ],
   "source": [
    "final_model_data.printSchema()"
   ]
  },
  {
   "cell_type": "code",
   "execution_count": 0,
   "metadata": {
    "application/vnd.databricks.v1+cell": {
     "cellMetadata": {
      "byteLimit": 2048000,
      "rowLimit": 10000
     },
     "inputWidgets": {},
     "nuid": "7eb36625-d7f9-4ffe-af81-813c7d743808",
     "showTitle": false,
     "title": ""
    }
   },
   "outputs": [],
   "source": [
    "# Creating a list containing the column names\n",
    "cols_list = [\"passenger_count\", \"trip_distance\", \"tip_amount\",  \"duration_seconds\", \"duration_hours\", \"speed_mph\", \"taxi_color\", \"total_amount\"]"
   ]
  },
  {
   "cell_type": "code",
   "execution_count": 0,
   "metadata": {
    "application/vnd.databricks.v1+cell": {
     "cellMetadata": {
      "byteLimit": 2048000,
      "rowLimit": 10000
     },
     "inputWidgets": {},
     "nuid": "92c6a475-14cf-4dd8-80ca-5b379f8c0e74",
     "showTitle": false,
     "title": ""
    }
   },
   "outputs": [],
   "source": [
    "final_model_data = final_model_data[cols_list]"
   ]
  },
  {
   "cell_type": "code",
   "execution_count": 0,
   "metadata": {
    "application/vnd.databricks.v1+cell": {
     "cellMetadata": {
      "byteLimit": 2048000,
      "rowLimit": 10000
     },
     "inputWidgets": {},
     "nuid": "0afbd645-be37-4c4c-99ba-4751cc9eb6bb",
     "showTitle": false,
     "title": ""
    }
   },
   "outputs": [],
   "source": [
    "# Dropping rows with NA values in the desired features\n",
    "final_model_data = final_model_data.na.drop(subset=[\"trip_distance\", \"duration_hours\", \"taxi_color\"])"
   ]
  },
  {
   "cell_type": "code",
   "execution_count": 0,
   "metadata": {
    "application/vnd.databricks.v1+cell": {
     "cellMetadata": {
      "byteLimit": 2048000,
      "rowLimit": 10000
     },
     "inputWidgets": {},
     "nuid": "7e6a8236-6e80-4c78-8940-d94f56610c9a",
     "showTitle": false,
     "title": ""
    }
   },
   "outputs": [
    {
     "output_type": "stream",
     "name": "stdout",
     "output_type": "stream",
     "text": [
      "root\n |-- passenger_count: double (nullable = true)\n |-- trip_distance: double (nullable = true)\n |-- tip_amount: double (nullable = true)\n |-- duration_seconds: long (nullable = true)\n |-- duration_hours: double (nullable = true)\n |-- speed_mph: double (nullable = true)\n |-- taxi_color: string (nullable = true)\n |-- total_amount: double (nullable = true)\n\n"
     ]
    }
   ],
   "source": [
    "final_model_data.printSchema()"
   ]
  },
  {
   "cell_type": "code",
   "execution_count": 0,
   "metadata": {
    "application/vnd.databricks.v1+cell": {
     "cellMetadata": {
      "byteLimit": 2048000,
      "rowLimit": 10000
     },
     "inputWidgets": {},
     "nuid": "29ca5db3-9377-4722-acc5-6b1bbbd786c3",
     "showTitle": false,
     "title": ""
    }
   },
   "outputs": [],
   "source": [
    "# Creating an empty list called stages\n",
    "stages = []"
   ]
  },
  {
   "cell_type": "code",
   "execution_count": 0,
   "metadata": {
    "application/vnd.databricks.v1+cell": {
     "cellMetadata": {
      "byteLimit": 2048000,
      "rowLimit": 10000
     },
     "inputWidgets": {},
     "nuid": "ad0fe3d6-b1d0-43b0-a926-88cd722abf1f",
     "showTitle": false,
     "title": ""
    }
   },
   "outputs": [],
   "source": [
    "# Import OneHotEncoder, StringIndexer, VectorAssembler from pyspark.ml.feature \n",
    "from pyspark.ml.feature import OneHotEncoder, StringIndexer, VectorAssembler\n",
    "# Instantiate StringIndexer and OneHotEncoder for taxi_color variable and add them to stages\n",
    "col_indexer = StringIndexer(inputCol=\"taxi_color\", outputCol=\"taxi_color_ind\")\n",
    "col_encoder = OneHotEncoder(inputCols=[\"taxi_color_ind\"], outputCols=[\"taxi_color_ohe\"])\n",
    "stages += [col_indexer, col_encoder]"
   ]
  },
  {
   "cell_type": "code",
   "execution_count": 0,
   "metadata": {
    "application/vnd.databricks.v1+cell": {
     "cellMetadata": {
      "byteLimit": 2048000,
      "rowLimit": 10000
     },
     "inputWidgets": {},
     "nuid": "b028a0b2-0be8-4c19-ad2b-4d77bbea29da",
     "showTitle": false,
     "title": ""
    }
   },
   "outputs": [],
   "source": [
    "# Importing VectorAssembler\n",
    "from pyspark.ml.feature import VectorAssembler\n",
    "# Instantiate a VectorAssembler with the desired features\n",
    "vector_assembler = VectorAssembler(inputCols = [\"trip_distance\", \"duration_hours\", \"taxi_color_ohe\"], outputCol = \"features\")"
   ]
  },
  {
   "cell_type": "code",
   "execution_count": 0,
   "metadata": {
    "application/vnd.databricks.v1+cell": {
     "cellMetadata": {
      "byteLimit": 2048000,
      "rowLimit": 10000
     },
     "inputWidgets": {},
     "nuid": "340cd848-fd72-4898-9ac8-07ae8ea4ba17",
     "showTitle": false,
     "title": ""
    }
   },
   "outputs": [],
   "source": [
    "# Add vector_assembler to stages\n",
    "stages += [vector_assembler]"
   ]
  },
  {
   "cell_type": "code",
   "execution_count": 0,
   "metadata": {
    "application/vnd.databricks.v1+cell": {
     "cellMetadata": {
      "byteLimit": 2048000,
      "rowLimit": 10000
     },
     "inputWidgets": {},
     "nuid": "1fa07cf6-9d51-4811-8ae2-b7aa608f1476",
     "showTitle": false,
     "title": ""
    }
   },
   "outputs": [],
   "source": [
    "# Import Pipeline from pyspark.ml\n",
    "from pyspark.ml import Pipeline\n",
    "# Instantiate a Pipeline with stages\n",
    "pipeline = Pipeline(stages=stages)"
   ]
  },
  {
   "cell_type": "code",
   "execution_count": 0,
   "metadata": {
    "application/vnd.databricks.v1+cell": {
     "cellMetadata": {
      "byteLimit": 2048000,
      "rowLimit": 10000
     },
     "inputWidgets": {},
     "nuid": "058dae5c-e8b1-4834-bb45-60b9eebb77fe",
     "showTitle": false,
     "title": ""
    }
   },
   "outputs": [],
   "source": [
    "pipeline_model = pipeline.fit(final_model_data)"
   ]
  },
  {
   "cell_type": "code",
   "execution_count": 0,
   "metadata": {
    "application/vnd.databricks.v1+cell": {
     "cellMetadata": {
      "byteLimit": 2048000,
      "rowLimit": 10000
     },
     "inputWidgets": {},
     "nuid": "f4a1132f-b63c-4c88-b7eb-4a7b6b1c9b9c",
     "showTitle": false,
     "title": ""
    }
   },
   "outputs": [],
   "source": [
    "final_model_data = pipeline_model.transform(final_model_data)"
   ]
  },
  {
   "cell_type": "code",
   "execution_count": 0,
   "metadata": {
    "application/vnd.databricks.v1+cell": {
     "cellMetadata": {
      "byteLimit": 2048000,
      "rowLimit": 10000
     },
     "inputWidgets": {},
     "nuid": "0d04964c-f878-42aa-b995-6be0113342e4",
     "showTitle": false,
     "title": ""
    }
   },
   "outputs": [
    {
     "output_type": "stream",
     "name": "stdout",
     "output_type": "stream",
     "text": [
      "+--------------------+---------------+-------------+----------+----------------+--------------------+------------------+----------+------------+\n|            features|passenger_count|trip_distance|tip_amount|duration_seconds|      duration_hours|         speed_mph|taxi_color|total_amount|\n+--------------------+---------------+-------------+----------+----------------+--------------------+------------------+----------+------------+\n|[1.09,0.084722222...|            1.0|         1.09|       1.0|             305| 0.08472222222222223|12.865573770491803|    yellow|         7.8|\n|[5.73,0.480277777...|            1.0|         5.73|      4.66|            1729|  0.4802777777777778|11.930595720069405|     green|       27.96|\n|   [2.35,0.1725,1.0]|            1.0|         2.35|       0.0|             621|              0.1725|13.623188405797103|    yellow|        10.8|\n|[2.68,0.210833333...|            1.0|         2.68|      3.08|             759| 0.21083333333333334|12.711462450592885|     green|       15.38|\n|[4.74,0.418055555...|            1.0|         4.74|       0.0|            1505| 0.41805555555555557|11.338205980066446|    yellow|        20.8|\n|[6.47,0.709444444...|            1.0|         6.47|       0.0|            2554|  0.7094444444444444| 9.119812059514487|    yellow|        30.8|\n|[2.25,0.141388888...|            5.0|         2.25|      2.06|             509|  0.1413888888888889|15.913555992141452|     green|       12.36|\n|[4.9,0.2766666666...|            1.0|          4.9|      3.76|             996| 0.27666666666666667|17.710843373493976|    yellow|       22.56|\n|[3.99,0.318611111...|            1.0|         3.99|      3.56|            1147|  0.3186111111111111|  12.5231037489102|     green|       21.36|\n|[1.2,0.1019444444...|            1.0|          1.2|       0.0|             367| 0.10194444444444445|11.771117166212534|    yellow|         7.8|\n|[0.8,0.0519444444...|            1.0|          0.8|       0.0|             187|0.051944444444444446|15.401069518716579|     green|         5.8|\n|    [8.41,0.515,0.0]|            2.0|         8.41|       8.7|            1854|               0.515| 16.33009708737864|     green|        38.5|\n|[4.55,0.323888888...|            1.0|         4.55|      3.66|            1166|  0.3238888888888889|14.048027444253858|    yellow|       21.96|\n|[2.88,0.248611111...|            1.0|         2.88|       0.0|             895| 0.24861111111111112|11.584357541899442|    yellow|        13.8|\n|[3.89,0.304722222...|            1.0|         3.89|       0.0|            1097|  0.3047222222222222|12.765724703737465|     green|        16.8|\n|[3.55,0.219166666...|            1.0|         3.55|       3.0|             789| 0.21916666666666668|16.197718631178706|     green|        17.8|\n|[0.8,0.0661111111...|            1.0|          0.8|       0.0|             238|  0.0661111111111111|12.100840336134455|     green|         6.3|\n|[1.4,0.1402777777...|            1.0|          1.4|       0.0|             505| 0.14027777777777778|  9.98019801980198|     green|         9.3|\n|[1.97,0.148611111...|            1.0|         1.97|       0.0|             535|  0.1486111111111111| 13.25607476635514|     green|         9.8|\n|[1.56,0.125555555...|            1.0|         1.56|       0.0|             452| 0.12555555555555556|12.424778761061948|    yellow|         8.8|\n+--------------------+---------------+-------------+----------+----------------+--------------------+------------------+----------+------------+\nonly showing top 20 rows\n\n"
     ]
    }
   ],
   "source": [
    "# Select the features column, target variable and all the rest of the variables\n",
    "final_model_data = final_model_data.select(['features'] + cols_list)\n",
    "final_model_data.show()"
   ]
  },
  {
   "cell_type": "code",
   "execution_count": 0,
   "metadata": {
    "application/vnd.databricks.v1+cell": {
     "cellMetadata": {
      "byteLimit": 2048000,
      "rowLimit": 10000
     },
     "inputWidgets": {},
     "nuid": "2e5656b2-28fe-4a12-afd8-bcd8ad5f7e66",
     "showTitle": false,
     "title": ""
    }
   },
   "outputs": [],
   "source": [
    "# Creating two copies of the final_model_data for the two ML models\n",
    "final_model_data_lr = final_model_data\n",
    "final_model_data_dtr = final_model_data"
   ]
  },
  {
   "cell_type": "code",
   "execution_count": 0,
   "metadata": {
    "application/vnd.databricks.v1+cell": {
     "cellMetadata": {},
     "inputWidgets": {},
     "nuid": "e557a239-b5c6-4cb3-b290-63a122477454",
     "showTitle": false,
     "title": ""
    }
   },
   "outputs": [],
   "source": [
    "##Linear Regression Model"
   ]
  },
  {
   "cell_type": "code",
   "execution_count": 0,
   "metadata": {
    "application/vnd.databricks.v1+cell": {
     "cellMetadata": {
      "byteLimit": 2048000,
      "rowLimit": 10000
     },
     "inputWidgets": {},
     "nuid": "e03497ee-f83a-4190-9681-5329aea01d83",
     "showTitle": false,
     "title": ""
    }
   },
   "outputs": [],
   "source": [
    "# Split the final_model_data_lr into train and test sets with a 75-25 ratio\n",
    "train_data, test_data = final_model_data_lr.randomSplit([0.75, 0.25], seed=8)"
   ]
  },
  {
   "cell_type": "code",
   "execution_count": 0,
   "metadata": {
    "application/vnd.databricks.v1+cell": {
     "cellMetadata": {
      "byteLimit": 2048000,
      "rowLimit": 10000
     },
     "inputWidgets": {},
     "nuid": "5800ae39-ecf2-4c4a-82e9-c7ddcd2c53ea",
     "showTitle": false,
     "title": ""
    }
   },
   "outputs": [],
   "source": [
    "# Import LinearRegression from pyspark.ml.regression\n",
    "from pyspark.ml.regression import LinearRegression\n",
    "\n",
    "# Fit a linear regression model to the train data \n",
    "linearRegressor = LinearRegression(featuresCol = 'features', labelCol = 'total_amount')\n",
    "lr_model = linearRegressor.fit(train_data)"
   ]
  },
  {
   "cell_type": "code",
   "execution_count": 0,
   "metadata": {
    "application/vnd.databricks.v1+cell": {
     "cellMetadata": {
      "byteLimit": 2048000,
      "rowLimit": 10000
     },
     "inputWidgets": {},
     "nuid": "2f0db3a9-fc21-48de-8d21-704e40ae1e67",
     "showTitle": false,
     "title": ""
    }
   },
   "outputs": [],
   "source": [
    "# Get the summary of the linear regression model\n",
    "lr_model_summary = lr_model.summary"
   ]
  },
  {
   "cell_type": "code",
   "execution_count": 0,
   "metadata": {
    "application/vnd.databricks.v1+cell": {
     "cellMetadata": {
      "byteLimit": 2048000,
      "rowLimit": 10000
     },
     "inputWidgets": {},
     "nuid": "9ff6d8fd-4469-4865-840d-67d4dff99efa",
     "showTitle": false,
     "title": ""
    }
   },
   "outputs": [],
   "source": [
    "# Retrieve the rmse of the predictions on the train data\n",
    "train_rmse = lr_model_summary.rootMeanSquaredError"
   ]
  },
  {
   "cell_type": "code",
   "execution_count": 0,
   "metadata": {
    "application/vnd.databricks.v1+cell": {
     "cellMetadata": {
      "byteLimit": 2048000,
      "rowLimit": 10000
     },
     "inputWidgets": {},
     "nuid": "1003d2e3-af1c-4d69-b9c3-fc2b3ebf5b4f",
     "showTitle": false,
     "title": ""
    }
   },
   "outputs": [
    {
     "output_type": "stream",
     "name": "stdout",
     "output_type": "stream",
     "text": [
      "4.133512342436048\n"
     ]
    }
   ],
   "source": [
    "# Print the rmse of the predictions on the train data\n",
    "print(train_rmse)"
   ]
  },
  {
   "cell_type": "code",
   "execution_count": 0,
   "metadata": {
    "application/vnd.databricks.v1+cell": {
     "cellMetadata": {
      "byteLimit": 2048000,
      "rowLimit": 10000
     },
     "inputWidgets": {},
     "nuid": "f4c679bf-22ba-44a9-a085-15ac059b9ee2",
     "showTitle": false,
     "title": ""
    }
   },
   "outputs": [],
   "source": [
    "# Use the trained linear regression model to make predictions on the training set\n",
    "lr_model_train_preds = lr_model.transform(train_data)"
   ]
  },
  {
   "cell_type": "code",
   "execution_count": 0,
   "metadata": {
    "application/vnd.databricks.v1+cell": {
     "cellMetadata": {
      "byteLimit": 2048000,
      "rowLimit": 10000
     },
     "inputWidgets": {},
     "nuid": "108c97ee-0e49-44fc-ba54-e3e0eb51f159",
     "showTitle": false,
     "title": ""
    }
   },
   "outputs": [
    {
     "output_type": "stream",
     "name": "stdout",
     "output_type": "stream",
     "text": [
      "+--------------------+---------------+-------------+----------+----------------+--------------------+------------------+----------+------------+-----------------+\n|            features|passenger_count|trip_distance|tip_amount|duration_seconds|      duration_hours|         speed_mph|taxi_color|total_amount|       prediction|\n+--------------------+---------------+-------------+----------+----------------+--------------------+------------------+----------+------------+-----------------+\n|[0.45,0.016944444...|            1.0|         0.45|       0.0|              61|0.016944444444444446|26.557377049180324|     green|        13.0|5.070840288915878|\n|[0.45,0.016944444...|            2.0|         0.45|       0.0|              61|0.016944444444444446|26.557377049180324|    yellow|         4.3| 5.07273850600082|\n|[0.45,0.017222222...|            1.0|         0.45|       0.0|              62|0.017222222222222222|26.129032258064516|     green|         4.3|5.076171119658134|\n|[0.45,0.017222222...|            1.0|         0.45|       0.0|              62|0.017222222222222222|26.129032258064516|     green|         4.3|5.076171119658134|\n|[0.45,0.017222222...|            1.0|         0.45|       0.0|              62|0.017222222222222222|26.129032258064516|    yellow|         4.3|5.078069336743075|\n+--------------------+---------------+-------------+----------+----------------+--------------------+------------------+----------+------------+-----------------+\nonly showing top 5 rows\n\n"
     ]
    }
   ],
   "source": [
    "# Print the first 5 rows of the training set with the predictions\n",
    "lr_model_train_preds.show(5)"
   ]
  },
  {
   "cell_type": "code",
   "execution_count": 0,
   "metadata": {
    "application/vnd.databricks.v1+cell": {
     "cellMetadata": {
      "byteLimit": 2048000,
      "rowLimit": 10000
     },
     "inputWidgets": {},
     "nuid": "b20abf5f-3142-46f5-80f6-c079dfe05981",
     "showTitle": false,
     "title": ""
    }
   },
   "outputs": [],
   "source": [
    "# Use the trained linear regression model to make predictions on the test data\n",
    "lr_model_test_preds = lr_model.transform(test_data)"
   ]
  },
  {
   "cell_type": "code",
   "execution_count": 0,
   "metadata": {
    "application/vnd.databricks.v1+cell": {
     "cellMetadata": {
      "byteLimit": 2048000,
      "rowLimit": 10000
     },
     "inputWidgets": {},
     "nuid": "8220c02c-c204-4e3b-9a84-b77fc353eb7f",
     "showTitle": false,
     "title": ""
    }
   },
   "outputs": [
    {
     "output_type": "stream",
     "name": "stdout",
     "output_type": "stream",
     "text": [
      "+--------------------+---------------+-------------+----------+----------------+--------------------+------------------+----------+------------+------------------+\n|            features|passenger_count|trip_distance|tip_amount|duration_seconds|      duration_hours|         speed_mph|taxi_color|total_amount|        prediction|\n+--------------------+---------------+-------------+----------+----------------+--------------------+------------------+----------+------------+------------------+\n|[0.45,0.017222222...|            1.0|         0.45|       0.0|              62|0.017222222222222222|26.129032258064516|     green|         4.8| 5.076171119658134|\n|   [0.45,0.0175,1.0]|            1.0|         0.45|       0.0|              63|              0.0175| 25.71428571428571|    yellow|         4.3|5.0834001674853315|\n|[0.45,0.018333333...|            1.0|         0.45|       0.0|              66|0.018333333333333333|24.545454545454547|     green|         4.3| 5.097494442627156|\n|[0.45,0.018333333...|            1.0|         0.45|       0.0|              66|0.018333333333333333|24.545454545454547|    yellow|         4.3| 5.099392659712097|\n|[0.45,0.018611111...|            5.0|         0.45|       0.0|              67| 0.01861111111111111|24.179104477611943|    yellow|         4.8| 5.104723490454353|\n+--------------------+---------------+-------------+----------+----------------+--------------------+------------------+----------+------------+------------------+\nonly showing top 5 rows\n\n"
     ]
    }
   ],
   "source": [
    "# Print the first 5 rows of the test set with the predictions\n",
    "lr_model_test_preds.show(5)"
   ]
  },
  {
   "cell_type": "code",
   "execution_count": 0,
   "metadata": {
    "application/vnd.databricks.v1+cell": {
     "cellMetadata": {
      "byteLimit": 2048000,
      "rowLimit": 10000
     },
     "inputWidgets": {},
     "nuid": "89f4e548-f77b-4b03-bd69-7c10c9c9a484",
     "showTitle": false,
     "title": ""
    }
   },
   "outputs": [
    {
     "output_type": "stream",
     "name": "stdout",
     "output_type": "stream",
     "text": [
      "4.752936382407733\n"
     ]
    }
   ],
   "source": [
    "# Retrieve the rmse of the predictions made on the test set\n",
    "lr_model_test_eval = lr_model.evaluate(test_data)\n",
    "test_rmse = lr_model_test_eval.rootMeanSquaredError\n",
    "print(test_rmse)"
   ]
  },
  {
   "cell_type": "code",
   "execution_count": 0,
   "metadata": {
    "application/vnd.databricks.v1+cell": {
     "cellMetadata": {},
     "inputWidgets": {},
     "nuid": "d6919edd-1d00-426f-b4c9-d07db914c98b",
     "showTitle": false,
     "title": ""
    }
   },
   "outputs": [],
   "source": [
    "## Decision Tree Regression Model"
   ]
  },
  {
   "cell_type": "code",
   "execution_count": 0,
   "metadata": {
    "application/vnd.databricks.v1+cell": {
     "cellMetadata": {
      "byteLimit": 2048000,
      "rowLimit": 10000
     },
     "inputWidgets": {},
     "nuid": "d2911761-bfdf-4f0f-92f4-de36ab505a78",
     "showTitle": false,
     "title": ""
    }
   },
   "outputs": [],
   "source": [
    "# Split the final_model_data_dtr into train and test sets with a 75-25 ratio\n",
    "train_data, test_data = final_model_data_dtr.randomSplit([0.75, 0.25], seed=8)"
   ]
  },
  {
   "cell_type": "code",
   "execution_count": 0,
   "metadata": {
    "application/vnd.databricks.v1+cell": {
     "cellMetadata": {
      "byteLimit": 2048000,
      "rowLimit": 10000
     },
     "inputWidgets": {},
     "nuid": "b6d9f1f8-a766-4844-b144-5c9c943acd17",
     "showTitle": false,
     "title": ""
    }
   },
   "outputs": [],
   "source": [
    "# Import DecisionTreeRegressor from pyspark.ml.regression\n",
    "from pyspark.ml.regression import DecisionTreeRegressor\n",
    "# Fit a Decision Tree Regression model to the training set\n",
    "decisionTreeRegressor = DecisionTreeRegressor(featuresCol = 'features', labelCol = 'total_amount')\n",
    "dtr_model = decisionTreeRegressor.fit(train_data)"
   ]
  },
  {
   "cell_type": "code",
   "execution_count": 0,
   "metadata": {
    "application/vnd.databricks.v1+cell": {
     "cellMetadata": {
      "byteLimit": 2048000,
      "rowLimit": 10000
     },
     "inputWidgets": {},
     "nuid": "a7ffc34f-b4f3-4ded-bbd2-67c127f07963",
     "showTitle": false,
     "title": ""
    }
   },
   "outputs": [
    {
     "output_type": "stream",
     "name": "stdout",
     "output_type": "stream",
     "text": [
      "+--------------------+---------------+-------------+----------+----------------+--------------------+------------------+----------+------------+-----------------+\n|            features|passenger_count|trip_distance|tip_amount|duration_seconds|      duration_hours|         speed_mph|taxi_color|total_amount|       prediction|\n+--------------------+---------------+-------------+----------+----------------+--------------------+------------------+----------+------------+-----------------+\n|[0.45,0.016944444...|            1.0|         0.45|       0.0|              61|0.016944444444444446|26.557377049180324|     green|        13.0|6.378293191334128|\n|[0.45,0.016944444...|            2.0|         0.45|       0.0|              61|0.016944444444444446|26.557377049180324|    yellow|         4.3|6.378293191334128|\n|[0.45,0.017222222...|            1.0|         0.45|       0.0|              62|0.017222222222222222|26.129032258064516|     green|         4.3|6.378293191334128|\n|[0.45,0.017222222...|            1.0|         0.45|       0.0|              62|0.017222222222222222|26.129032258064516|     green|         4.3|6.378293191334128|\n|[0.45,0.017222222...|            1.0|         0.45|       0.0|              62|0.017222222222222222|26.129032258064516|    yellow|         4.3|6.378293191334128|\n+--------------------+---------------+-------------+----------+----------------+--------------------+------------------+----------+------------+-----------------+\nonly showing top 5 rows\n\n"
     ]
    }
   ],
   "source": [
    "# Use the trained decision tree regression model to make predictions on the training set\n",
    "dtr_model_train_preds = dtr_model.transform(train_data)\n",
    "# Print the first 5 rows of the training set with the predictions\n",
    "dtr_model_train_preds.show(5)"
   ]
  },
  {
   "cell_type": "code",
   "execution_count": 0,
   "metadata": {
    "application/vnd.databricks.v1+cell": {
     "cellMetadata": {
      "byteLimit": 2048000,
      "rowLimit": 10000
     },
     "inputWidgets": {},
     "nuid": "40d1b319-3ef0-490c-8ee6-5b7b7c1cff07",
     "showTitle": false,
     "title": ""
    }
   },
   "outputs": [
    {
     "output_type": "stream",
     "name": "stdout",
     "output_type": "stream",
     "text": [
      "4.656714814275851\n"
     ]
    }
   ],
   "source": [
    "# Import RegressionEvaluator from pyspark.ml.evaluation\n",
    "from pyspark.ml.evaluation import RegressionEvaluator\n",
    "# Instantiate a RegressionEvaluator with rmse as the metric\n",
    "dtr_train_evaluator = RegressionEvaluator(labelCol=\"total_amount\", predictionCol=\"prediction\", metricName=\"rmse\")\n",
    "# Retrieve the rmse of the predictions made on the training set\n",
    "train_rmse = dtr_train_evaluator.evaluate(dtr_model_train_preds)\n",
    "print(train_rmse)"
   ]
  },
  {
   "cell_type": "code",
   "execution_count": 0,
   "metadata": {
    "application/vnd.databricks.v1+cell": {
     "cellMetadata": {
      "byteLimit": 2048000,
      "rowLimit": 10000
     },
     "inputWidgets": {},
     "nuid": "04256f33-7dea-4d49-928b-16960fdfb07f",
     "showTitle": false,
     "title": ""
    }
   },
   "outputs": [
    {
     "output_type": "stream",
     "name": "stdout",
     "output_type": "stream",
     "text": [
      "+--------------------+---------------+-------------+----------+----------------+--------------------+------------------+----------+------------+-----------------+\n|            features|passenger_count|trip_distance|tip_amount|duration_seconds|      duration_hours|         speed_mph|taxi_color|total_amount|       prediction|\n+--------------------+---------------+-------------+----------+----------------+--------------------+------------------+----------+------------+-----------------+\n|[0.45,0.017222222...|            1.0|         0.45|       0.0|              62|0.017222222222222222|26.129032258064516|     green|         4.8|6.378293191334128|\n|   [0.45,0.0175,1.0]|            1.0|         0.45|       0.0|              63|              0.0175| 25.71428571428571|    yellow|         4.3|6.378293191334128|\n|[0.45,0.018333333...|            1.0|         0.45|       0.0|              66|0.018333333333333333|24.545454545454547|     green|         4.3|6.378293191334128|\n|[0.45,0.018333333...|            1.0|         0.45|       0.0|              66|0.018333333333333333|24.545454545454547|    yellow|         4.3|6.378293191334128|\n|[0.45,0.018611111...|            5.0|         0.45|       0.0|              67| 0.01861111111111111|24.179104477611943|    yellow|         4.8|6.378293191334128|\n+--------------------+---------------+-------------+----------+----------------+--------------------+------------------+----------+------------+-----------------+\nonly showing top 5 rows\n\n"
     ]
    }
   ],
   "source": [
    "# Use the trained decision tree regression model to make predictions on the test data\n",
    "dtr_model_test_preds = dtr_model.transform(test_data)\n",
    "# Print the first 5 rows of the training set with the predictions\n",
    "dtr_model_test_preds.show(5)"
   ]
  },
  {
   "cell_type": "code",
   "execution_count": 0,
   "metadata": {
    "application/vnd.databricks.v1+cell": {
     "cellMetadata": {
      "byteLimit": 2048000,
      "rowLimit": 10000
     },
     "inputWidgets": {},
     "nuid": "da8ef175-cc4c-4424-901a-50daba7b7b7c",
     "showTitle": false,
     "title": ""
    }
   },
   "outputs": [
    {
     "output_type": "stream",
     "name": "stdout",
     "output_type": "stream",
     "text": [
      "5.2195066182423275\n"
     ]
    }
   ],
   "source": [
    "# Instantiate a RegressionEvaluator with rmse as the metric\n",
    "dtr_test_evaluator = RegressionEvaluator(labelCol=\"total_amount\", predictionCol=\"prediction\", metricName=\"rmse\")\n",
    "# Retrieve the rmse of the predictions made on the test set\n",
    "test_rmse = dtr_test_evaluator.evaluate(dtr_model_test_preds)\n",
    "print(test_rmse)"
   ]
  },
  {
   "cell_type": "code",
   "execution_count": 0,
   "metadata": {
    "application/vnd.databricks.v1+cell": {
     "cellMetadata": {},
     "inputWidgets": {},
     "nuid": "ab02a15d-9906-4d59-b99f-12051170dff2",
     "showTitle": false,
     "title": ""
    }
   },
   "outputs": [],
   "source": [
    "## Predictions"
   ]
  },
  {
   "cell_type": "code",
   "execution_count": 0,
   "metadata": {
    "application/vnd.databricks.v1+cell": {
     "cellMetadata": {
      "byteLimit": 2048000,
      "rowLimit": 10000
     },
     "inputWidgets": {},
     "nuid": "fe9dcede-0bf9-4ad5-b04f-f370ce5724ca",
     "showTitle": false,
     "title": ""
    }
   },
   "outputs": [],
   "source": [
    "# Creating an empty list called stages\n",
    "stages = []"
   ]
  },
  {
   "cell_type": "code",
   "execution_count": 0,
   "metadata": {
    "application/vnd.databricks.v1+cell": {
     "cellMetadata": {
      "byteLimit": 2048000,
      "rowLimit": 10000
     },
     "inputWidgets": {},
     "nuid": "eee8a8a1-4867-4e11-b464-8fd7b1418fed",
     "showTitle": false,
     "title": ""
    }
   },
   "outputs": [],
   "source": [
    "# Dropping rows with NA values in the desired features\n",
    "test_data = test_data.na.drop(subset=[\"trip_distance\", \"duration_hours\", \"taxi_color\"])"
   ]
  },
  {
   "cell_type": "code",
   "execution_count": 0,
   "metadata": {
    "application/vnd.databricks.v1+cell": {
     "cellMetadata": {
      "byteLimit": 2048000,
      "rowLimit": 10000
     },
     "inputWidgets": {},
     "nuid": "4fcb8e68-d89d-458b-8fe6-653da9d1fb0f",
     "showTitle": false,
     "title": ""
    }
   },
   "outputs": [],
   "source": [
    "# Import OneHotEncoder, StringIndexer, VectorAssembler from pyspark.ml.feature \n",
    "from pyspark.ml.feature import OneHotEncoder, StringIndexer, VectorAssembler\n",
    "# Instantiate StringIndexer and OneHotEncoder for taxi_color variable and add them to stages\n",
    "col_indexer = StringIndexer(inputCol=\"taxi_color\", outputCol=\"taxi_color_ind\")\n",
    "col_encoder = OneHotEncoder(inputCols=[\"taxi_color_ind\"], outputCols=[\"taxi_color_ohe\"])\n",
    "stages += [col_indexer, col_encoder]"
   ]
  },
  {
   "cell_type": "code",
   "execution_count": 0,
   "metadata": {
    "application/vnd.databricks.v1+cell": {
     "cellMetadata": {
      "byteLimit": 2048000,
      "rowLimit": 10000
     },
     "inputWidgets": {},
     "nuid": "b9b2ea76-477b-4229-aa37-3ba2c6750161",
     "showTitle": false,
     "title": ""
    }
   },
   "outputs": [],
   "source": [
    "# Importing VectorAssembler\n",
    "from pyspark.ml.feature import VectorAssembler\n",
    "# Instantiate a VectorAssembler with the desired features\n",
    "vector_assembler = VectorAssembler(inputCols = [\"trip_distance\", \"duration_hours\", \"taxi_color_ohe\"], outputCol = \"features\")"
   ]
  },
  {
   "cell_type": "code",
   "execution_count": 0,
   "metadata": {
    "application/vnd.databricks.v1+cell": {
     "cellMetadata": {
      "byteLimit": 2048000,
      "rowLimit": 10000
     },
     "inputWidgets": {},
     "nuid": "2eaecc84-24c6-407a-8e8e-38ba5078aa02",
     "showTitle": false,
     "title": ""
    }
   },
   "outputs": [],
   "source": [
    "# Add vector_assembler to stages\n",
    "stages += [vector_assembler]"
   ]
  },
  {
   "cell_type": "code",
   "execution_count": 0,
   "metadata": {
    "application/vnd.databricks.v1+cell": {
     "cellMetadata": {
      "byteLimit": 2048000,
      "rowLimit": 10000
     },
     "inputWidgets": {},
     "nuid": "4ca51756-a009-4094-9a01-02021647c83c",
     "showTitle": false,
     "title": ""
    }
   },
   "outputs": [],
   "source": [
    "# Import Pipeline from pyspark.ml\n",
    "from pyspark.ml import Pipeline\n",
    "# Instantiate a Pipeline with stages\n",
    "pipeline = Pipeline(stages=stages)"
   ]
  },
  {
   "cell_type": "code",
   "execution_count": 0,
   "metadata": {
    "application/vnd.databricks.v1+cell": {
     "cellMetadata": {
      "byteLimit": 2048000,
      "rowLimit": 10000
     },
     "inputWidgets": {},
     "nuid": "99d5c753-a90a-4fbf-8e62-807df783fb0d",
     "showTitle": false,
     "title": ""
    }
   },
   "outputs": [],
   "source": [
    "# Fit the pipeline test_data\n",
    "pipeline_model = pipeline.fit(test_data)"
   ]
  },
  {
   "cell_type": "code",
   "execution_count": 0,
   "metadata": {
    "application/vnd.databricks.v1+cell": {
     "cellMetadata": {
      "byteLimit": 2048000,
      "rowLimit": 10000
     },
     "inputWidgets": {},
     "nuid": "6880fb05-e7fd-4595-b6a1-f68603f757c1",
     "showTitle": false,
     "title": ""
    }
   },
   "outputs": [
    {
     "output_type": "stream",
     "name": "stdout",
     "output_type": "stream",
     "text": [
      "+--------------------+---------------+-------------+----------+----------------+--------------------+------------------+----------+------------+\n|            features|passenger_count|trip_distance|tip_amount|duration_seconds|      duration_hours|         speed_mph|taxi_color|total_amount|\n+--------------------+---------------+-------------+----------+----------------+--------------------+------------------+----------+------------+\n|[0.45,0.017222222...|            1.0|         0.45|       0.0|              62|0.017222222222222222|26.129032258064516|     green|         4.8|\n|   [0.45,0.0175,1.0]|            1.0|         0.45|       0.0|              63|              0.0175| 25.71428571428571|    yellow|         4.3|\n|[0.45,0.018333333...|            1.0|         0.45|       0.0|              66|0.018333333333333333|24.545454545454547|     green|         4.3|\n|[0.45,0.018333333...|            1.0|         0.45|       0.0|              66|0.018333333333333333|24.545454545454547|    yellow|         4.3|\n|[0.45,0.018611111...|            5.0|         0.45|       0.0|              67| 0.01861111111111111|24.179104477611943|    yellow|         4.8|\n|[0.45,0.018888888...|            1.0|         0.45|       0.0|              68| 0.01888888888888889|23.823529411764707|     green|         4.8|\n|[0.45,0.019166666...|            1.0|         0.45|       0.0|              69|0.019166666666666665| 23.47826086956522|    yellow|         4.0|\n|[0.45,0.019166666...|            5.0|         0.45|       0.0|              69|0.019166666666666665| 23.47826086956522|    yellow|         4.3|\n|[0.45,0.019444444...|            1.0|         0.45|       0.0|              70|0.019444444444444445|23.142857142857142|    yellow|         4.3|\n|[0.45,0.019444444...|            1.0|         0.45|       0.0|              70|0.019444444444444445|23.142857142857142|    yellow|         9.0|\n|[0.45,0.019722222...|            1.0|         0.45|       0.0|              71| 0.01972222222222222|22.816901408450708|     green|         4.8|\n|[0.45,0.019722222...|            2.0|         0.45|       0.0|              71| 0.01972222222222222|22.816901408450708|     green|         4.8|\n|[0.45,0.019722222...|            4.0|         0.45|       0.0|              71| 0.01972222222222222|22.816901408450708|    yellow|         5.3|\n|[0.45,0.020277777...|            1.0|         0.45|       0.0|              73|0.020277777777777777| 22.19178082191781|     green|         4.8|\n|[0.45,0.020277777...|            5.0|         0.45|       0.0|              73|0.020277777777777777| 22.19178082191781|     green|         5.3|\n|[0.45,0.020277777...|            6.0|         0.45|       0.0|              73|0.020277777777777777| 22.19178082191781|     green|         4.3|\n|[0.45,0.020277777...|            1.0|         0.45|       0.0|              73|0.020277777777777777| 22.19178082191781|    yellow|        -4.8|\n|[0.45,0.020555555...|            1.0|         0.45|       0.0|              74|0.020555555555555556| 21.89189189189189|     green|         4.3|\n|[0.45,0.020555555...|            1.0|         0.45|       0.0|              74|0.020555555555555556| 21.89189189189189|     green|         4.8|\n|[0.45,0.020555555...|            1.0|         0.45|       0.0|              74|0.020555555555555556| 21.89189189189189|    yellow|         4.3|\n+--------------------+---------------+-------------+----------+----------------+--------------------+------------------+----------+------------+\nonly showing top 20 rows\n\n"
     ]
    }
   ],
   "source": [
    "# Select the features column, target variable and all the rest of the variables\n",
    "test_data = test_data.select(['features'] + cols_list)\n",
    "test_data.show()"
   ]
  },
  {
   "cell_type": "code",
   "execution_count": 0,
   "metadata": {
    "application/vnd.databricks.v1+cell": {
     "cellMetadata": {
      "byteLimit": 2048000,
      "rowLimit": 10000
     },
     "inputWidgets": {},
     "nuid": "48e9d75a-e569-44e5-b638-4c37ec08cbf5",
     "showTitle": false,
     "title": ""
    }
   },
   "outputs": [
    {
     "output_type": "stream",
     "name": "stdout",
     "output_type": "stream",
     "text": [
      "+--------------------+---------------+-------------+----------+----------------+--------------------+------------------+----------+------------+-----------------+\n|            features|passenger_count|trip_distance|tip_amount|duration_seconds|      duration_hours|         speed_mph|taxi_color|total_amount|       prediction|\n+--------------------+---------------+-------------+----------+----------------+--------------------+------------------+----------+------------+-----------------+\n|[0.45,0.017222222...|            1.0|         0.45|       0.0|              62|0.017222222222222222|26.129032258064516|     green|         4.8|6.378293191334128|\n|   [0.45,0.0175,1.0]|            1.0|         0.45|       0.0|              63|              0.0175| 25.71428571428571|    yellow|         4.3|6.378293191334128|\n|[0.45,0.018333333...|            1.0|         0.45|       0.0|              66|0.018333333333333333|24.545454545454547|     green|         4.3|6.378293191334128|\n|[0.45,0.018333333...|            1.0|         0.45|       0.0|              66|0.018333333333333333|24.545454545454547|    yellow|         4.3|6.378293191334128|\n|[0.45,0.018611111...|            5.0|         0.45|       0.0|              67| 0.01861111111111111|24.179104477611943|    yellow|         4.8|6.378293191334128|\n+--------------------+---------------+-------------+----------+----------------+--------------------+------------------+----------+------------+-----------------+\nonly showing top 5 rows\n\n"
     ]
    }
   ],
   "source": [
    "# Use the trained decision tree regression model to make predictions on the test_data\n",
    "dtr_model_test_data_preds = dtr_model.transform(test_data)\n",
    "# Print the first 5 rows of the training set with the predictions\n",
    "dtr_model_test_data_preds.show(5)"
   ]
  },
  {
   "cell_type": "code",
   "execution_count": 0,
   "metadata": {
    "application/vnd.databricks.v1+cell": {
     "cellMetadata": {
      "byteLimit": 2048000,
      "rowLimit": 10000
     },
     "inputWidgets": {},
     "nuid": "758cd48e-a1b9-4aac-ab0d-1288bc8f10b1",
     "showTitle": false,
     "title": ""
    }
   },
   "outputs": [],
   "source": [
    "# Instantiate a RegressionEvaluator with rmse as the metric\n",
    "dtr_test_evaluator = RegressionEvaluator(labelCol=\"total_amount\", predictionCol=\"prediction\", metricName=\"rmse\")\n",
    "# Retrieve the rmse of the predictions made on the test_data\n",
    "test_data_rmse = dtr_test_evaluator.evaluate(dtr_model_test_data_preds)\n"
   ]
  },
  {
   "cell_type": "code",
   "execution_count": 0,
   "metadata": {
    "application/vnd.databricks.v1+cell": {
     "cellMetadata": {
      "byteLimit": 2048000,
      "rowLimit": 10000
     },
     "inputWidgets": {},
     "nuid": "88367ceb-1c97-4f4b-8e56-385dbff18f2b",
     "showTitle": false,
     "title": ""
    }
   },
   "outputs": [
    {
     "output_type": "stream",
     "name": "stdout",
     "output_type": "stream",
     "text": [
      "5.2195066182423275\n"
     ]
    }
   ],
   "source": [
    "print(test_data_rmse)"
   ]
  }
 ],
 "metadata": {
  "application/vnd.databricks.v1+notebook": {
   "dashboards": [],
   "language": "python",
   "notebookMetadata": {
    "pythonIndentUnit": 4
   },
   "notebookName": "BDE_AT2_Part3_Islam_Tahmidul_24587139",
   "widgets": {}
  }
 },
 "nbformat": 4,
 "nbformat_minor": 0
}
