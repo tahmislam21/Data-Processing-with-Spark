{
 "cells": [
  {
   "cell_type": "markdown",
   "metadata": {
    "application/vnd.databricks.v1+cell": {
     "cellMetadata": {
      "byteLimit": 2048000,
      "rowLimit": 10000
     },
     "inputWidgets": {},
     "nuid": "b92e8275-a200-498b-a3cd-5c230dcdb8b7",
     "showTitle": false,
     "title": ""
    }
   },
   "source": [
    "# **Green Taxi**"
   ]
  },
  {
   "cell_type": "markdown",
   "metadata": {
    "application/vnd.databricks.v1+cell": {
     "cellMetadata": {
      "byteLimit": 2048000,
      "rowLimit": 10000
     },
     "inputWidgets": {},
     "nuid": "1f82e970-c7f4-46c6-b38c-e2f8902c5c93",
     "showTitle": false,
     "title": ""
    }
   },
   "source": [
    "##### Green Taxi - 2015"
   ]
  },
  {
   "cell_type": "code",
   "execution_count": 0,
   "metadata": {
    "application/vnd.databricks.v1+cell": {
     "cellMetadata": {
      "byteLimit": 2048000,
      "rowLimit": 10000
     },
     "inputWidgets": {},
     "nuid": "ea8e6561-4dba-4eb1-b3f0-c81fdd360caf",
     "showTitle": false,
     "title": ""
    }
   },
   "outputs": [
    {
     "output_type": "stream",
     "name": "stdout",
     "output_type": "stream",
     "text": [
      "  % Total    % Received % Xferd  Average Speed   Time    Time     Time  Current\n                                 Dload  Upload   Total   Spent    Left  Speed\n\n  0     0    0     0    0     0      0      0 --:--:-- --:--:-- --:--:--     0\n  0     0    0     0    0     0      0      0 --:--:-- --:--:-- --:--:--     0\n\n  1  385M    1 6047k    0     0  8399k      0  0:00:47 --:--:--  0:00:47 8399k\n 20  385M   20 80.0M    0     0  46.1M      0  0:00:08  0:00:01  0:00:07 73.1M\n 50  385M   50  195M    0     0  71.6M      0  0:00:05  0:00:02  0:00:03 94.5M\n 92  385M   92  355M    0     0  95.5M      0  0:00:04  0:00:03  0:00:01  116M\n100  385M  100  385M    0     0  98.7M      0  0:00:03  0:00:03 --:--:--  119M\n"
     ]
    }
   ],
   "source": [
    "%sh\n",
    "\n",
    "fileId=137oXWkqBOQcxmgHynPv6Wh_fHUqN40n3\n",
    "fileName=green_taxi_2015.parquet\n",
    "\n",
    "curl -sc /tmp/cookie \"https://drive.google.com/uc?export=download&id=${fileId}\" > /dev/null\n",
    "code=\"$(awk '/_warning_/ {print $NF}' /tmp/cookie)\" \n",
    "\n",
    "\n",
    "curl -Lb /tmp/cookie \"https://drive.google.com/uc?export=download&confirm=${code}&id=${fileId}\" -o /tmp/${fileName}\n"
   ]
  },
  {
   "cell_type": "code",
   "execution_count": 0,
   "metadata": {
    "application/vnd.databricks.v1+cell": {
     "cellMetadata": {
      "byteLimit": 2048000,
      "rowLimit": 10000
     },
     "inputWidgets": {},
     "nuid": "bfbc7f25-f919-4900-b5b6-05834f406e2c",
     "showTitle": false,
     "title": ""
    }
   },
   "outputs": [
    {
     "output_type": "stream",
     "name": "stdout",
     "output_type": "stream",
     "text": [
      "Out[2]: True"
     ]
    }
   ],
   "source": [
    "dbutils.fs.mv(\"file:/tmp/green_taxi_2015.parquet\", \"dbfs:/FileStore/green/green_taxi_2015.parquet\")"
   ]
  },
  {
   "cell_type": "markdown",
   "metadata": {
    "application/vnd.databricks.v1+cell": {
     "cellMetadata": {
      "byteLimit": 2048000,
      "rowLimit": 10000
     },
     "inputWidgets": {},
     "nuid": "c6d15bea-aea7-4310-93e2-30ad041036db",
     "showTitle": false,
     "title": ""
    }
   },
   "source": [
    "##### Green Taxi - 2016"
   ]
  },
  {
   "cell_type": "code",
   "execution_count": 0,
   "metadata": {
    "application/vnd.databricks.v1+cell": {
     "cellMetadata": {
      "byteLimit": 2048000,
      "rowLimit": 10000
     },
     "inputWidgets": {},
     "nuid": "cb326534-b0db-404e-80de-164009c7881c",
     "showTitle": false,
     "title": ""
    }
   },
   "outputs": [
    {
     "output_type": "stream",
     "name": "stdout",
     "output_type": "stream",
     "text": [
      "  % Total    % Received % Xferd  Average Speed   Time    Time     Time  Current\n                                 Dload  Upload   Total   Spent    Left  Speed\n\n  0     0    0     0    0     0      0      0 --:--:-- --:--:-- --:--:--     0\n  0     0    0     0    0     0      0      0 --:--:-- --:--:-- --:--:--     0\n\n  2  330M    2 9575k    0     0  13.6M      0  0:00:24 --:--:--  0:00:24 13.6M\n 21  330M   21 72.0M    0     0  42.8M      0  0:00:07  0:00:01  0:00:06 62.8M\n 45  330M   45  149M    0     0  55.6M      0  0:00:05  0:00:02  0:00:03 70.0M\n 81  330M   81  270M    0     0  73.4M      0  0:00:04  0:00:03  0:00:01 87.0M\n100  330M  100  330M    0     0  79.2M      0  0:00:04  0:00:04 --:--:-- 92.1M\n"
     ]
    }
   ],
   "source": [
    "%sh\n",
    "\n",
    "fileId=1s0drAVqulJ_hE4RRqMSNJWyQGF6RKAtA\n",
    "fileName=green_taxi_2016.parquet\n",
    "\n",
    "curl -sc /tmp/cookie \"https://drive.google.com/uc?export=download&id=${fileId}\" > /dev/null\n",
    "code=\"$(awk '/_warning_/ {print $NF}' /tmp/cookie)\" \n",
    "\n",
    "\n",
    "curl -Lb /tmp/cookie \"https://drive.google.com/uc?export=download&confirm=${code}&id=${fileId}\" -o /tmp/${fileName}\n"
   ]
  },
  {
   "cell_type": "code",
   "execution_count": 0,
   "metadata": {
    "application/vnd.databricks.v1+cell": {
     "cellMetadata": {
      "byteLimit": 2048000,
      "rowLimit": 10000
     },
     "inputWidgets": {},
     "nuid": "3268f54d-b962-4335-ba19-0a3116b08853",
     "showTitle": false,
     "title": ""
    }
   },
   "outputs": [
    {
     "output_type": "stream",
     "name": "stdout",
     "output_type": "stream",
     "text": [
      "Out[4]: True"
     ]
    }
   ],
   "source": [
    "dbutils.fs.mv(\"file:/tmp/green_taxi_2016.parquet\", \"dbfs:/FileStore/green/green_taxi_2016.parquet\")"
   ]
  },
  {
   "cell_type": "markdown",
   "metadata": {
    "application/vnd.databricks.v1+cell": {
     "cellMetadata": {
      "byteLimit": 2048000,
      "rowLimit": 10000
     },
     "inputWidgets": {},
     "nuid": "55bb9a8a-8394-4853-b5a1-74ece417dc32",
     "showTitle": false,
     "title": ""
    }
   },
   "source": [
    "##### Green Taxi - 2017"
   ]
  },
  {
   "cell_type": "code",
   "execution_count": 0,
   "metadata": {
    "application/vnd.databricks.v1+cell": {
     "cellMetadata": {
      "byteLimit": 2048000,
      "rowLimit": 10000
     },
     "inputWidgets": {},
     "nuid": "693ff07e-758a-4b27-818a-11a911d2855e",
     "showTitle": false,
     "title": ""
    }
   },
   "outputs": [
    {
     "output_type": "stream",
     "name": "stdout",
     "output_type": "stream",
     "text": [
      "  % Total    % Received % Xferd  Average Speed   Time    Time     Time  Current\n                                 Dload  Upload   Total   Spent    Left  Speed\n\n  0     0    0     0    0     0      0      0 --:--:-- --:--:-- --:--:--     0\n  0     0    0     0    0     0      0      0 --:--:-- --:--:-- --:--:--     0\n\n  0     0    0     0    0     0      0      0 --:--:-- --:--:-- --:--:--     0\n 29  239M   29 70.6M    0     0  46.6M      0  0:00:05  0:00:01  0:00:04 73.5M\n 72  239M   72  173M    0     0  69.0M      0  0:00:03  0:00:02  0:00:01 88.5M\n100  239M  100  239M    0     0  79.6M      0  0:00:03  0:00:03 --:--:-- 97.6M\n"
     ]
    }
   ],
   "source": [
    "%sh\n",
    "\n",
    "fileId=1-VpjWArKPEdjzlTZxI7aPwd8UsVfc2bL\n",
    "fileName=green_taxi_2017.parquet\n",
    "\n",
    "curl -sc /tmp/cookie \"https://drive.google.com/uc?export=download&id=${fileId}\" > /dev/null\n",
    "code=\"$(awk '/_warning_/ {print $NF}' /tmp/cookie)\" \n",
    "\n",
    "\n",
    "curl -Lb /tmp/cookie \"https://drive.google.com/uc?export=download&confirm=${code}&id=${fileId}\" -o /tmp/${fileName}\n"
   ]
  },
  {
   "cell_type": "code",
   "execution_count": 0,
   "metadata": {
    "application/vnd.databricks.v1+cell": {
     "cellMetadata": {
      "byteLimit": 2048000,
      "rowLimit": 10000
     },
     "inputWidgets": {},
     "nuid": "d828cbe3-cf04-482b-8329-c395ad11ab1d",
     "showTitle": false,
     "title": ""
    }
   },
   "outputs": [
    {
     "output_type": "stream",
     "name": "stdout",
     "output_type": "stream",
     "text": [
      "Out[6]: True"
     ]
    }
   ],
   "source": [
    "dbutils.fs.mv(\"file:/tmp/green_taxi_2017.parquet\", \"dbfs:/FileStore/green/green_taxi_2017.parquet\")"
   ]
  },
  {
   "cell_type": "markdown",
   "metadata": {
    "application/vnd.databricks.v1+cell": {
     "cellMetadata": {
      "byteLimit": 2048000,
      "rowLimit": 10000
     },
     "inputWidgets": {},
     "nuid": "219466eb-18a4-4840-ab3e-4611efcdf8cd",
     "showTitle": false,
     "title": ""
    }
   },
   "source": [
    "##### Green Taxi - 2018"
   ]
  },
  {
   "cell_type": "code",
   "execution_count": 0,
   "metadata": {
    "application/vnd.databricks.v1+cell": {
     "cellMetadata": {
      "byteLimit": 2048000,
      "rowLimit": 10000
     },
     "inputWidgets": {},
     "nuid": "30fa00f9-b15f-490c-b98f-f667e924cdd2",
     "showTitle": false,
     "title": ""
    }
   },
   "outputs": [
    {
     "output_type": "stream",
     "name": "stdout",
     "output_type": "stream",
     "text": [
      "  % Total    % Received % Xferd  Average Speed   Time    Time     Time  Current\n                                 Dload  Upload   Total   Spent    Left  Speed\n\n  0     0    0     0    0     0      0      0 --:--:-- --:--:-- --:--:--     0\n  0     0    0     0    0     0      0      0 --:--:-- --:--:-- --:--:--     0\n\n  6  184M    6 11.8M    0     0  15.6M      0  0:00:11 --:--:--  0:00:11 15.6M\n 45  184M   45 84.5M    0     0  48.9M      0  0:00:03  0:00:01  0:00:02 74.9M\n 91  184M   91  169M    0     0  62.0M      0  0:00:02  0:00:02 --:--:-- 79.7M\n100  184M  100  184M    0     0  64.2M      0  0:00:02  0:00:02 --:--:-- 81.5M\n"
     ]
    }
   ],
   "source": [
    "%sh\n",
    "\n",
    "fileId=1jDn7qjFZ3-nrn4iOdFMh_p0W21esiIHn\n",
    "fileName=green_taxi_2018.parquet\n",
    "\n",
    "curl -sc /tmp/cookie \"https://drive.google.com/uc?export=download&id=${fileId}\" > /dev/null\n",
    "code=\"$(awk '/_warning_/ {print $NF}' /tmp/cookie)\" \n",
    "\n",
    "\n",
    "curl -Lb /tmp/cookie \"https://drive.google.com/uc?export=download&confirm=${code}&id=${fileId}\" -o /tmp/${fileName}\n"
   ]
  },
  {
   "cell_type": "code",
   "execution_count": 0,
   "metadata": {
    "application/vnd.databricks.v1+cell": {
     "cellMetadata": {
      "byteLimit": 2048000,
      "rowLimit": 10000
     },
     "inputWidgets": {},
     "nuid": "6f1b0595-094d-4477-9f6d-6d3e9264d05e",
     "showTitle": false,
     "title": ""
    }
   },
   "outputs": [
    {
     "output_type": "stream",
     "name": "stdout",
     "output_type": "stream",
     "text": [
      "Out[8]: True"
     ]
    }
   ],
   "source": [
    "dbutils.fs.mv(\"file:/tmp/green_taxi_2018.parquet\", \"dbfs:/FileStore/green/green_taxi_2018.parquet\")"
   ]
  },
  {
   "cell_type": "markdown",
   "metadata": {
    "application/vnd.databricks.v1+cell": {
     "cellMetadata": {
      "byteLimit": 2048000,
      "rowLimit": 10000
     },
     "inputWidgets": {},
     "nuid": "78a3a00f-1a75-49bd-8aab-c7af43610e5f",
     "showTitle": false,
     "title": ""
    }
   },
   "source": [
    "##### Green Taxi - 2019"
   ]
  },
  {
   "cell_type": "code",
   "execution_count": 0,
   "metadata": {
    "application/vnd.databricks.v1+cell": {
     "cellMetadata": {
      "byteLimit": 2048000,
      "rowLimit": 10000
     },
     "inputWidgets": {},
     "nuid": "6c30c42e-7e36-4032-af60-60f47777df35",
     "showTitle": false,
     "title": ""
    }
   },
   "outputs": [
    {
     "output_type": "stream",
     "name": "stdout",
     "output_type": "stream",
     "text": [
      "  % Total    % Received % Xferd  Average Speed   Time    Time     Time  Current\n                                 Dload  Upload   Total   Spent    Left  Speed\n\n  0     0    0     0    0     0      0      0 --:--:-- --:--:-- --:--:--     0\n  0     0    0     0    0     0      0      0 --:--:-- --:--:-- --:--:--     0\n\n  0     0    0     0    0     0      0      0 --:--:-- --:--:-- --:--:--     0\n 30  135M   30 41.0M    0     0  26.6M      0  0:00:05  0:00:01  0:00:04 40.2M\n 88  135M   88  120M    0     0  47.2M      0  0:00:02  0:00:02 --:--:-- 59.3M\n100  135M  100  135M    0     0  51.0M      0  0:00:02  0:00:02 --:--:-- 63.2M\n"
     ]
    }
   ],
   "source": [
    "%sh\n",
    "\n",
    "fileId=1BpjTq89EAhb6m-ICcZMEpTISw6jTHmio\n",
    "fileName=green_taxi_2019.parquet\n",
    "\n",
    "curl -sc /tmp/cookie \"https://drive.google.com/uc?export=download&id=${fileId}\" > /dev/null\n",
    "code=\"$(awk '/_warning_/ {print $NF}' /tmp/cookie)\" \n",
    "\n",
    "\n",
    "curl -Lb /tmp/cookie \"https://drive.google.com/uc?export=download&confirm=${code}&id=${fileId}\" -o /tmp/${fileName}\n"
   ]
  },
  {
   "cell_type": "code",
   "execution_count": 0,
   "metadata": {
    "application/vnd.databricks.v1+cell": {
     "cellMetadata": {
      "byteLimit": 2048000,
      "rowLimit": 10000
     },
     "inputWidgets": {},
     "nuid": "dd3eddcc-722b-434e-b689-1e9770a8527e",
     "showTitle": false,
     "title": ""
    }
   },
   "outputs": [
    {
     "output_type": "stream",
     "name": "stdout",
     "output_type": "stream",
     "text": [
      "Out[10]: True"
     ]
    }
   ],
   "source": [
    "dbutils.fs.mv(\"file:/tmp/green_taxi_2019.parquet\", \"dbfs:/FileStore/green/green_taxi_2019.parquet\")"
   ]
  },
  {
   "cell_type": "markdown",
   "metadata": {
    "application/vnd.databricks.v1+cell": {
     "cellMetadata": {
      "byteLimit": 2048000,
      "rowLimit": 10000
     },
     "inputWidgets": {},
     "nuid": "0afdd308-2353-482d-b18a-1adba1f23224",
     "showTitle": false,
     "title": ""
    }
   },
   "source": [
    "##### Green Taxi - 2020"
   ]
  },
  {
   "cell_type": "code",
   "execution_count": 0,
   "metadata": {
    "application/vnd.databricks.v1+cell": {
     "cellMetadata": {
      "byteLimit": 2048000,
      "rowLimit": 10000
     },
     "inputWidgets": {},
     "nuid": "fddd1639-b147-491a-8579-295302db86b2",
     "showTitle": false,
     "title": ""
    }
   },
   "outputs": [
    {
     "output_type": "stream",
     "name": "stdout",
     "output_type": "stream",
     "text": [
      "  % Total    % Received % Xferd  Average Speed   Time    Time     Time  Current\n                                 Dload  Upload   Total   Spent    Left  Speed\n\n  0     0    0     0    0     0      0      0 --:--:-- --:--:-- --:--:--     0\n  0     0    0     0    0     0      0      0 --:--:-- --:--:-- --:--:--     0\n  0     0    0     0    0     0      0      0 --:--:-- --:--:-- --:--:--     0\n\n100 35.3M  100 35.3M    0     0  19.6M      0  0:00:01  0:00:01 --:--:-- 19.6M\n"
     ]
    }
   ],
   "source": [
    "%sh\n",
    "\n",
    "fileId=1umIMHrqaqagZYqvLLf-OzidnDPwxIY5j\n",
    "fileName=green_taxi_2020.parquet\n",
    "\n",
    "curl -sc /tmp/cookie \"https://drive.google.com/uc?export=download&id=${fileId}\" > /dev/null\n",
    "code=\"$(awk '/_warning_/ {print $NF}' /tmp/cookie)\" \n",
    "\n",
    "\n",
    "curl -Lb /tmp/cookie \"https://drive.google.com/uc?export=download&confirm=${code}&id=${fileId}\" -o /tmp/${fileName}\n"
   ]
  },
  {
   "cell_type": "code",
   "execution_count": 0,
   "metadata": {
    "application/vnd.databricks.v1+cell": {
     "cellMetadata": {
      "byteLimit": 2048000,
      "rowLimit": 10000
     },
     "inputWidgets": {},
     "nuid": "491a5231-8194-4630-87d1-e3c03a94bb96",
     "showTitle": false,
     "title": ""
    }
   },
   "outputs": [
    {
     "output_type": "stream",
     "name": "stdout",
     "output_type": "stream",
     "text": [
      "Out[12]: True"
     ]
    }
   ],
   "source": [
    "dbutils.fs.mv(\"file:/tmp/green_taxi_2020.parquet\", \"dbfs:/FileStore/green/green_taxi_2020.parquet\")"
   ]
  },
  {
   "cell_type": "markdown",
   "metadata": {
    "application/vnd.databricks.v1+cell": {
     "cellMetadata": {
      "byteLimit": 2048000,
      "rowLimit": 10000
     },
     "inputWidgets": {},
     "nuid": "a7883610-d39b-4151-814b-60ea0d54824b",
     "showTitle": false,
     "title": ""
    }
   },
   "source": [
    "##### Green Taxi - 2021"
   ]
  },
  {
   "cell_type": "code",
   "execution_count": 0,
   "metadata": {
    "application/vnd.databricks.v1+cell": {
     "cellMetadata": {
      "byteLimit": 2048000,
      "rowLimit": 10000
     },
     "inputWidgets": {},
     "nuid": "1dd1c54f-4d66-442b-a06f-a5d5f3ce5654",
     "showTitle": false,
     "title": ""
    }
   },
   "outputs": [
    {
     "output_type": "stream",
     "name": "stdout",
     "output_type": "stream",
     "text": [
      "  % Total    % Received % Xferd  Average Speed   Time    Time     Time  Current\n                                 Dload  Upload   Total   Spent    Left  Speed\n\n  0     0    0     0    0     0      0      0 --:--:-- --:--:-- --:--:--     0\n  0     0    0     0    0     0      0      0 --:--:-- --:--:-- --:--:--     0\n  0     0    0     0    0     0      0      0 --:--:-- --:--:-- --:--:--     0\n\n100 22.3M  100 22.3M    0     0  16.4M      0  0:00:01  0:00:01 --:--:-- 16.4M\n"
     ]
    }
   ],
   "source": [
    "%sh\n",
    "\n",
    "fileId=1ISKrR97II-zWR7f2_boFcyfsNgsj8K1Y\n",
    "fileName=green_taxi_2021.parquet\n",
    "\n",
    "curl -sc /tmp/cookie \"https://drive.google.com/uc?export=download&id=${fileId}\" > /dev/null\n",
    "code=\"$(awk '/_warning_/ {print $NF}' /tmp/cookie)\" \n",
    "\n",
    "\n",
    "curl -Lb /tmp/cookie \"https://drive.google.com/uc?export=download&confirm=${code}&id=${fileId}\" -o /tmp/${fileName}\n"
   ]
  },
  {
   "cell_type": "code",
   "execution_count": 0,
   "metadata": {
    "application/vnd.databricks.v1+cell": {
     "cellMetadata": {
      "byteLimit": 2048000,
      "rowLimit": 10000
     },
     "inputWidgets": {},
     "nuid": "10c27240-8a48-4297-8534-e592abb70b28",
     "showTitle": false,
     "title": ""
    }
   },
   "outputs": [
    {
     "output_type": "stream",
     "name": "stdout",
     "output_type": "stream",
     "text": [
      "Out[14]: True"
     ]
    }
   ],
   "source": [
    "dbutils.fs.mv(\"file:/tmp/green_taxi_2021.parquet\", \"dbfs:/FileStore/green/green_taxi_2021.parquet\")"
   ]
  },
  {
   "cell_type": "markdown",
   "metadata": {
    "application/vnd.databricks.v1+cell": {
     "cellMetadata": {
      "byteLimit": 2048000,
      "rowLimit": 10000
     },
     "inputWidgets": {},
     "nuid": "dbb0829b-f496-4028-b629-05de42abf10a",
     "showTitle": false,
     "title": ""
    }
   },
   "source": [
    "##### Green Taxi - 2022"
   ]
  },
  {
   "cell_type": "code",
   "execution_count": 0,
   "metadata": {
    "application/vnd.databricks.v1+cell": {
     "cellMetadata": {
      "byteLimit": 2048000,
      "rowLimit": 10000
     },
     "inputWidgets": {},
     "nuid": "cd328d86-fe4f-45b0-8a51-c2e50084bb8a",
     "showTitle": false,
     "title": ""
    }
   },
   "outputs": [
    {
     "output_type": "stream",
     "name": "stdout",
     "output_type": "stream",
     "text": [
      "  % Total    % Received % Xferd  Average Speed   Time    Time     Time  Current\n                                 Dload  Upload   Total   Spent    Left  Speed\n\n  0     0    0     0    0     0      0      0 --:--:-- --:--:-- --:--:--     0\n  0     0    0     0    0     0      0      0 --:--:--  0:00:01 --:--:--     0\n  0     0    0     0    0     0      0      0 --:--:--  0:00:02 --:--:--     0\n  0     0    0     0    0     0      0      0 --:--:--  0:00:03 --:--:--     0\n  0     0    0     0    0     0      0      0 --:--:--  0:00:03 --:--:--     0\n  0     0    0     0    0     0      0      0 --:--:--  0:00:03 --:--:--     0\n\n100 19.1M  100 19.1M    0     0  4841k      0  0:00:04  0:00:04 --:--:-- 4841k\n"
     ]
    }
   ],
   "source": [
    "%sh\n",
    "\n",
    "fileId=1ysXV_4hB3Ex43k1HOvCi8RCT1k7GZANj\n",
    "fileName=green_taxi_2022.parquet\n",
    "\n",
    "curl -sc /tmp/cookie \"https://drive.google.com/uc?export=download&id=${fileId}\" > /dev/null\n",
    "code=\"$(awk '/_warning_/ {print $NF}' /tmp/cookie)\" \n",
    "\n",
    "\n",
    "curl -Lb /tmp/cookie \"https://drive.google.com/uc?export=download&confirm=${code}&id=${fileId}\" -o /tmp/${fileName}\n"
   ]
  },
  {
   "cell_type": "code",
   "execution_count": 0,
   "metadata": {
    "application/vnd.databricks.v1+cell": {
     "cellMetadata": {
      "byteLimit": 2048000,
      "rowLimit": 10000
     },
     "inputWidgets": {},
     "nuid": "aea2cca6-26f0-45a3-ba40-0bafa9f5f1c8",
     "showTitle": false,
     "title": ""
    }
   },
   "outputs": [
    {
     "output_type": "stream",
     "name": "stdout",
     "output_type": "stream",
     "text": [
      "Out[16]: True"
     ]
    }
   ],
   "source": [
    "dbutils.fs.mv(\"file:/tmp/green_taxi_2022.parquet\", \"dbfs:/FileStore/green/green_taxi_2022.parquet\")"
   ]
  },
  {
   "cell_type": "code",
   "execution_count": 0,
   "metadata": {
    "application/vnd.databricks.v1+cell": {
     "cellMetadata": {
      "byteLimit": 2048000,
      "rowLimit": 10000
     },
     "inputWidgets": {},
     "nuid": "d08700fb-f9bb-4881-914e-4a327625be02",
     "showTitle": false,
     "title": ""
    }
   },
   "outputs": [
    {
     "output_type": "display_data",
     "data": {
      "text/html": [
       "<style scoped>\n",
       "  .table-result-container {\n",
       "    max-height: 300px;\n",
       "    overflow: auto;\n",
       "  }\n",
       "  table, th, td {\n",
       "    border: 1px solid black;\n",
       "    border-collapse: collapse;\n",
       "  }\n",
       "  th, td {\n",
       "    padding: 5px;\n",
       "  }\n",
       "  th {\n",
       "    text-align: left;\n",
       "  }\n",
       "</style><div class='table-result-container'><table class='table-result'><thead style='background-color: white'><tr><th>path</th><th>name</th><th>size</th><th>modificationTime</th></tr></thead><tbody><tr><td>dbfs:/FileStore/green/green_taxi_2015.parquet</td><td>green_taxi_2015.parquet</td><td>404556105</td><td>1697330209000</td></tr><tr><td>dbfs:/FileStore/green/green_taxi_2016.parquet</td><td>green_taxi_2016.parquet</td><td>346731598</td><td>1697330236000</td></tr><tr><td>dbfs:/FileStore/green/green_taxi_2017.parquet</td><td>green_taxi_2017.parquet</td><td>251504885</td><td>1697330255000</td></tr><tr><td>dbfs:/FileStore/green/green_taxi_2018.parquet</td><td>green_taxi_2018.parquet</td><td>193874396</td><td>1697330270000</td></tr><tr><td>dbfs:/FileStore/green/green_taxi_2019.parquet</td><td>green_taxi_2019.parquet</td><td>142163406</td><td>1697330282000</td></tr><tr><td>dbfs:/FileStore/green/green_taxi_2020.parquet</td><td>green_taxi_2020.parquet</td><td>37076741</td><td>1697330289000</td></tr><tr><td>dbfs:/FileStore/green/green_taxi_2021.parquet</td><td>green_taxi_2021.parquet</td><td>23479865</td><td>1697330294000</td></tr><tr><td>dbfs:/FileStore/green/green_taxi_2022.parquet</td><td>green_taxi_2022.parquet</td><td>20085692</td><td>1697330301000</td></tr></tbody></table></div>"
      ]
     },
     "metadata": {
      "application/vnd.databricks.v1+output": {
       "addedWidgets": {},
       "aggData": [],
       "aggError": "",
       "aggOverflow": false,
       "aggSchema": [],
       "aggSeriesLimitReached": false,
       "aggType": "",
       "arguments": {},
       "columnCustomDisplayInfos": {},
       "data": [
        [
         "dbfs:/FileStore/green/green_taxi_2015.parquet",
         "green_taxi_2015.parquet",
         404556105,
         1697330209000
        ],
        [
         "dbfs:/FileStore/green/green_taxi_2016.parquet",
         "green_taxi_2016.parquet",
         346731598,
         1697330236000
        ],
        [
         "dbfs:/FileStore/green/green_taxi_2017.parquet",
         "green_taxi_2017.parquet",
         251504885,
         1697330255000
        ],
        [
         "dbfs:/FileStore/green/green_taxi_2018.parquet",
         "green_taxi_2018.parquet",
         193874396,
         1697330270000
        ],
        [
         "dbfs:/FileStore/green/green_taxi_2019.parquet",
         "green_taxi_2019.parquet",
         142163406,
         1697330282000
        ],
        [
         "dbfs:/FileStore/green/green_taxi_2020.parquet",
         "green_taxi_2020.parquet",
         37076741,
         1697330289000
        ],
        [
         "dbfs:/FileStore/green/green_taxi_2021.parquet",
         "green_taxi_2021.parquet",
         23479865,
         1697330294000
        ],
        [
         "dbfs:/FileStore/green/green_taxi_2022.parquet",
         "green_taxi_2022.parquet",
         20085692,
         1697330301000
        ]
       ],
       "datasetInfos": [],
       "dbfsResultPath": null,
       "isJsonSchema": true,
       "metadata": {},
       "overflow": false,
       "plotOptions": {
        "customPlotOptions": {},
        "displayType": "table",
        "pivotAggregation": null,
        "pivotColumns": null,
        "xColumns": null,
        "yColumns": null
       },
       "removedWidgets": [],
       "schema": [
        {
         "metadata": "{}",
         "name": "path",
         "type": "\"string\""
        },
        {
         "metadata": "{}",
         "name": "name",
         "type": "\"string\""
        },
        {
         "metadata": "{}",
         "name": "size",
         "type": "\"long\""
        },
        {
         "metadata": "{}",
         "name": "modificationTime",
         "type": "\"long\""
        }
       ],
       "type": "table"
      }
     },
     "output_type": "display_data"
    }
   ],
   "source": [
    "display(dbutils.fs.ls(\"dbfs:/FileStore/green\"))"
   ]
  },
  {
   "cell_type": "code",
   "execution_count": 0,
   "metadata": {
    "application/vnd.databricks.v1+cell": {
     "cellMetadata": {
      "byteLimit": 2048000,
      "rowLimit": 10000
     },
     "inputWidgets": {},
     "nuid": "41a7b55f-e697-4c5e-b549-45bffc9a62cc",
     "showTitle": false,
     "title": ""
    }
   },
   "outputs": [
    {
     "output_type": "stream",
     "name": "stdout",
     "output_type": "stream",
     "text": [
      "+--------+--------------------+---------------------+------------------+----------+------------+------------+---------------+-------------+-----------+-----+-------+----------+------------+---------+---------------------+------------+------------+---------+--------------------+\n|VendorID|lpep_pickup_datetime|lpep_dropoff_datetime|store_and_fwd_flag|RatecodeID|PULocationID|DOLocationID|passenger_count|trip_distance|fare_amount|extra|mta_tax|tip_amount|tolls_amount|ehail_fee|improvement_surcharge|total_amount|payment_type|trip_type|congestion_surcharge|\n+--------+--------------------+---------------------+------------------+----------+------------+------------+---------------+-------------+-----------+-----+-------+----------+------------+---------+---------------------+------------+------------+---------+--------------------+\n|       2| 2015-05-01 00:24:18|  2015-05-01 00:24:39|                 N|       1.0|         146|         146|            1.0|          0.0|        2.5|  0.5|    0.5|       0.0|         0.0|     null|                  0.3|         3.8|         2.0|      1.0|                null|\n|       2| 2015-05-01 00:28:15|  2015-05-01 00:29:00|                 N|       1.0|         146|         146|            1.0|          0.0|        2.5|  0.5|    0.5|       0.0|         0.0|     null|                  0.3|         3.8|         2.0|      1.0|                null|\n|       2| 2015-05-01 00:07:45|  2015-05-01 00:12:50|                 N|       1.0|         255|         112|            1.0|         1.09|        5.5|  0.5|    0.5|       1.0|         0.0|     null|                  0.3|         7.8|         1.0|      1.0|                null|\n|       2| 2015-05-01 00:26:23|  2015-05-01 00:55:12|                 N|       1.0|         255|          13|            1.0|         5.73|       22.0|  0.5|    0.5|      4.66|         0.0|     null|                  0.3|       27.96|         1.0|      1.0|                null|\n|       2| 2015-05-01 00:20:16|  2015-05-01 00:30:37|                 N|       1.0|          80|         225|            1.0|         2.35|        9.5|  0.5|    0.5|       0.0|         0.0|     null|                  0.3|        10.8|         2.0|      1.0|                null|\n|       2| 2015-05-01 00:37:21|  2015-05-01 00:50:00|                 N|       1.0|          37|         112|            1.0|         2.68|       11.0|  0.5|    0.5|      3.08|         0.0|     null|                  0.3|       15.38|         1.0|      1.0|                null|\n|       2| 2015-05-01 00:06:15|  2015-05-01 00:31:20|                 N|       1.0|         255|         164|            1.0|         4.74|       19.5|  0.5|    0.5|       0.0|         0.0|     null|                  0.3|        20.8|         2.0|      1.0|                null|\n|       2| 2015-05-01 00:22:31|  2015-05-01 01:05:05|                 N|       1.0|          17|          68|            1.0|         6.47|       29.5|  0.5|    0.5|       0.0|         0.0|     null|                  0.3|        30.8|         2.0|      1.0|                null|\n|       2| 2015-05-01 00:27:04|  2015-05-01 00:35:33|                 N|       1.0|         112|         226|            5.0|         2.25|        9.0|  0.5|    0.5|      2.06|         0.0|     null|                  0.3|       12.36|         1.0|      1.0|                null|\n|       2| 2015-05-01 00:19:16|  2015-05-01 00:35:52|                 N|       1.0|         255|          52|            1.0|          4.9|       17.5|  0.5|    0.5|      3.76|         0.0|     null|                  0.3|       22.56|         1.0|      1.0|                null|\n|       2| 2015-05-01 00:49:19|  2015-05-01 01:08:26|                 N|       1.0|         181|          37|            1.0|         3.99|       16.5|  0.5|    0.5|      3.56|         0.0|     null|                  0.3|       21.36|         1.0|      1.0|                null|\n|       1| 2015-05-01 00:14:26|  2015-05-01 00:20:33|                 N|       1.0|         116|          42|            1.0|          1.2|        6.5|  0.5|    0.5|       0.0|         0.0|     null|                  0.3|         7.8|         2.0|      1.0|                null|\n|       2| 2015-05-01 00:01:09|  2015-05-01 00:04:16|                 N|       1.0|          95|          95|            1.0|          0.8|        4.5|  0.5|    0.5|       0.0|         0.0|     null|                  0.3|         5.8|         2.0|      1.0|                null|\n|       2| 2015-05-01 00:18:27|  2015-05-01 00:49:21|                 N|       1.0|         255|         238|            2.0|         8.41|       28.5|  0.5|    0.5|       8.7|         0.0|     null|                  0.3|        38.5|         1.0|      1.0|                null|\n|       2| 2015-05-01 00:10:26|  2015-05-01 00:29:52|                 N|       1.0|          36|          45|            1.0|         4.55|       17.0|  0.5|    0.5|      3.66|         0.0|     null|                  0.3|       21.96|         1.0|      1.0|                null|\n|       2| 2015-05-01 00:56:51|  2015-05-01 01:11:46|                 N|       1.0|         217|          37|            1.0|         2.88|       12.5|  0.5|    0.5|       0.0|         0.0|     null|                  0.3|        13.8|         2.0|      1.0|                null|\n|       2| 2015-05-01 00:39:41|  2015-05-01 00:57:58|                 N|       1.0|         112|          17|            1.0|         3.89|       15.5|  0.5|    0.5|       0.0|         0.0|     null|                  0.3|        16.8|         1.0|      1.0|                null|\n|       2| 2015-05-01 00:57:23|  2015-05-01 01:10:32|                 N|       1.0|         255|         114|            1.0|         3.55|       13.5|  0.5|    0.5|       3.0|         0.0|     null|                  0.3|        17.8|         1.0|      1.0|                null|\n|       1| 2015-05-01 00:21:48|  2015-05-01 00:25:46|                 N|       1.0|           7|           7|            1.0|          0.8|        5.0|  0.5|    0.5|       0.0|         0.0|     null|                  0.3|         6.3|         2.0|      1.0|                null|\n|       1| 2015-05-01 00:57:52|  2015-05-01 01:06:17|                 N|       1.0|          82|         260|            1.0|          1.4|        8.0|  0.5|    0.5|       0.0|         0.0|     null|                  0.3|         9.3|         2.0|      1.0|                null|\n+--------+--------------------+---------------------+------------------+----------+------------+------------+---------------+-------------+-----------+-----+-------+----------+------------+---------+---------------------+------------+------------+---------+--------------------+\nonly showing top 20 rows\n\n"
     ]
    }
   ],
   "source": [
    "df_green = spark.read.parquet(\"/FileStore/green\")\n",
    "df_green.show()"
   ]
  },
  {
   "cell_type": "markdown",
   "metadata": {
    "application/vnd.databricks.v1+cell": {
     "cellMetadata": {
      "byteLimit": 2048000,
      "rowLimit": 10000
     },
     "inputWidgets": {},
     "nuid": "86e4cf73-463e-4018-b208-a6ce94b80d33",
     "showTitle": false,
     "title": ""
    }
   },
   "source": [
    "# **Yellow Taxi**"
   ]
  },
  {
   "cell_type": "markdown",
   "metadata": {
    "application/vnd.databricks.v1+cell": {
     "cellMetadata": {
      "byteLimit": 2048000,
      "rowLimit": 10000
     },
     "inputWidgets": {},
     "nuid": "aacb012c-88dc-4a6d-a521-9c035e322641",
     "showTitle": false,
     "title": ""
    }
   },
   "source": [
    "##### Yellow Taxi - 2015"
   ]
  },
  {
   "cell_type": "code",
   "execution_count": 0,
   "metadata": {
    "application/vnd.databricks.v1+cell": {
     "cellMetadata": {
      "byteLimit": 2048000,
      "rowLimit": 10000
     },
     "inputWidgets": {},
     "nuid": "e10c872a-4e4a-4b5b-af23-06f18ae94ab6",
     "showTitle": false,
     "title": ""
    }
   },
   "outputs": [
    {
     "output_type": "stream",
     "name": "stdout",
     "output_type": "stream",
     "text": [
      "  % Total    % Received % Xferd  Average Speed   Time    Time     Time  Current\n                                 Dload  Upload   Total   Spent    Left  Speed\n\n  0     0    0     0    0     0      0      0 --:--:-- --:--:-- --:--:--     0\n  0     0    0     0    0     0      0      0 --:--:-- --:--:-- --:--:--     0\n\n  0     0    0     0    0     0      0      0 --:--:-- --:--:-- --:--:--     0\n  1 2762M    1 32.0M    0     0  18.5M      0  0:02:29  0:00:01  0:02:28 30.3M\n  3 2762M    3 95.8M    0     0  35.8M      0  0:01:17  0:00:02  0:01:15 47.9M\n  7 2762M    7  201M    0     0  54.8M      0  0:00:50  0:00:03  0:00:47 67.1M\n 12 2762M   12  354M    0     0  75.8M      0  0:00:36  0:00:04  0:00:32 88.6M\n 17 2762M   17  492M    0     0  86.8M      0  0:00:31  0:00:05  0:00:26 98.5M\n 23 2762M   23  640M    0     0  96.0M      0  0:00:28  0:00:06  0:00:22  123M\n 28 2762M   28  798M    0     0   103M      0  0:00:26  0:00:07  0:00:19  140M\n 34 2762M   34  954M    0     0   110M      0  0:00:25  0:00:08  0:00:17  150M\n 38 2762M   38 1073M    0     0   110M      0  0:00:24  0:00:09  0:00:15  143M\n 43 2762M   43 1199M    0     0   112M      0  0:00:24  0:00:10  0:00:14  141M\n 45 2762M   45 1260M    0     0   107M      0  0:00:25  0:00:11  0:00:14  123M\n 48 2762M   48 1331M    0     0   104M      0  0:00:26  0:00:12  0:00:14  106M\n 50 2762M   50 1402M    0     0   102M      0  0:00:26  0:00:13  0:00:13 89.3M\n 52 2762M   52 1458M    0     0  99.3M      0  0:00:27  0:00:14  0:00:13 76.9M\n 54 2762M   54 1516M    0     0  96.6M      0  0:00:28  0:00:15  0:00:13 63.1M\n 57 2762M   57 1584M    0     0  94.8M      0  0:00:29  0:00:16  0:00:13 64.4M\n 59 2762M   59 1642M    0     0  92.8M      0  0:00:29  0:00:17  0:00:12 62.2M\n 61 2762M   61 1696M    0     0  90.8M      0  0:00:30  0:00:18  0:00:12 58.9M\n 63 2762M   63 1761M    0     0  89.5M      0  0:00:30  0:00:19  0:00:11 60.7M\n 65 2762M   65 1822M    0     0  88.1M      0  0:00:31  0:00:20  0:00:11 61.4M\n 67 2762M   67 1876M    0     0  86.5M      0  0:00:31  0:00:21  0:00:10 58.6M\n 69 2762M   69 1928M    0     0  85.0M      0  0:00:32  0:00:22  0:00:10 57.3M\n 72 2762M   72 1991M    0     0  84.1M      0  0:00:32  0:00:23  0:00:09 59.1M\n 74 2762M   74 2054M    0     0  83.2M      0  0:00:33  0:00:24  0:00:09 58.6M\n 76 2762M   76 2119M    0     0  82.5M      0  0:00:33  0:00:25  0:00:08 59.1M\n 78 2762M   78 2181M    0     0  81.7M      0  0:00:33  0:00:26  0:00:07 61.0M\n 80 2762M   80 2228M    0     0  80.5M      0  0:00:34  0:00:27  0:00:07 60.0M\n 82 2762M   82 2277M    0     0  79.4M      0  0:00:34  0:00:28  0:00:06 57.1M\n 84 2762M   84 2322M    0     0  78.2M      0  0:00:35  0:00:29  0:00:06 53.5M\n 85 2762M   85 2368M    0     0  77.2M      0  0:00:35  0:00:30  0:00:05 50.0M\n 87 2762M   87 2418M    0     0  76.3M      0  0:00:36  0:00:31  0:00:05 47.5M\n 89 2762M   89 2466M    0     0  75.4M      0  0:00:36  0:00:32  0:00:04 47.5M\n 91 2762M   91 2514M    0     0  74.6M      0  0:00:37  0:00:33  0:00:04 47.3M\n 92 2762M   92 2561M    0     0  73.8M      0  0:00:37  0:00:34  0:00:03 47.7M\n 94 2762M   94 2604M    0     0  73.0M      0  0:00:37  0:00:35  0:00:02 47.1M\n 96 2762M   96 2657M    0     0  72.4M      0  0:00:38  0:00:36  0:00:02 47.8M\n 98 2762M   98 2707M    0     0  71.8M      0  0:00:38  0:00:37  0:00:01 48.0M\n 99 2762M   99 2748M    0     0  71.0M      0  0:00:38  0:00:38 --:--:-- 46.7M\n100 2762M  100 2762M    0     0  71.0M      0  0:00:38  0:00:38 --:--:-- 47.5M\n"
     ]
    }
   ],
   "source": [
    "%sh\n",
    "\n",
    "fileId=1owWyJDNTWyLT0ln2iK5ulkmSYvXZ7qkf\n",
    "fileName=yellow_taxi_2015.parquet\n",
    "\n",
    "curl -sc /tmp/cookie \"https://drive.google.com/uc?export=download&id=${fileId}\" > /dev/null\n",
    "code=\"$(awk '/_warning_/ {print $NF}' /tmp/cookie)\" \n",
    "\n",
    "\n",
    "curl -Lb /tmp/cookie \"https://drive.google.com/uc?export=download&confirm=${code}&id=${fileId}\" -o /tmp/${fileName}\n"
   ]
  },
  {
   "cell_type": "code",
   "execution_count": 0,
   "metadata": {
    "application/vnd.databricks.v1+cell": {
     "cellMetadata": {
      "byteLimit": 2048000,
      "rowLimit": 10000
     },
     "inputWidgets": {},
     "nuid": "f56ab53f-1984-4d06-85c3-ddce475a4782",
     "showTitle": false,
     "title": ""
    }
   },
   "outputs": [
    {
     "output_type": "stream",
     "name": "stdout",
     "output_type": "stream",
     "text": [
      "Out[20]: True"
     ]
    }
   ],
   "source": [
    "dbutils.fs.mv(\"file:/tmp/yellow_taxi_2015.parquet\", \"dbfs:/FileStore/yellow/yellow_taxi_2015.parquet\")"
   ]
  },
  {
   "cell_type": "markdown",
   "metadata": {
    "application/vnd.databricks.v1+cell": {
     "cellMetadata": {
      "byteLimit": 2048000,
      "rowLimit": 10000
     },
     "inputWidgets": {},
     "nuid": "5c74a829-be12-4672-b249-78df2888fc4b",
     "showTitle": false,
     "title": ""
    }
   },
   "source": [
    "##### Yellow Taxi - 2016"
   ]
  },
  {
   "cell_type": "code",
   "execution_count": 0,
   "metadata": {
    "application/vnd.databricks.v1+cell": {
     "cellMetadata": {
      "byteLimit": 2048000,
      "rowLimit": 10000
     },
     "inputWidgets": {},
     "nuid": "bbec8a4a-93a6-450c-86a8-36a3432dd82b",
     "showTitle": false,
     "title": ""
    }
   },
   "outputs": [
    {
     "output_type": "stream",
     "name": "stdout",
     "output_type": "stream",
     "text": [
      "  % Total    % Received % Xferd  Average Speed   Time    Time     Time  Current\n                                 Dload  Upload   Total   Spent    Left  Speed\n\n  0     0    0     0    0     0      0      0 --:--:-- --:--:-- --:--:--     0\n  0     0    0     0    0     0      0      0 --:--:-- --:--:-- --:--:--     0\n\n  0     0    0     0    0     0      0      0 --:--:-- --:--:-- --:--:--     0\n  2 2495M    2 64.0M    0     0  41.4M      0  0:01:00  0:00:01  0:00:59 62.8M\n  5 2495M    5  136M    0     0  53.8M      0  0:00:46  0:00:02  0:00:44 67.9M\n 10 2495M   10  256M    0     0  73.6M      0  0:00:33  0:00:03  0:00:30 86.7M\n 15 2495M   15  381M    0     0  85.0M      0  0:00:29  0:00:04  0:00:25 96.3M\n 19 2495M   19  493M    0     0  90.1M      0  0:00:27  0:00:05  0:00:22 99.7M\n 24 2495M   24  613M    0     0  94.8M      0  0:00:26  0:00:06  0:00:20  111M\n 30 2495M   30  749M    0     0   100M      0  0:00:24  0:00:07  0:00:17  124M\n 35 2495M   35  876M    0     0   103M      0  0:00:24  0:00:08  0:00:16  124M\n 40 2495M   40 1017M    0     0   107M      0  0:00:23  0:00:09  0:00:14  127M\n 46 2495M   46 1167M    0     0   111M      0  0:00:22  0:00:10  0:00:12  134M\n 50 2495M   50 1252M    0     0   109M      0  0:00:22  0:00:11  0:00:11  127M\n 53 2495M   53 1324M    0     0   106M      0  0:00:23  0:00:12  0:00:11  114M\n 55 2495M   55 1387M    0     0   102M      0  0:00:24  0:00:13  0:00:11  102M\n 57 2495M   57 1432M    0     0  94.2M      0  0:00:26  0:00:15  0:00:11 72.4M\n 57 2495M   57 1447M    0     0  93.5M      0  0:00:26  0:00:15  0:00:11 55.8M\n 60 2495M   60 1511M    0     0  91.6M      0  0:00:27  0:00:16  0:00:11 51.7M\n 63 2495M   63 1574M    0     0  90.0M      0  0:00:27  0:00:17  0:00:10 49.9M\n 65 2495M   65 1632M    0     0  88.3M      0  0:00:28  0:00:18  0:00:10 49.1M\n 68 2495M   68 1699M    0     0  87.2M      0  0:00:28  0:00:19  0:00:09 62.6M\n 70 2495M   70 1764M    0     0  86.1M      0  0:00:28  0:00:20  0:00:08 63.5M\n 73 2495M   73 1827M    0     0  85.1M      0  0:00:29  0:00:21  0:00:08 63.4M\n 75 2495M   75 1891M    0     0  84.1M      0  0:00:29  0:00:22  0:00:07 63.4M\n 78 2495M   78 1952M    0     0  83.1M      0  0:00:30  0:00:23  0:00:07 63.6M\n 80 2495M   80 2011M    0     0  82.1M      0  0:00:30  0:00:24  0:00:06 62.0M\n 82 2495M   82 2057M    0     0  80.7M      0  0:00:30  0:00:25  0:00:05 58.4M\n 84 2495M   84 2104M    0     0  79.4M      0  0:00:31  0:00:26  0:00:05 55.2M\n 86 2495M   86 2155M    0     0  78.4M      0  0:00:31  0:00:27  0:00:04 52.6M\n 88 2495M   88 2205M    0     0  77.3M      0  0:00:32  0:00:28  0:00:04 50.6M\n 90 2495M   90 2256M    0     0  76.5M      0  0:00:32  0:00:29  0:00:03 49.1M\n 92 2495M   92 2307M    0     0  75.6M      0  0:00:32  0:00:30  0:00:02 49.9M\n 94 2495M   94 2357M    0     0  74.8M      0  0:00:33  0:00:31  0:00:02 50.4M\n 96 2495M   96 2406M    0     0  74.0M      0  0:00:33  0:00:32  0:00:01 50.1M\n 98 2495M   98 2456M    0     0  73.3M      0  0:00:34  0:00:33  0:00:01 50.1M\n100 2495M  100 2495M    0     0  72.6M      0  0:00:34  0:00:34 --:--:-- 49.2M\n"
     ]
    }
   ],
   "source": [
    "%sh\n",
    "\n",
    "fileId=1OdIcvpyFH1YXn9SNHc8YEuVFAYQpxCUw\n",
    "fileName=yellow_taxi_2016.parquet\n",
    "\n",
    "curl -sc /tmp/cookie \"https://drive.google.com/uc?export=download&id=${fileId}\" > /dev/null\n",
    "code=\"$(awk '/_warning_/ {print $NF}' /tmp/cookie)\" \n",
    "\n",
    "\n",
    "curl -Lb /tmp/cookie \"https://drive.google.com/uc?export=download&confirm=${code}&id=${fileId}\" -o /tmp/${fileName}\n"
   ]
  },
  {
   "cell_type": "code",
   "execution_count": 0,
   "metadata": {
    "application/vnd.databricks.v1+cell": {
     "cellMetadata": {
      "byteLimit": 2048000,
      "rowLimit": 10000
     },
     "inputWidgets": {},
     "nuid": "3e5052a3-98b5-4ce6-8691-8cc574d453dc",
     "showTitle": false,
     "title": ""
    }
   },
   "outputs": [
    {
     "output_type": "stream",
     "name": "stdout",
     "output_type": "stream",
     "text": [
      "Out[22]: True"
     ]
    }
   ],
   "source": [
    "dbutils.fs.mv(\"file:/tmp/yellow_taxi_2016.parquet\", \"dbfs:/FileStore/yellow/yellow_taxi_2016.parquet\")"
   ]
  },
  {
   "cell_type": "markdown",
   "metadata": {
    "application/vnd.databricks.v1+cell": {
     "cellMetadata": {
      "byteLimit": 2048000,
      "rowLimit": 10000
     },
     "inputWidgets": {},
     "nuid": "5759853d-54c4-4f57-bd0e-9d6d939cc4ab",
     "showTitle": false,
     "title": ""
    }
   },
   "source": [
    "##### Yellow Taxi - 2017"
   ]
  },
  {
   "cell_type": "code",
   "execution_count": 0,
   "metadata": {
    "application/vnd.databricks.v1+cell": {
     "cellMetadata": {
      "byteLimit": 2048000,
      "rowLimit": 10000
     },
     "inputWidgets": {},
     "nuid": "dd398153-7ca5-4c98-aad9-59e639f7b70e",
     "showTitle": false,
     "title": ""
    }
   },
   "outputs": [
    {
     "output_type": "stream",
     "name": "stdout",
     "output_type": "stream",
     "text": [
      "  % Total    % Received % Xferd  Average Speed   Time    Time     Time  Current\n                                 Dload  Upload   Total   Spent    Left  Speed\n\n  0     0    0     0    0     0      0      0 --:--:-- --:--:-- --:--:--     0\n  0     0    0     0    0     0      0      0 --:--:-- --:--:-- --:--:--     0\n\n  0     0    0     0    0     0      0      0 --:--:-- --:--:-- --:--:--     0\n  2 1976M    2 41.3M    0     0  32.3M      0  0:01:01  0:00:01  0:01:00 41.3M\n  6 1976M    6  120M    0     0  52.6M      0  0:00:37  0:00:02  0:00:35 60.0M\n 11 1976M   11  234M    0     0  71.4M      0  0:00:27  0:00:03  0:00:24 78.1M\n 16 1976M   16  318M    0     0  74.2M      0  0:00:26  0:00:04  0:00:22 79.4M\n 23 1976M   23  456M    0     0  86.3M      0  0:00:22  0:00:05  0:00:17 91.1M\n 29 1976M   29  592M    0     0  93.8M      0  0:00:21  0:00:06  0:00:15  109M\n 37 1976M   37  747M    0     0   102M      0  0:00:19  0:00:07  0:00:12  125M\n 46 1976M   46  916M    0     0   110M      0  0:00:17  0:00:08  0:00:09  136M\n 54 1976M   54 1067M    0     0   115M      0  0:00:17  0:00:09  0:00:08  149M\n 60 1976M   60 1196M    0     0   116M      0  0:00:16  0:00:10  0:00:06  148M\n 63 1976M   63 1258M    0     0   110M      0  0:00:17  0:00:11  0:00:06  132M\n 67 1976M   67 1330M    0     0   108M      0  0:00:18  0:00:12  0:00:06  116M\n 70 1976M   70 1394M    0     0   104M      0  0:00:18  0:00:13  0:00:05 95.4M\n 73 1976M   73 1457M    0     0   101M      0  0:00:19  0:00:14  0:00:05 77.7M\n 76 1976M   76 1520M    0     0  99.4M      0  0:00:19  0:00:15  0:00:04 64.7M\n 80 1976M   80 1583M    0     0  97.0M      0  0:00:20  0:00:16  0:00:04 65.3M\n 83 1976M   83 1647M    0     0  95.2M      0  0:00:20  0:00:17  0:00:03 63.4M\n 86 1976M   86 1705M    0     0  93.2M      0  0:00:21  0:00:18  0:00:03 62.2M\n 88 1976M   88 1756M    0     0  91.1M      0  0:00:21  0:00:19  0:00:02 59.9M\n 91 1976M   91 1808M    0     0  89.0M      0  0:00:22  0:00:20  0:00:02 57.2M\n 93 1976M   93 1857M    0     0  87.2M      0  0:00:22  0:00:21  0:00:01 55.0M\n 96 1976M   96 1907M    0     0  85.5M      0  0:00:23  0:00:22  0:00:01 52.0M\n 99 1976M   99 1958M    0     0  84.0M      0  0:00:23  0:00:23 --:--:-- 50.6M\n100 1976M  100 1976M    0     0  83.5M      0  0:00:23  0:00:23 --:--:-- 50.0M\n"
     ]
    }
   ],
   "source": [
    "%sh\n",
    "\n",
    "fileId=1rtEhtit_2rKvWgutXNIpSWPk3vuE6q8r\n",
    "fileName=yellow_taxi_2017.parquet\n",
    "\n",
    "curl -sc /tmp/cookie \"https://drive.google.com/uc?export=download&id=${fileId}\" > /dev/null\n",
    "code=\"$(awk '/_warning_/ {print $NF}' /tmp/cookie)\" \n",
    "\n",
    "\n",
    "curl -Lb /tmp/cookie \"https://drive.google.com/uc?export=download&confirm=${code}&id=${fileId}\" -o /tmp/${fileName}\n"
   ]
  },
  {
   "cell_type": "code",
   "execution_count": 0,
   "metadata": {
    "application/vnd.databricks.v1+cell": {
     "cellMetadata": {
      "byteLimit": 2048000,
      "rowLimit": 10000
     },
     "inputWidgets": {},
     "nuid": "7d059bce-6902-46d0-a3e7-a8ced90dac39",
     "showTitle": false,
     "title": ""
    }
   },
   "outputs": [
    {
     "output_type": "stream",
     "name": "stdout",
     "output_type": "stream",
     "text": [
      "Out[24]: True"
     ]
    }
   ],
   "source": [
    "dbutils.fs.mv(\"file:/tmp/yellow_taxi_2017.parquet\", \"dbfs:/FileStore/yellow/yellow_taxi_2017.parquet\")"
   ]
  },
  {
   "cell_type": "markdown",
   "metadata": {
    "application/vnd.databricks.v1+cell": {
     "cellMetadata": {
      "byteLimit": 2048000,
      "rowLimit": 10000
     },
     "inputWidgets": {},
     "nuid": "ec7fcacf-664b-4365-8c89-68023c9360fc",
     "showTitle": false,
     "title": ""
    }
   },
   "source": [
    "##### Yellow Taxi - 2018"
   ]
  },
  {
   "cell_type": "code",
   "execution_count": 0,
   "metadata": {
    "application/vnd.databricks.v1+cell": {
     "cellMetadata": {
      "byteLimit": 2048000,
      "rowLimit": 10000
     },
     "inputWidgets": {},
     "nuid": "6c51216c-2a76-4b19-aa9a-3bfc13b247d8",
     "showTitle": false,
     "title": ""
    }
   },
   "outputs": [
    {
     "output_type": "stream",
     "name": "stdout",
     "output_type": "stream",
     "text": [
      "  % Total    % Received % Xferd  Average Speed   Time    Time     Time  Current\n                                 Dload  Upload   Total   Spent    Left  Speed\n\n  0     0    0     0    0     0      0      0 --:--:-- --:--:-- --:--:--     0\n  0     0    0     0    0     0      0      0 --:--:-- --:--:-- --:--:--     0\n\n  0     0    0     0    0     0      0      0 --:--:-- --:--:-- --:--:--     0\n  0 2000M    0 10.0M    0     0  6062k      0  0:05:37  0:00:01  0:05:36 10.8M\n  1 2000M    1 32.5M    0     0  11.2M      0  0:02:58  0:00:02  0:02:56 15.2M\n  2 2000M    2 48.0M    0     0  12.7M      0  0:02:36  0:00:03  0:02:33 16.0M\n  3 2000M    3 64.0M    0     0  13.5M      0  0:02:27  0:00:04  0:02:23 16.1M\n  4 2000M    4 88.0M    0     0  15.2M      0  0:02:10  0:00:05  0:02:05 17.6M\n  6 2000M    6  121M    0     0  17.9M      0  0:01:51  0:00:06  0:01:45 21.9M\n  8 2000M    8  165M    0     0  21.5M      0  0:01:32  0:00:07  0:01:25 27.7M\n  9 2000M    9  200M    0     0  22.6M      0  0:01:28  0:00:08  0:01:20 29.9M\n 12 2000M   12  245M    0     0  25.3M      0  0:01:18  0:00:09  0:01:09 36.6M\n 13 2000M   13  280M    0     0  25.9M      0  0:01:17  0:00:10  0:01:07 38.0M\n 15 2000M   15  312M    0     0  26.6M      0  0:01:14  0:00:11  0:01:03 38.6M\n 18 2000M   18  376M    0     0  29.0M      0  0:01:08  0:00:12  0:00:56 40.0M\n 22 2000M   22  454M    0     0  33.1M      0  0:01:00  0:00:13  0:00:47 52.2M\n 27 2000M   27  552M    0     0  37.3M      0  0:00:53  0:00:14  0:00:39 59.9M\n 30 2000M   30  616M    0     0  39.2M      0  0:00:51  0:00:15  0:00:36 68.4M\n 33 2000M   33  664M    0     0  39.2M      0  0:00:50  0:00:16  0:00:34 67.5M\n 35 2000M   35  720M    0     0  40.5M      0  0:00:49  0:00:17  0:00:32 71.8M\n 39 2000M   39  794M    0     0  42.5M      0  0:00:47  0:00:18  0:00:29 68.0M\n 45 2000M   45  920M    0     0  46.6M      0  0:00:42  0:00:19  0:00:23 74.7M\n 49 2000M   49  984M    0     0  47.3M      0  0:00:42  0:00:20  0:00:22 72.5M\n 51 2000M   51 1040M    0     0  47.8M      0  0:00:41  0:00:21  0:00:20 78.1M\n 55 2000M   55 1103M    0     0  48.6M      0  0:00:41  0:00:22  0:00:19 77.2M\n 58 2000M   58 1168M    0     0  49.1M      0  0:00:40  0:00:23  0:00:17 73.9M\n 62 2000M   62 1255M    0     0  50.8M      0  0:00:39  0:00:24  0:00:15 67.4M\n 67 2000M   67 1344M    0     0  52.2M      0  0:00:38  0:00:25  0:00:13 72.6M\n 70 2000M   70 1416M    0     0  52.9M      0  0:00:37  0:00:26  0:00:11 74.7M\n 76 2000M   76 1536M    0     0  55.4M      0  0:00:36  0:00:27  0:00:09 86.0M\n 80 2000M   80 1619M    0     0  56.4M      0  0:00:35  0:00:28  0:00:07 91.0M\n 85 2000M   85 1704M    0     0  57.3M      0  0:00:34  0:00:29  0:00:05 89.7M\n 88 2000M   88 1763M    0     0  57.4M      0  0:00:34  0:00:30  0:00:04 84.5M\n 93 2000M   93 1864M    0     0  58.7M      0  0:00:34  0:00:31  0:00:03 90.2M\n 96 2000M   96 1937M    0     0  59.2M      0  0:00:33  0:00:32  0:00:01 80.6M\n100 2000M  100 2000M    0     0  59.5M      0  0:00:33  0:00:33 --:--:-- 78.2M\n"
     ]
    }
   ],
   "source": [
    "%sh\n",
    "\n",
    "fileId=1073SHSIkWcSESNZoU0JHXudRlSzJXPM9\n",
    "fileName=yellow_taxi_2018.parquet\n",
    "\n",
    "curl -sc /tmp/cookie \"https://drive.google.com/uc?export=download&id=${fileId}\" > /dev/null\n",
    "code=\"$(awk '/_warning_/ {print $NF}' /tmp/cookie)\" \n",
    "\n",
    "\n",
    "curl -Lb /tmp/cookie \"https://drive.google.com/uc?export=download&confirm=${code}&id=${fileId}\" -o /tmp/${fileName}\n"
   ]
  },
  {
   "cell_type": "code",
   "execution_count": 0,
   "metadata": {
    "application/vnd.databricks.v1+cell": {
     "cellMetadata": {
      "byteLimit": 2048000,
      "rowLimit": 10000
     },
     "inputWidgets": {},
     "nuid": "991f1c37-40e8-4030-8c89-2134763c8197",
     "showTitle": false,
     "title": ""
    }
   },
   "outputs": [
    {
     "output_type": "stream",
     "name": "stdout",
     "output_type": "stream",
     "text": [
      "Out[26]: True"
     ]
    }
   ],
   "source": [
    "dbutils.fs.mv(\"file:/tmp/yellow_taxi_2018.parquet\", \"dbfs:/FileStore/yellow/yellow_taxi_2018.parquet\")"
   ]
  },
  {
   "cell_type": "markdown",
   "metadata": {
    "application/vnd.databricks.v1+cell": {
     "cellMetadata": {
      "byteLimit": 2048000,
      "rowLimit": 10000
     },
     "inputWidgets": {},
     "nuid": "55bb829c-eeb8-43e9-8e1a-301692b7ce7f",
     "showTitle": false,
     "title": ""
    }
   },
   "source": [
    "##### Yellow Taxi - 2019"
   ]
  },
  {
   "cell_type": "code",
   "execution_count": 0,
   "metadata": {
    "application/vnd.databricks.v1+cell": {
     "cellMetadata": {
      "byteLimit": 2048000,
      "rowLimit": 10000
     },
     "inputWidgets": {},
     "nuid": "04c63342-4752-4408-af03-bcaf15df20b4",
     "showTitle": false,
     "title": ""
    }
   },
   "outputs": [
    {
     "output_type": "stream",
     "name": "stdout",
     "output_type": "stream",
     "text": [
      "  % Total    % Received % Xferd  Average Speed   Time    Time     Time  Current\n                                 Dload  Upload   Total   Spent    Left  Speed\n\n  0     0    0     0    0     0      0      0 --:--:-- --:--:-- --:--:--     0\n  0     0    0     0    0     0      0      0 --:--:-- --:--:-- --:--:--     0\n  0     0    0     0    0     0      0      0 --:--:-- --:--:-- --:--:--     0\n\n  1 1705M    1 32.0M    0     0  28.7M      0  0:00:59  0:00:01  0:00:58 28.7M\n  6 1705M    6  112M    0     0  52.8M      0  0:00:32  0:00:02  0:00:30 79.3M\n 12 1705M   12  214M    0     0  68.8M      0  0:00:24  0:00:03  0:00:21 91.1M\n 18 1705M   18  321M    0     0  78.1M      0  0:00:21  0:00:04  0:00:17 96.5M\n 26 1705M   26  448M    0     0  86.3M      0  0:00:19  0:00:05  0:00:14  102M\n 31 1705M   31  542M    0     0  88.6M      0  0:00:19  0:00:06  0:00:13  102M\n 38 1705M   38  662M    0     0  93.1M      0  0:00:18  0:00:07  0:00:11  110M\n 43 1705M   43  746M    0     0  92.0M      0  0:00:18  0:00:08  0:00:10  106M\n 51 1705M   51  878M    0     0  96.3M      0  0:00:17  0:00:09  0:00:08  111M\n 58 1705M   58 1006M    0     0  99.4M      0  0:00:17  0:00:10  0:00:07  113M\n 66 1705M   66 1137M    0     0   102M      0  0:00:16  0:00:11  0:00:05  119M\n 74 1705M   74 1265M    0     0   104M      0  0:00:16  0:00:12  0:00:04  120M\n 78 1705M   78 1338M    0     0   102M      0  0:00:16  0:00:13  0:00:03  118M\n 82 1705M   82 1414M    0     0   100M      0  0:00:17  0:00:14  0:00:03  107M\n 86 1705M   86 1480M    0     0  97.5M      0  0:00:17  0:00:15  0:00:02 93.5M\n 91 1705M   91 1561M    0     0  96.9M      0  0:00:17  0:00:16  0:00:01 84.7M\n 95 1705M   95 1634M    0     0  95.4M      0  0:00:17  0:00:17 --:--:-- 73.7M\n 98 1705M   98 1677M    0     0  92.5M      0  0:00:18  0:00:18 --:--:-- 67.7M\n100 1705M  100 1705M    0     0  92.1M      0  0:00:18  0:00:18 --:--:-- 66.4M\n"
     ]
    }
   ],
   "source": [
    "%sh\n",
    "\n",
    "fileId=144mphzh2a6qerjLvCwwO_QHDsXTdNAJ3\n",
    "fileName=yellow_taxi_2019.parquet\n",
    "\n",
    "curl -sc /tmp/cookie \"https://drive.google.com/uc?export=download&id=${fileId}\" > /dev/null\n",
    "code=\"$(awk '/_warning_/ {print $NF}' /tmp/cookie)\" \n",
    "\n",
    "\n",
    "curl -Lb /tmp/cookie \"https://drive.google.com/uc?export=download&confirm=${code}&id=${fileId}\" -o /tmp/${fileName}\n"
   ]
  },
  {
   "cell_type": "code",
   "execution_count": 0,
   "metadata": {
    "application/vnd.databricks.v1+cell": {
     "cellMetadata": {
      "byteLimit": 2048000,
      "rowLimit": 10000
     },
     "inputWidgets": {},
     "nuid": "f95f8e36-eedf-4e11-8532-bf19b2700745",
     "showTitle": false,
     "title": ""
    }
   },
   "outputs": [
    {
     "output_type": "stream",
     "name": "stdout",
     "output_type": "stream",
     "text": [
      "Out[28]: True"
     ]
    }
   ],
   "source": [
    "dbutils.fs.mv(\"file:/tmp/yellow_taxi_2019.parquet\", \"dbfs:/FileStore/yellow/yellow_taxi_2019.parquet\")"
   ]
  },
  {
   "cell_type": "markdown",
   "metadata": {
    "application/vnd.databricks.v1+cell": {
     "cellMetadata": {
      "byteLimit": 2048000,
      "rowLimit": 10000
     },
     "inputWidgets": {},
     "nuid": "14d423c1-6a1d-42b2-b945-d8ce1f455ed8",
     "showTitle": false,
     "title": ""
    }
   },
   "source": [
    "##### Yellow Taxi - 2020"
   ]
  },
  {
   "cell_type": "code",
   "execution_count": 0,
   "metadata": {
    "application/vnd.databricks.v1+cell": {
     "cellMetadata": {
      "byteLimit": 2048000,
      "rowLimit": 10000
     },
     "inputWidgets": {},
     "nuid": "d932612d-0091-49a0-9b76-5515916802ce",
     "showTitle": false,
     "title": ""
    }
   },
   "outputs": [
    {
     "output_type": "stream",
     "name": "stdout",
     "output_type": "stream",
     "text": [
      "  % Total    % Received % Xferd  Average Speed   Time    Time     Time  Current\n                                 Dload  Upload   Total   Spent    Left  Speed\n\n  0     0    0     0    0     0      0      0 --:--:-- --:--:-- --:--:--     0\n  0     0    0     0    0     0      0      0 --:--:-- --:--:-- --:--:--     0\n\n  0     0    0     0    0     0      0      0 --:--:-- --:--:-- --:--:--     0\n  9  509M    9 49.0M    0     0  35.1M      0  0:00:14  0:00:01  0:00:13 51.1M\n 29  509M   29  152M    0     0  63.4M      0  0:00:08  0:00:02  0:00:06 77.6M\n 54  509M   54  276M    0     0  82.3M      0  0:00:06  0:00:03  0:00:03 94.6M\n 81  509M   81  416M    0     0  94.1M      0  0:00:05  0:00:04  0:00:01  104M\n100  509M  100  509M    0     0   103M      0  0:00:04  0:00:04 --:--:--  113M\n"
     ]
    }
   ],
   "source": [
    "%sh\n",
    "\n",
    "fileId=1kB5Bnx1TAXMq_revh1fyUU5RYOMdmIh4\n",
    "fileName=yellow_taxi_2020.parquet\n",
    "\n",
    "curl -sc /tmp/cookie \"https://drive.google.com/uc?export=download&id=${fileId}\" > /dev/null\n",
    "code=\"$(awk '/_warning_/ {print $NF}' /tmp/cookie)\" \n",
    "\n",
    "\n",
    "curl -Lb /tmp/cookie \"https://drive.google.com/uc?export=download&confirm=${code}&id=${fileId}\" -o /tmp/${fileName}\n"
   ]
  },
  {
   "cell_type": "code",
   "execution_count": 0,
   "metadata": {
    "application/vnd.databricks.v1+cell": {
     "cellMetadata": {
      "byteLimit": 2048000,
      "rowLimit": 10000
     },
     "inputWidgets": {},
     "nuid": "326cb2b0-dddb-41bd-8d56-03c3b7f1a667",
     "showTitle": false,
     "title": ""
    }
   },
   "outputs": [
    {
     "output_type": "stream",
     "name": "stdout",
     "output_type": "stream",
     "text": [
      "Out[30]: True"
     ]
    }
   ],
   "source": [
    "dbutils.fs.mv(\"file:/tmp/yellow_taxi_2020.parquet\", \"dbfs:/FileStore/yellow/yellow_taxi_2020.parquet\")"
   ]
  },
  {
   "cell_type": "markdown",
   "metadata": {
    "application/vnd.databricks.v1+cell": {
     "cellMetadata": {
      "byteLimit": 2048000,
      "rowLimit": 10000
     },
     "inputWidgets": {},
     "nuid": "410bc10b-3c59-433f-bb3c-295d726e0c6d",
     "showTitle": false,
     "title": ""
    }
   },
   "source": [
    "##### Yellow Taxi - 2021"
   ]
  },
  {
   "cell_type": "code",
   "execution_count": 0,
   "metadata": {
    "application/vnd.databricks.v1+cell": {
     "cellMetadata": {
      "byteLimit": 2048000,
      "rowLimit": 10000
     },
     "inputWidgets": {},
     "nuid": "81f78aca-099a-4863-96b4-aa942eb8beb4",
     "showTitle": false,
     "title": ""
    }
   },
   "outputs": [
    {
     "output_type": "stream",
     "name": "stdout",
     "output_type": "stream",
     "text": [
      "  % Total    % Received % Xferd  Average Speed   Time    Time     Time  Current\n                                 Dload  Upload   Total   Spent    Left  Speed\n\n  0     0    0     0    0     0      0      0 --:--:-- --:--:-- --:--:--     0\n  0     0    0     0    0     0      0      0 --:--:-- --:--:-- --:--:--     0\n\n  0     0    0     0    0     0      0      0 --:--:-- --:--:-- --:--:--     0\n  2  647M    2 16.0M    0     0  11.5M      0  0:00:56  0:00:01  0:00:55 13.6M\n  7  647M    7 45.7M    0     0  20.6M      0  0:00:31  0:00:02  0:00:29 22.8M\n 12  647M   12 80.8M    0     0  23.5M      0  0:00:27  0:00:03  0:00:24 25.0M\n 17  647M   17  112M    0     0  25.5M      0  0:00:25  0:00:04  0:00:21 26.8M\n 23  647M   23  153M    0     0  29.3M      0  0:00:22  0:00:05  0:00:17 30.6M\n 32  647M   32  211M    0     0  34.0M      0  0:00:18  0:00:06  0:00:12 40.6M\n 39  647M   39  256M    0     0  35.0M      0  0:00:18  0:00:07  0:00:11 41.3M\n 47  647M   47  310M    0     0  37.7M      0  0:00:17  0:00:08  0:00:09 47.9M\n 56  647M   56  368M    0     0  39.6M      0  0:00:16  0:00:09  0:00:07 52.4M\n 80  647M   80  522M    0     0  51.1M      0  0:00:12  0:00:10  0:00:02 73.8M\n 94  647M   94  615M    0     0  54.8M      0  0:00:11  0:00:11 --:--:-- 80.6M\n100  647M  100  647M    0     0  55.5M      0  0:00:11  0:00:11 --:--:-- 89.9M\n"
     ]
    }
   ],
   "source": [
    "%sh\n",
    "\n",
    "fileId=1eTs-ID9A3ZgYy0BotrEKwh9ThRAt8dfu\n",
    "fileName=yellow_taxi_2021.parquet\n",
    "\n",
    "curl -sc /tmp/cookie \"https://drive.google.com/uc?export=download&id=${fileId}\" > /dev/null\n",
    "code=\"$(awk '/_warning_/ {print $NF}' /tmp/cookie)\" \n",
    "\n",
    "\n",
    "curl -Lb /tmp/cookie \"https://drive.google.com/uc?export=download&confirm=${code}&id=${fileId}\" -o /tmp/${fileName}\n"
   ]
  },
  {
   "cell_type": "code",
   "execution_count": 0,
   "metadata": {
    "application/vnd.databricks.v1+cell": {
     "cellMetadata": {
      "byteLimit": 2048000,
      "rowLimit": 10000
     },
     "inputWidgets": {},
     "nuid": "3c0c538e-28fb-4081-863b-11668816df40",
     "showTitle": false,
     "title": ""
    }
   },
   "outputs": [
    {
     "output_type": "stream",
     "name": "stdout",
     "output_type": "stream",
     "text": [
      "Out[32]: True"
     ]
    }
   ],
   "source": [
    "dbutils.fs.mv(\"file:/tmp/yellow_taxi_2021.parquet\", \"dbfs:/FileStore/yellow/yellow_taxi_2021.parquet\")"
   ]
  },
  {
   "cell_type": "markdown",
   "metadata": {
    "application/vnd.databricks.v1+cell": {
     "cellMetadata": {
      "byteLimit": 2048000,
      "rowLimit": 10000
     },
     "inputWidgets": {},
     "nuid": "7f1a82a5-0529-4c6a-93bb-d27ec03b6d96",
     "showTitle": false,
     "title": ""
    }
   },
   "source": [
    "##### Yellow Taxi - 2022"
   ]
  },
  {
   "cell_type": "code",
   "execution_count": 0,
   "metadata": {
    "application/vnd.databricks.v1+cell": {
     "cellMetadata": {
      "byteLimit": 2048000,
      "rowLimit": 10000
     },
     "inputWidgets": {},
     "nuid": "211a484f-08c6-4892-8137-ca0b3ebfa6fc",
     "showTitle": false,
     "title": ""
    }
   },
   "outputs": [
    {
     "output_type": "stream",
     "name": "stdout",
     "output_type": "stream",
     "text": [
      "  % Total    % Received % Xferd  Average Speed   Time    Time     Time  Current\n                                 Dload  Upload   Total   Spent    Left  Speed\n\n  0     0    0     0    0     0      0      0 --:--:-- --:--:-- --:--:--     0\n  0     0    0     0    0     0      0      0 --:--:-- --:--:-- --:--:--     0\n\n  0  834M    0 8272k    0     0  8598k      0  0:01:39 --:--:--  0:01:39 8598k\n  5  834M    5 48.2M    0     0  25.2M      0  0:00:33  0:00:01  0:00:32 42.1M\n 11  834M   11 97.4M    0     0  33.6M      0  0:00:24  0:00:02  0:00:22 46.1M\n 20  834M   20  169M    0     0  43.4M      0  0:00:19  0:00:03  0:00:16 54.9M\n 27  834M   27  233M    0     0  47.5M      0  0:00:17  0:00:04  0:00:13 57.1M\n 33  834M   33  280M    0     0  46.7M      0  0:00:17  0:00:05  0:00:12 54.0M\n 37  834M   37  312M    0     0  43.4M      0  0:00:19  0:00:07  0:00:12 50.0M\n 46  834M   46  386M    0     0  48.9M      0  0:00:17  0:00:07  0:00:10 57.8M\n 60  834M   60  504M    0     0  56.6M      0  0:00:14  0:00:08  0:00:06 66.8M\n 73  834M   73  616M    0     0  61.9M      0  0:00:13  0:00:09  0:00:04 76.0M\n 84  834M   84  707M    0     0  64.8M      0  0:00:12  0:00:10  0:00:02 86.9M\n 94  834M   94  791M    0     0  66.5M      0  0:00:12  0:00:11  0:00:01  101M\n100  834M  100  834M    0     0  65.5M      0  0:00:12  0:00:12 --:--:-- 92.7M\n"
     ]
    }
   ],
   "source": [
    "%sh\n",
    "\n",
    "fileId=1QdBDxHQzffBZ26T3j6Uhk1eJ8EmF0bCN\n",
    "fileName=yellow_taxi_2022.parquet\n",
    "\n",
    "curl -sc /tmp/cookie \"https://drive.google.com/uc?export=download&id=${fileId}\" > /dev/null\n",
    "code=\"$(awk '/_warning_/ {print $NF}' /tmp/cookie)\" \n",
    "\n",
    "\n",
    "curl -Lb /tmp/cookie \"https://drive.google.com/uc?export=download&confirm=${code}&id=${fileId}\" -o /tmp/${fileName}\n"
   ]
  },
  {
   "cell_type": "code",
   "execution_count": 0,
   "metadata": {
    "application/vnd.databricks.v1+cell": {
     "cellMetadata": {
      "byteLimit": 2048000,
      "rowLimit": 10000
     },
     "inputWidgets": {},
     "nuid": "b3207814-7e09-4881-8d88-3de45ba4beb2",
     "showTitle": false,
     "title": ""
    }
   },
   "outputs": [
    {
     "output_type": "stream",
     "name": "stdout",
     "output_type": "stream",
     "text": [
      "Out[34]: True"
     ]
    }
   ],
   "source": [
    "dbutils.fs.mv(\"file:/tmp/yellow_taxi_2022.parquet\", \"dbfs:/FileStore/yellow/yellow_taxi_2022.parquet\")"
   ]
  },
  {
   "cell_type": "code",
   "execution_count": 0,
   "metadata": {
    "application/vnd.databricks.v1+cell": {
     "cellMetadata": {
      "byteLimit": 2048000,
      "rowLimit": 10000
     },
     "inputWidgets": {},
     "nuid": "647f31b7-7c48-4a2a-880c-ff6e6205fd57",
     "showTitle": false,
     "title": ""
    }
   },
   "outputs": [
    {
     "output_type": "display_data",
     "data": {
      "text/html": [
       "<style scoped>\n",
       "  .table-result-container {\n",
       "    max-height: 300px;\n",
       "    overflow: auto;\n",
       "  }\n",
       "  table, th, td {\n",
       "    border: 1px solid black;\n",
       "    border-collapse: collapse;\n",
       "  }\n",
       "  th, td {\n",
       "    padding: 5px;\n",
       "  }\n",
       "  th {\n",
       "    text-align: left;\n",
       "  }\n",
       "</style><div class='table-result-container'><table class='table-result'><thead style='background-color: white'><tr><th>path</th><th>name</th><th>size</th><th>modificationTime</th></tr></thead><tbody><tr><td>dbfs:/FileStore/yellow/yellow_taxi_2015.parquet</td><td>yellow_taxi_2015.parquet</td><td>2896588873</td><td>1697330506000</td></tr><tr><td>dbfs:/FileStore/yellow/yellow_taxi_2016.parquet</td><td>yellow_taxi_2016.parquet</td><td>2616839324</td><td>1697330671000</td></tr><tr><td>dbfs:/FileStore/yellow/yellow_taxi_2017.parquet</td><td>yellow_taxi_2017.parquet</td><td>2072273391</td><td>1697330809000</td></tr><tr><td>dbfs:/FileStore/yellow/yellow_taxi_2018.parquet</td><td>yellow_taxi_2018.parquet</td><td>2098068908</td><td>1697330947000</td></tr><tr><td>dbfs:/FileStore/yellow/yellow_taxi_2019.parquet</td><td>yellow_taxi_2019.parquet</td><td>1788371641</td><td>1697331060000</td></tr><tr><td>dbfs:/FileStore/yellow/yellow_taxi_2020.parquet</td><td>yellow_taxi_2020.parquet</td><td>533759081</td><td>1697331109000</td></tr><tr><td>dbfs:/FileStore/yellow/yellow_taxi_2021.parquet</td><td>yellow_taxi_2021.parquet</td><td>678942509</td><td>1697331156000</td></tr><tr><td>dbfs:/FileStore/yellow/yellow_taxi_2022.parquet</td><td>yellow_taxi_2022.parquet</td><td>875304042</td><td>1697331214000</td></tr></tbody></table></div>"
      ]
     },
     "metadata": {
      "application/vnd.databricks.v1+output": {
       "addedWidgets": {},
       "aggData": [],
       "aggError": "",
       "aggOverflow": false,
       "aggSchema": [],
       "aggSeriesLimitReached": false,
       "aggType": "",
       "arguments": {},
       "columnCustomDisplayInfos": {},
       "data": [
        [
         "dbfs:/FileStore/yellow/yellow_taxi_2015.parquet",
         "yellow_taxi_2015.parquet",
         2896588873,
         1697330506000
        ],
        [
         "dbfs:/FileStore/yellow/yellow_taxi_2016.parquet",
         "yellow_taxi_2016.parquet",
         2616839324,
         1697330671000
        ],
        [
         "dbfs:/FileStore/yellow/yellow_taxi_2017.parquet",
         "yellow_taxi_2017.parquet",
         2072273391,
         1697330809000
        ],
        [
         "dbfs:/FileStore/yellow/yellow_taxi_2018.parquet",
         "yellow_taxi_2018.parquet",
         2098068908,
         1697330947000
        ],
        [
         "dbfs:/FileStore/yellow/yellow_taxi_2019.parquet",
         "yellow_taxi_2019.parquet",
         1788371641,
         1697331060000
        ],
        [
         "dbfs:/FileStore/yellow/yellow_taxi_2020.parquet",
         "yellow_taxi_2020.parquet",
         533759081,
         1697331109000
        ],
        [
         "dbfs:/FileStore/yellow/yellow_taxi_2021.parquet",
         "yellow_taxi_2021.parquet",
         678942509,
         1697331156000
        ],
        [
         "dbfs:/FileStore/yellow/yellow_taxi_2022.parquet",
         "yellow_taxi_2022.parquet",
         875304042,
         1697331214000
        ]
       ],
       "datasetInfos": [],
       "dbfsResultPath": null,
       "isJsonSchema": true,
       "metadata": {},
       "overflow": false,
       "plotOptions": {
        "customPlotOptions": {},
        "displayType": "table",
        "pivotAggregation": null,
        "pivotColumns": null,
        "xColumns": null,
        "yColumns": null
       },
       "removedWidgets": [],
       "schema": [
        {
         "metadata": "{}",
         "name": "path",
         "type": "\"string\""
        },
        {
         "metadata": "{}",
         "name": "name",
         "type": "\"string\""
        },
        {
         "metadata": "{}",
         "name": "size",
         "type": "\"long\""
        },
        {
         "metadata": "{}",
         "name": "modificationTime",
         "type": "\"long\""
        }
       ],
       "type": "table"
      }
     },
     "output_type": "display_data"
    }
   ],
   "source": [
    "display(dbutils.fs.ls(\"dbfs:/FileStore/yellow\"))"
   ]
  },
  {
   "cell_type": "code",
   "execution_count": 0,
   "metadata": {
    "application/vnd.databricks.v1+cell": {
     "cellMetadata": {
      "byteLimit": 2048000,
      "rowLimit": 10000
     },
     "inputWidgets": {},
     "nuid": "3ae0dfc2-6dc4-4093-9ba9-ecedc645c81a",
     "showTitle": false,
     "title": ""
    }
   },
   "outputs": [
    {
     "output_type": "stream",
     "name": "stdout",
     "output_type": "stream",
     "text": [
      "+--------+--------------------+---------------------+---------------+-------------+----------+------------------+------------+------------+------------+-----------+-----+-------+----------+------------+---------------------+------------+--------------------+-----------+\n|VendorID|tpep_pickup_datetime|tpep_dropoff_datetime|passenger_count|trip_distance|RatecodeID|store_and_fwd_flag|PULocationID|DOLocationID|payment_type|fare_amount|extra|mta_tax|tip_amount|tolls_amount|improvement_surcharge|total_amount|congestion_surcharge|airport_fee|\n+--------+--------------------+---------------------+---------------+-------------+----------+------------------+------------+------------+------------+-----------+-----+-------+----------+------------+---------------------+------------+--------------------+-----------+\n|       1| 2015-01-01 00:11:33|  2015-01-01 00:16:48|            1.0|          1.0|       1.0|                 N|          41|         166|           1|        5.7|  0.5|    0.5|       1.4|         0.0|                  0.0|         8.4|                null|       null|\n|       1| 2015-01-01 00:18:24|  2015-01-01 00:24:20|            1.0|          0.9|       1.0|                 N|         166|         238|           3|        6.0|  0.5|    0.5|       0.0|         0.0|                  0.0|         7.3|                null|       null|\n|       1| 2015-01-01 00:26:19|  2015-01-01 00:41:06|            1.0|          3.5|       1.0|                 N|         238|         162|           1|       13.2|  0.5|    0.5|       2.9|         0.0|                  0.0|        17.4|                null|       null|\n|       1| 2015-01-01 00:45:26|  2015-01-01 00:53:20|            1.0|          2.1|       1.0|                 N|         162|         263|           1|        8.2|  0.5|    0.5|      2.37|         0.0|                  0.0|       11.87|                null|       null|\n|       1| 2015-01-01 00:59:21|  2015-01-01 01:05:24|            1.0|          1.0|       1.0|                 N|         236|         141|           3|        6.0|  0.5|    0.5|       0.0|         0.0|                  0.0|         7.3|                null|       null|\n|       1| 2015-01-01 00:07:31|  2015-01-01 00:11:32|            1.0|          0.8|       1.0|                 N|         239|         238|           2|        5.0|  0.5|    0.5|       0.0|         0.0|                  0.0|         6.3|                null|       null|\n|       1| 2015-01-01 00:47:08|  2015-01-01 00:54:50|            1.0|          1.1|       1.0|                 N|         238|         239|           2|        7.0|  0.5|    0.5|       0.0|         0.0|                  0.0|         8.3|                null|       null|\n|       1| 2015-01-01 00:58:04|  2015-01-01 01:11:56|            1.0|          2.9|       1.0|                 N|         238|          42|           1|       12.2|  0.5|    0.5|       2.7|         0.0|                  0.0|        16.2|                null|       null|\n|       1| 2015-01-01 00:29:25|  2015-01-01 00:37:25|            2.0|          1.3|       1.0|                 N|          90|         125|           2|        7.0|  0.5|    0.5|       0.0|         0.0|                  0.0|         8.3|                null|       null|\n|       1| 2015-01-01 00:39:02|  2015-01-01 01:02:37|            2.0|          4.3|       1.0|                 N|         125|         141|           2|       18.0|  0.5|    0.5|       0.0|         0.0|                  0.0|        19.3|                null|       null|\n|       1| 2015-01-01 00:06:44|  2015-01-01 00:12:37|            2.0|          0.8|       1.0|                 N|         246|          50|           2|        5.5|  0.5|    0.5|       0.0|         0.0|                  0.0|         6.8|                null|       null|\n|       1| 2015-01-01 00:47:48|  2015-01-01 01:03:18|            1.0|          2.7|       1.0|                 N|         246|          79|           1|       11.7|  0.5|    0.5|       1.8|         0.0|                  0.0|        14.8|                null|       null|\n|       1| 2015-01-01 00:29:23|  2015-01-01 00:38:26|            1.0|          2.6|       1.0|                 N|         264|         263|           2|       10.0|  0.5|    0.5|       0.0|         0.0|                  0.0|        11.3|                null|       null|\n|       1| 2015-01-01 00:39:52|  2015-01-01 00:42:49|            1.0|          0.5|       1.0|                 N|         263|         140|           1|        4.0|  0.5|    0.5|      1.05|         0.0|                  0.0|        6.35|                null|       null|\n|       1| 2015-01-01 00:57:41|  2015-01-01 01:10:45|            1.0|          0.4|       1.0|                 N|         161|         162|           2|        9.0|  0.5|    0.5|       0.0|         0.0|                  0.0|        10.3|                null|       null|\n|       1| 2015-01-01 00:02:53|  2015-01-01 00:16:28|            1.0|          5.4|       1.0|                 N|         164|          88|           1|       17.7|  0.5|    0.5|       0.0|         0.0|                  0.0|        19.0|                null|       null|\n|       1| 2015-01-01 00:18:38|  2015-01-01 00:34:33|            1.0|          3.4|       1.0|                 N|          88|         158|           1|       13.2|  0.5|    0.5|       2.9|         0.0|                  0.0|        17.4|                null|       null|\n|       1| 2015-01-01 00:35:34|  2015-01-01 00:58:57|            1.0|          4.4|       1.0|                 N|         158|         145|           1|       18.2|  0.5|    0.5|       3.0|        5.33|                  0.0|       27.83|                null|       null|\n|       2| 2015-01-01 00:16:45|  2015-01-01 00:22:53|            1.0|         1.18|       1.0|                 N|         151|         239|           2|        6.5|  0.5|    0.5|       0.0|         0.0|                  0.3|         7.8|                null|       null|\n|       2| 2015-01-01 00:35:52|  2015-01-01 00:55:51|            1.0|         2.29|       1.0|                 N|         142|         161|           2|       13.5|  0.5|    0.5|       0.0|         0.0|                  0.3|        14.8|                null|       null|\n+--------+--------------------+---------------------+---------------+-------------+----------+------------------+------------+------------+------------+-----------+-----+-------+----------+------------+---------------------+------------+--------------------+-----------+\nonly showing top 20 rows\n\n"
     ]
    }
   ],
   "source": [
    "df_yellow = spark.read.parquet(\"/FileStore/yellow\")\n",
    "df_yellow.show()"
   ]
  }
 ],
 "metadata": {
  "application/vnd.databricks.v1+notebook": {
   "dashboards": [],
   "language": "python",
   "notebookMetadata": {
    "mostRecentlyExecutedCommandWithImplicitDF": {
     "commandId": 3102190656418397,
     "dataframes": [
      "_sqldf"
     ]
    },
    "pythonIndentUnit": 4
   },
   "notebookName": "Download Taxi Dataset from Google Drive",
   "widgets": {}
  }
 },
 "nbformat": 4,
 "nbformat_minor": 0
}
